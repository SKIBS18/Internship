{
 "cells": [
  {
   "cell_type": "code",
   "execution_count": 4,
   "metadata": {
    "colab": {
     "base_uri": "https://localhost:8080/",
     "height": 51
    },
    "colab_type": "code",
    "id": "j5BoNJLr3ZnZ",
    "outputId": "610ee0e9-6213-487f-fd39-ef265d866f39"
   },
   "outputs": [
    {
     "name": "stdout",
     "output_type": "stream",
     "text": [
      "[nltk_data] Downloading package stopwords to /root/nltk_data...\n",
      "[nltk_data]   Unzipping corpora/stopwords.zip.\n"
     ]
    }
   ],
   "source": [
    "import pandas as pd\n",
    "import numpy as np\n",
    "import nltk, re\n",
    "nltk.download('stopwords') # load english stopwords\n",
    "from nltk.corpus import stopwords\n",
    "from sklearn.model_selection import train_test_split\n",
    "import warnings\n",
    "warnings.simplefilter(\"ignore\")\n",
    "warnings.warn(\"deprecated\", DeprecationWarning)\n",
    "warnings.simplefilter(\"ignore\")"
   ]
  },
  {
   "cell_type": "code",
   "execution_count": 1,
   "metadata": {
    "colab": {
     "base_uri": "https://localhost:8080/",
     "height": 122
    },
    "colab_type": "code",
    "id": "4uO6Xyhr6WSJ",
    "outputId": "7abdb746-0592-46ac-eb0f-1167b07a8727"
   },
   "outputs": [
    {
     "name": "stdout",
     "output_type": "stream",
     "text": [
      "Go to this URL in a browser: https://accounts.google.com/o/oauth2/auth?client_id=947318989803-6bn6qk8qdgf4n4g3pfee6491hc0brc4i.apps.googleusercontent.com&redirect_uri=urn%3aietf%3awg%3aoauth%3a2.0%3aoob&scope=email%20https%3a%2f%2fwww.googleapis.com%2fauth%2fdocs.test%20https%3a%2f%2fwww.googleapis.com%2fauth%2fdrive%20https%3a%2f%2fwww.googleapis.com%2fauth%2fdrive.photos.readonly%20https%3a%2f%2fwww.googleapis.com%2fauth%2fpeopleapi.readonly&response_type=code\n",
      "\n",
      "Enter your authorization code:\n",
      "··········\n",
      "Mounted at /content/drive\n"
     ]
    }
   ],
   "source": [
    "from google.colab import drive\n",
    "drive.mount('/content/drive')"
   ]
  },
  {
   "cell_type": "code",
   "execution_count": 2,
   "metadata": {
    "colab": {
     "base_uri": "https://localhost:8080/",
     "height": 34
    },
    "colab_type": "code",
    "id": "ojcVrsN53nZ5",
    "outputId": "41b8c876-243f-4d4e-af20-aa86b1f92597"
   },
   "outputs": [
    {
     "name": "stdout",
     "output_type": "stream",
     "text": [
      "Done\n"
     ]
    }
   ],
   "source": [
    "from zipfile import ZipFile\n",
    "file_name=\"/content/drive/My Drive/Colab Notebooks/Assignment 8(sentiment prediction)/Project_1.zip\"\n",
    "\n",
    "with ZipFile(file_name,'r') as zip:\n",
    "  zip.extractall()\n",
    "  print('Done')"
   ]
  },
  {
   "cell_type": "code",
   "execution_count": 5,
   "metadata": {
    "colab": {},
    "colab_type": "code",
    "id": "MQcoXhG53Zno"
   },
   "outputs": [],
   "source": [
    "train= pd.read_csv(r\"/content/train.csv\")"
   ]
  },
  {
   "cell_type": "code",
   "execution_count": 47,
   "metadata": {
    "colab": {},
    "colab_type": "code",
    "id": "lnAR4uhc3Zn0"
   },
   "outputs": [],
   "source": [
    "test= pd.read_csv(r\"/content/test.csv\")"
   ]
  },
  {
   "cell_type": "code",
   "execution_count": 58,
   "metadata": {
    "colab": {
     "base_uri": "https://localhost:8080/",
     "height": 204
    },
    "colab_type": "code",
    "id": "Cq6CdZn_3Zn7",
    "outputId": "063be088-ac26-48b1-b020-ddeae446f63f"
   },
   "outputs": [
    {
     "data": {
      "text/html": [
       "<div>\n",
       "<style scoped>\n",
       "    .dataframe tbody tr th:only-of-type {\n",
       "        vertical-align: middle;\n",
       "    }\n",
       "\n",
       "    .dataframe tbody tr th {\n",
       "        vertical-align: top;\n",
       "    }\n",
       "\n",
       "    .dataframe thead th {\n",
       "        text-align: right;\n",
       "    }\n",
       "</style>\n",
       "<table border=\"1\" class=\"dataframe\">\n",
       "  <thead>\n",
       "    <tr style=\"text-align: right;\">\n",
       "      <th></th>\n",
       "      <th>User_ID</th>\n",
       "      <th>Description</th>\n",
       "      <th>Browser_Used</th>\n",
       "      <th>Device_Used</th>\n",
       "      <th>Is_Response</th>\n",
       "    </tr>\n",
       "  </thead>\n",
       "  <tbody>\n",
       "    <tr>\n",
       "      <th>0</th>\n",
       "      <td>id10326</td>\n",
       "      <td>The room was kind of clean but had a VERY stro...</td>\n",
       "      <td>Edge</td>\n",
       "      <td>Mobile</td>\n",
       "      <td>not happy</td>\n",
       "    </tr>\n",
       "    <tr>\n",
       "      <th>1</th>\n",
       "      <td>id10327</td>\n",
       "      <td>I stayed at the Crown Plaza April -- - April -...</td>\n",
       "      <td>Internet Explorer</td>\n",
       "      <td>Mobile</td>\n",
       "      <td>not happy</td>\n",
       "    </tr>\n",
       "    <tr>\n",
       "      <th>2</th>\n",
       "      <td>id10328</td>\n",
       "      <td>I booked this hotel through Hotwire at the low...</td>\n",
       "      <td>Mozilla</td>\n",
       "      <td>Tablet</td>\n",
       "      <td>not happy</td>\n",
       "    </tr>\n",
       "    <tr>\n",
       "      <th>3</th>\n",
       "      <td>id10329</td>\n",
       "      <td>Stayed here with husband and sons on the way t...</td>\n",
       "      <td>InternetExplorer</td>\n",
       "      <td>Desktop</td>\n",
       "      <td>happy</td>\n",
       "    </tr>\n",
       "    <tr>\n",
       "      <th>4</th>\n",
       "      <td>id10330</td>\n",
       "      <td>My girlfriends and I stayed here to celebrate ...</td>\n",
       "      <td>Edge</td>\n",
       "      <td>Tablet</td>\n",
       "      <td>not happy</td>\n",
       "    </tr>\n",
       "  </tbody>\n",
       "</table>\n",
       "</div>"
      ],
      "text/plain": [
       "   User_ID  ... Is_Response\n",
       "0  id10326  ...   not happy\n",
       "1  id10327  ...   not happy\n",
       "2  id10328  ...   not happy\n",
       "3  id10329  ...       happy\n",
       "4  id10330  ...   not happy\n",
       "\n",
       "[5 rows x 5 columns]"
      ]
     },
     "execution_count": 58,
     "metadata": {
      "tags": []
     },
     "output_type": "execute_result"
    }
   ],
   "source": [
    "train.head()"
   ]
  },
  {
   "cell_type": "code",
   "execution_count": 59,
   "metadata": {
    "colab": {
     "base_uri": "https://localhost:8080/",
     "height": 68
    },
    "colab_type": "code",
    "id": "BvTn1mn3Fhjc",
    "outputId": "13e568b6-1c38-4ba8-ff15-3dd89a0f1dbb"
   },
   "outputs": [
    {
     "data": {
      "text/plain": [
       "happy        26521\n",
       "not happy    12411\n",
       "Name: Is_Response, dtype: int64"
      ]
     },
     "execution_count": 59,
     "metadata": {
      "tags": []
     },
     "output_type": "execute_result"
    }
   ],
   "source": [
    "import seaborn as sns\n",
    "train['Is_Response'].value_counts()"
   ]
  },
  {
   "cell_type": "code",
   "execution_count": 73,
   "metadata": {
    "colab": {
     "base_uri": "https://localhost:8080/",
     "height": 297
    },
    "colab_type": "code",
    "id": "QndauT5NFh3Z",
    "outputId": "0e67aeff-0a30-45b0-ebc1-d3d47f87e863"
   },
   "outputs": [
    {
     "data": {
      "text/plain": [
       "<matplotlib.axes._subplots.AxesSubplot at 0x7f15c74b59b0>"
      ]
     },
     "execution_count": 73,
     "metadata": {
      "tags": []
     },
     "output_type": "execute_result"
    },
    {
     "data": {
      "image/png": "[encoded data removed]",
      "text/plain": [
       "<Figure size 432x288 with 1 Axes>"
      ]
     },
     "metadata": {
      "needs_background": "light",
      "tags": []
     },
     "output_type": "display_data"
    }
   ],
   "source": [
    "sns.countplot(x=train['Is_Response'])"
   ]
  },
  {
   "cell_type": "markdown",
   "metadata": {
    "colab_type": "text",
    "id": "sVfLAptEJHlX"
   },
   "source": [
    "Almost double the no of happy people than unhappy "
   ]
  },
  {
   "cell_type": "code",
   "execution_count": 65,
   "metadata": {
    "colab": {
     "base_uri": "https://localhost:8080/",
     "height": 297
    },
    "colab_type": "code",
    "id": "pV2M_82vGIB_",
    "outputId": "8969c19c-8875-42d8-acdb-f4164c490d6c"
   },
   "outputs": [
    {
     "data": {
      "text/plain": [
       "<matplotlib.axes._subplots.AxesSubplot at 0x7f15c7533390>"
      ]
     },
     "execution_count": 65,
     "metadata": {
      "tags": []
     },
     "output_type": "execute_result"
    },
    {
     "data": {
      "image/png": "[encoded data removed]",
      "text/plain": [
       "<Figure size 432x288 with 1 Axes>"
      ]
     },
     "metadata": {
      "needs_background": "light",
      "tags": []
     },
     "output_type": "display_data"
    }
   ],
   "source": [
    "sns.countplot(train['Device_Used'])"
   ]
  },
  {
   "cell_type": "markdown",
   "metadata": {
    "colab_type": "text",
    "id": "zPP-_lKNH1LB"
   },
   "source": [
    "Most of the the people uses mobile or destop to write review"
   ]
  },
  {
   "cell_type": "code",
   "execution_count": 71,
   "metadata": {
    "colab": {
     "base_uri": "https://localhost:8080/",
     "height": 529
    },
    "colab_type": "code",
    "id": "3YH7OZsiGWfF",
    "outputId": "6c6a4c42-fa5b-44fe-f4ee-1bdec05b5853"
   },
   "outputs": [
    {
     "data": {
      "text/plain": [
       "<matplotlib.axes._subplots.AxesSubplot at 0x7f15c7573ef0>"
      ]
     },
     "execution_count": 71,
     "metadata": {
      "tags": []
     },
     "output_type": "execute_result"
    },
    {
     "data": {
      "image/png": "[encoded data removed]",
      "text/plain": [
       "<Figure size 842.4x595.44 with 1 Axes>"
      ]
     },
     "metadata": {
      "needs_background": "light",
      "tags": []
     },
     "output_type": "display_data"
    }
   ],
   "source": [
    "a4_dims = (11.7, 8.27)\n",
    "from matplotlib import pyplot\n",
    "\n",
    "fig, ax = pyplot.subplots(figsize=a4_dims)\n",
    "sns.countplot(ax=ax,x=train['Browser_Used'])"
   ]
  },
  {
   "cell_type": "markdown",
   "metadata": {
    "colab_type": "text",
    "id": "Ajw3uzx6IGaU"
   },
   "source": [
    "Most  no of people using Mozilla\tFirefox "
   ]
  },
  {
   "cell_type": "code",
   "execution_count": null,
   "metadata": {
    "colab": {},
    "colab_type": "code",
    "id": "FNZb_PZU3ZoE"
   },
   "outputs": [],
   "source": [
    "#!pip install lightgbm"
   ]
  },
  {
   "cell_type": "code",
   "execution_count": 8,
   "metadata": {
    "colab": {},
    "colab_type": "code",
    "id": "hGrXdtMZ3ZoM"
   },
   "outputs": [],
   "source": [
    "# 70-30% random split of dataset\n",
    "X_train, X_test, y_train, y_test = train_test_split(train['Description'].values, train['Is_Response'].values, test_size=0.2, random_state=42)\n"
   ]
  },
  {
   "cell_type": "code",
   "execution_count": 9,
   "metadata": {
    "colab": {},
    "colab_type": "code",
    "id": "N70l9pYD3ZoX"
   },
   "outputs": [],
   "source": [
    "X_train= train[\"Description\"].values\n",
    "y_train= train[\"Is_Response\"].values"
   ]
  },
  {
   "cell_type": "code",
   "execution_count": 10,
   "metadata": {
    "colab": {
     "base_uri": "https://localhost:8080/",
     "height": 51
    },
    "colab_type": "code",
    "id": "WjH4Z_Ug3Zof",
    "outputId": "d5c22e1a-4367-4fd9-97ee-d31e9f76dd8e"
   },
   "outputs": [
    {
     "data": {
      "text/plain": [
       "array(['not happy', 'not happy', 'not happy', ..., 'not happy',\n",
       "       'not happy', 'happy'], dtype=object)"
      ]
     },
     "execution_count": 10,
     "metadata": {
      "tags": []
     },
     "output_type": "execute_result"
    }
   ],
   "source": [
    "y_train"
   ]
  },
  {
   "cell_type": "code",
   "execution_count": 11,
   "metadata": {
    "colab": {
     "base_uri": "https://localhost:8080/",
     "height": 51
    },
    "colab_type": "code",
    "id": "9MEDfMVg3Zon",
    "outputId": "3fdbe082-3331-4fee-fca7-387bca2b1248"
   },
   "outputs": [
    {
     "name": "stdout",
     "output_type": "stream",
     "text": [
      "sql server equivalent excels choose function\n",
      "free c++ memory vectorint arr\n"
     ]
    }
   ],
   "source": [
    "REPLACE_BY_SPACE_RE = re.compile('[/(){}\\[\\]\\|@,;]')\n",
    "BAD_SYMBOLS_RE = re.compile('[^0-9a-z #+_]')\n",
    "STOPWORDS = list((stopwords.words('english')))\n",
    "\n",
    "def text_prepare(text,join_sumbol):\n",
    "    \"\"\"\n",
    "        text: a string\n",
    "        \n",
    "        return: modified initial string\n",
    "    \"\"\"\n",
    "    # lowercase text\n",
    "    \n",
    "    text = text.lower() \n",
    "\n",
    "    # replace REPLACE_BY_SPACE_RE symbols by space in text\n",
    "    text = re.sub(REPLACE_BY_SPACE_RE,\" \",text,)\n",
    "\n",
    "    # delete symbols which are in BAD_SYMBOLS_RE from text\n",
    "    text = re.sub(BAD_SYMBOLS_RE,\"\",text)\n",
    "    text = re.sub(r'\\s+',\" \",text)\n",
    "\n",
    "    # delete stopwords from text\n",
    "    text = f'{join_sumbol}'.join([i for i in text.split() if i not in STOPWORDS])\n",
    "    \n",
    "    return text\n",
    "\n",
    "tests = [\"SQL Server - any equivalent of Excel's CHOOSE function?\",\n",
    "        \"How to free c++ memory vector<int> * arr?\"]\n",
    "for test in tests: print(text_prepare(test,' '))"
   ]
  },
  {
   "cell_type": "code",
   "execution_count": 12,
   "metadata": {
    "colab": {},
    "colab_type": "code",
    "id": "MBvFkMz-3Zo9"
   },
   "outputs": [],
   "source": [
    "X_train = [text_prepare(x,' ') for x in X_train]\n",
    "X_test = [text_prepare(x,' ') for x in X_test]\n",
    "#y_train = [text_prepare(x,',') for x in y_train]\n",
    "#y_test = [text_prepare(x,',') for x in y_test]"
   ]
  },
  {
   "cell_type": "code",
   "execution_count": 13,
   "metadata": {
    "colab": {
     "base_uri": "https://localhost:8080/",
     "height": 51
    },
    "colab_type": "code",
    "id": "ZDZIlmDw3ZpF",
    "outputId": "57e066c4-f3b1-4a76-d4fb-45a946acff76"
   },
   "outputs": [
    {
     "name": "stdout",
     "output_type": "stream",
     "text": [
      "Top three most popular tags are: happy,not happy\n",
      "Top three most popular words are: hotel,room,stay\n"
     ]
    }
   ],
   "source": [
    "from collections import Counter\n",
    "from itertools import chain\n",
    "\n",
    "# Dictionary of all tags from train corpus with their counts.\n",
    "tags_counts = Counter(chain.from_iterable([i.split(\",\") for i in y_train]))\n",
    "\n",
    "# Dictionary of all words from train corpus with their counts.\n",
    "words_counts = Counter(chain.from_iterable([i.split(\" \") for i in X_train]))\n",
    "\n",
    "top_3_most_common_tags = sorted(tags_counts.items(), key=lambda x: x[1], reverse=True)[:3]\n",
    "top_3_most_common_words = sorted(words_counts.items(), key=lambda x: x[1], reverse=True)[:3]\n",
    "\n",
    "print(f\"Top three most popular tags are: {','.join(tag for tag, _ in top_3_most_common_tags)}\")\n",
    "print(f\"Top three most popular words are: {','.join(tag for tag, _ in top_3_most_common_words)}\")"
   ]
  },
  {
   "cell_type": "code",
   "execution_count": 14,
   "metadata": {
    "colab": {},
    "colab_type": "code",
    "id": "GXOCEZbC3ZpM"
   },
   "outputs": [],
   "source": [
    "# We considered only the top 5,000 words, this parameter can be fine-tuned\n",
    "DICT_SIZE = 5000\n",
    "WORDS_TO_INDEX = {j[0]:i for i,j in enumerate(sorted(words_counts.items(), key=lambda x: x[1], reverse=True)[:DICT_SIZE])}\n",
    "INDEX_TO_WORDS = {i:j[0] for i,j in enumerate(sorted(words_counts.items(), key=lambda x: x[1], reverse=True)[:DICT_SIZE])}\n",
    "ALL_WORDS = WORDS_TO_INDEX.keys()\n",
    "\n",
    "def my_bag_of_words(text, words_to_index, dict_size):\n",
    "    \"\"\"\n",
    "        text: a string\n",
    "        dict_size: size of the dictionary\n",
    "        \n",
    "        return a vector which is a bag-of-words representation of 'text'\n",
    "    \"\"\"\n",
    "    result_vector = np.zeros(dict_size)\n",
    "    keys= [words_to_index[i] for i in text.split(\" \") if i in words_to_index.keys()]\n",
    "    result_vector[keys]=1\n",
    "    return result_vector"
   ]
  },
  {
   "cell_type": "code",
   "execution_count": 15,
   "metadata": {
    "colab": {},
    "colab_type": "code",
    "id": "u8J_nOFx3ZpT"
   },
   "outputs": [],
   "source": [
    "from scipy import sparse as sp_sparse"
   ]
  },
  {
   "cell_type": "code",
   "execution_count": 16,
   "metadata": {
    "colab": {
     "base_uri": "https://localhost:8080/",
     "height": 51
    },
    "colab_type": "code",
    "id": "vBYTIivf3Zpc",
    "outputId": "ec349fee-2550-424a-a566-dc348ce077a4"
   },
   "outputs": [
    {
     "name": "stdout",
     "output_type": "stream",
     "text": [
      "X_train shape  (38932, 5000)\n",
      "X_test shape  (7787, 5000)\n"
     ]
    }
   ],
   "source": [
    "X_train_mybag = sp_sparse.vstack([sp_sparse.csr_matrix(my_bag_of_words(text, WORDS_TO_INDEX, DICT_SIZE)) for text in X_train])\n",
    "X_test_mybag = sp_sparse.vstack([sp_sparse.csr_matrix(my_bag_of_words(text, WORDS_TO_INDEX, DICT_SIZE)) for text in X_test])\n",
    "print('X_train shape ', X_train_mybag.shape)\n",
    "print('X_test shape ', X_test_mybag.shape)"
   ]
  },
  {
   "cell_type": "code",
   "execution_count": 17,
   "metadata": {
    "colab": {},
    "colab_type": "code",
    "id": "khrx4vJR3Zpk"
   },
   "outputs": [],
   "source": [
    "from sklearn.feature_extraction.text import TfidfVectorizer\n",
    "\n",
    "def tfidf_features(X_train, X_test):\n",
    "    \"\"\"\n",
    "        X_train, X_val, X_test — samples        \n",
    "        return bag-of-words representation of each sample and vocabulary\n",
    "    \"\"\"\n",
    "    # Create TF-IDF vectorizer with a proper parameters choice\n",
    "    # Fit the vectorizer on the train set\n",
    "    # Transform the train, test, and val sets and return the result\n",
    "    \n",
    "    \n",
    "    tfidf_vectorizer = TfidfVectorizer(X_train,ngram_range=(1,2),max_df=0.9,min_df=5,token_pattern=r'(\\S+)' )\n",
    "    tfidf_vectorizer.fit(X_train)\n",
    "    X_train = tfidf_vectorizer.transform(X_train)\n",
    "    X_test = tfidf_vectorizer.transform(X_test)\n",
    "    \n",
    "    return X_train, X_test, tfidf_vectorizer.vocabulary_\n",
    "\n",
    "X_train_tfidf, X_test_tfidf, tfidf_vocab = tfidf_features(X_train, X_test)\n",
    "tfidf_reversed_vocab = {i:word for word,i in tfidf_vocab.items()}"
   ]
  },
  {
   "cell_type": "code",
   "execution_count": null,
   "metadata": {
    "colab": {},
    "colab_type": "code",
    "id": "EbM_q_rR3Zps"
   },
   "outputs": [],
   "source": [
    "#!pip install lightgbm"
   ]
  },
  {
   "cell_type": "code",
   "execution_count": 20,
   "metadata": {
    "colab": {
     "base_uri": "https://localhost:8080/",
     "height": 85
    },
    "colab_type": "code",
    "id": "ENZsaLRP3Zp1",
    "outputId": "c74d2545-8c02-40c3-d045-b3c59e4ab85b"
   },
   "outputs": [
    {
     "name": "stdout",
     "output_type": "stream",
     "text": [
      "CPU times: user 118 ms, sys: 3 ms, total: 121 ms\n",
      "Wall time: 126 ms\n",
      "CPU times: user 144 ms, sys: 989 µs, total: 145 ms\n",
      "Wall time: 144 ms\n"
     ]
    }
   ],
   "source": [
    "# For multiclass classification\n",
    "from sklearn.multiclass import OneVsRestClassifier\n",
    "\n",
    "# Models\n",
    "from sklearn.linear_model import LogisticRegression\n",
    "from sklearn.discriminant_analysis import LinearDiscriminantAnalysis\n",
    "from sklearn.svm import LinearSVC\n",
    "from sklearn.naive_bayes import MultinomialNB\n",
    "#from lightgbm import LGBMClassifier\n",
    "from sklearn.linear_model import SGDClassifier\n",
    "\n",
    "def train_classifier(X_train, y_train, X_valid=None, y_valid=None, C=1.0, model='lr'):\n",
    "    \"\"\"\n",
    "      X_train, y_train — training data\n",
    "      \n",
    "      return: trained classifier\n",
    "      \n",
    "    \"\"\"\n",
    "    \n",
    "    if model=='lr':\n",
    "        model = LogisticRegression(C=C, penalty='l1', dual=False, solver='liblinear')\n",
    "        #model = OneVsRestClassifier(model)\n",
    "        model.fit(X_train, y_train)\n",
    "    \n",
    "    elif model=='svm':\n",
    "        model = LinearSVC(C=C, penalty='l1', dual=False, loss='squared_hinge')\n",
    "        #model = OneVsRestClassifier(model)\n",
    "        model.fit(X_train, y_train)\n",
    "    \n",
    "    elif model=='nbayes':\n",
    "        model = MultinomialNB(alpha=1.0)\n",
    "        #model = OneVsRestClassifier(model)\n",
    "        model.fit(X_train, y_train)\n",
    "        \n",
    "    elif model=='sdg':\n",
    "        model = SGDClassifier(loss='hinge')\n",
    "        #model = OneVsRestClassifier(model)\n",
    "        model.fit(X_train, y_train)\n",
    "\n",
    "    return model\n",
    "\n",
    "# Train the classifiers for different data transformations: bag-of-words and tf-idf.\n",
    "\n",
    "# Linear NLP model using bag of words approach\n",
    "%time classifier_mybag = train_classifier(X_train_mybag, y_train, C=1.0, model='nbayes')\n",
    "\n",
    "# Linear NLP model using TF-IDF approach\n",
    "%time classifier_tfidf = train_classifier(X_train_tfidf, y_train, C=1.0, model='nbayes')"
   ]
  },
  {
   "cell_type": "code",
   "execution_count": 21,
   "metadata": {
    "colab": {},
    "colab_type": "code",
    "id": "U9XSoHq33Zp9"
   },
   "outputs": [],
   "source": [
    "y_test_predicted_labels_mybag = classifier_mybag.predict(X_test_mybag)\n",
    "\n",
    "y_test_predicted_labels_tfidf = classifier_tfidf.predict(X_test_tfidf)"
   ]
  },
  {
   "cell_type": "code",
   "execution_count": 22,
   "metadata": {
    "colab": {
     "base_uri": "https://localhost:8080/",
     "height": 292
    },
    "colab_type": "code",
    "id": "b_UNVy663ZqH",
    "outputId": "df883873-0f37-461b-def3-a5d331a88f94"
   },
   "outputs": [
    {
     "name": "stdout",
     "output_type": "stream",
     "text": [
      "Title:\tarrived received upgraded room charge construction across street disruptive went spoke jennifer front desk immediately offered give us another room located end hotel personally showed us room ensure happy also helpful recommending local shows attractions thank jennifer\n",
      "True labels:\th,a,p,p,y\n",
      "Predicted labels:\th,a,p,p,y\n",
      "\n",
      "\n",
      "Title:\tread reviews affinia gardens good really wasnt sure expect boy pleasantly surprised first room immaculate little fussy comes cleanliness place spotless four ladies sharing room recipe distaster right room different areas makeup area separate mirror near bathroom kitchenette wonderful bagel coffee left classes reason didnt rank five location take cab times square place real gem\n",
      "True labels:\th,a,p,p,y\n",
      "Predicted labels:\th,a,p,p,y\n",
      "\n",
      "\n",
      "Title:\tnew husband stayed hotel th november nights booked hotel direct based reasonable room rate nyc excellent reviews tripadvisor arrived yellow cab greeted lovely welcoming staff advised upon booking almost year departing would honey moon kindly upgraded us lower floor queen room superior highest floor possible view empire state building left view hudson right perfect reception also sent couple cupcakes room note written offering congratulations lovely hotel rooms per floor rooms access floor lift swiping door key lift isnt constant flow people coming going rooms noisy etc etc room nicely decorated enough room bathroom modern lovely shower hotel isnt nicest new york roads lets face walk hotel explore city back road hotel nights sleep enough worry couple seedy shops reception free coffee mornings warm apple afternoon added extra could grab takeaway coffeeapple head destination hotel apporx mins times square far really loved feeling boutique style hotel loved fact bit undiscovered gem always recommend hotel nyc\n",
      "True labels:\th,a,p,p,y\n",
      "Predicted labels:\th,a,p,p,y\n",
      "\n",
      "\n"
     ]
    }
   ],
   "source": [
    "y_test_pred_inversed = y_test_predicted_labels_tfidf\n",
    "y_test_inversed = y_test\n",
    "for i in range(3):\n",
    "    print('Title:\\t{}\\nTrue labels:\\t{}\\nPredicted labels:\\t{}\\n\\n'.format(\n",
    "        X_test[i],\n",
    "        ','.join(y_test_inversed[i]),\n",
    "        ','.join(y_test_pred_inversed[i])\n",
    "    ))"
   ]
  },
  {
   "cell_type": "code",
   "execution_count": 23,
   "metadata": {
    "colab": {},
    "colab_type": "code",
    "id": "e-WyQqk03ZqP"
   },
   "outputs": [],
   "source": [
    "import sklearn.metrics as metrics\n",
    "from sklearn.metrics import accuracy_score, f1_score, precision_score, recall_score, classification_report, confusion_matrix"
   ]
  },
  {
   "cell_type": "code",
   "execution_count": 24,
   "metadata": {
    "colab": {
     "base_uri": "https://localhost:8080/",
     "height": 204
    },
    "colab_type": "code",
    "id": "TC3xf0nT3ZqV",
    "outputId": "70f8e3b1-cb0c-4f96-c78f-bbd0391505a0"
   },
   "outputs": [
    {
     "name": "stdout",
     "output_type": "stream",
     "text": [
      "\t\t\t\tCLASSIFICATIION METRICS TF-IDF\n",
      "\n",
      "              precision    recall  f1-score   support\n",
      "\n",
      "       happy       0.86      0.99      0.92      5285\n",
      "   not happy       0.96      0.65      0.78      2502\n",
      "\n",
      "    accuracy                           0.88      7787\n",
      "   macro avg       0.91      0.82      0.85      7787\n",
      "weighted avg       0.89      0.88      0.87      7787\n",
      "\n"
     ]
    }
   ],
   "source": [
    "print('\\t\\t\\t\\tCLASSIFICATIION METRICS TF-IDF\\n')\n",
    "print(metrics.classification_report(y_test,  y_test_pred_inversed\n",
    "                                    ))"
   ]
  },
  {
   "cell_type": "code",
   "execution_count": 27,
   "metadata": {
    "colab": {
     "base_uri": "https://localhost:8080/",
     "height": 51
    },
    "colab_type": "code",
    "id": "Yh4IZwpF3Zqk",
    "outputId": "a4fb40e9-46a4-42c9-9b17-63b506d4d16c"
   },
   "outputs": [
    {
     "data": {
      "text/plain": [
       "array(['happy', 'happy', 'happy', ..., 'happy', 'happy', 'happy'],\n",
       "      dtype='<U9')"
      ]
     },
     "execution_count": 27,
     "metadata": {
      "tags": []
     },
     "output_type": "execute_result"
    }
   ],
   "source": [
    "# Final model\n",
    "C = 0.7\n",
    "classifier = train_classifier(X_train_tfidf, y_train, C=C, model='nbayes')\n",
    "\n",
    "# Results\n",
    "test_predictions =  classifier.predict(X_test_tfidf)\n",
    "test_pred_inversed =test_predictions\n",
    "\n",
    "test_pred_inversed"
   ]
  },
  {
   "cell_type": "code",
   "execution_count": 28,
   "metadata": {
    "colab": {},
    "colab_type": "code",
    "id": "LQKid1kW3Zqu"
   },
   "outputs": [],
   "source": [
    "#Creating Pipelines\n",
    "from sklearn.pipeline import Pipeline"
   ]
  },
  {
   "cell_type": "code",
   "execution_count": 30,
   "metadata": {
    "colab": {},
    "colab_type": "code",
    "id": "cQSTKhx03Zq2"
   },
   "outputs": [],
   "source": [
    "from sklearn.preprocessing import FunctionTransformer\n",
    "textclf = FunctionTransformer(text_prepare)\n",
    "tfidf= FunctionTransformer(TfidfVectorizer(X_train,ngram_range=(1,2),max_df=0.9,min_df=5,token_pattern=r'(\\S+)' ))"
   ]
  },
  {
   "cell_type": "code",
   "execution_count": 31,
   "metadata": {
    "colab": {},
    "colab_type": "code",
    "id": "UZShk1yB3Zq_"
   },
   "outputs": [],
   "source": [
    "from sklearn.feature_extraction.text import TfidfTransformer, CountVectorizer"
   ]
  },
  {
   "cell_type": "code",
   "execution_count": 32,
   "metadata": {
    "colab": {},
    "colab_type": "code",
    "id": "tlLnddQY3ZrG"
   },
   "outputs": [],
   "source": [
    "pipeline = Pipeline([\n",
    "    #('txtcla', textclf),\n",
    "    ('vect', CountVectorizer(ngram_range=(1,2),max_df=0.9,min_df=5,token_pattern=r'(\\S+)')),\n",
    "    ('tfidf', TfidfTransformer()),\n",
    "    ('clf', LinearSVC(loss='l2', penalty='l1', dual=False,class_weight='balanced',verbose=0,max_iter=3))\n",
    "])"
   ]
  },
  {
   "cell_type": "code",
   "execution_count": 33,
   "metadata": {
    "colab": {},
    "colab_type": "code",
    "id": "yJTId0Tg3ZrP"
   },
   "outputs": [],
   "source": [
    "param_grid = {\n",
    "    'vect__max_df':[0.8,0.9,1.0],\n",
    "    'clf__C':[0.5,0.6,0.7,0.8,0.9,1.0]\n",
    "}"
   ]
  },
  {
   "cell_type": "code",
   "execution_count": 34,
   "metadata": {
    "colab": {},
    "colab_type": "code",
    "id": "VhhVT3N43ZrU"
   },
   "outputs": [],
   "source": [
    "from sklearn.model_selection import GridSearchCV"
   ]
  },
  {
   "cell_type": "code",
   "execution_count": 35,
   "metadata": {
    "colab": {
     "base_uri": "https://localhost:8080/",
     "height": 578
    },
    "colab_type": "code",
    "id": "ZcDzvZCR3ZrZ",
    "outputId": "18732a36-e1a6-4bbd-e01d-75aeee217d37"
   },
   "outputs": [
    {
     "data": {
      "text/plain": [
       "GridSearchCV(cv=5, error_score=nan,\n",
       "             estimator=Pipeline(memory=None,\n",
       "                                steps=[('vect',\n",
       "                                        CountVectorizer(analyzer='word',\n",
       "                                                        binary=False,\n",
       "                                                        decode_error='strict',\n",
       "                                                        dtype=<class 'numpy.int64'>,\n",
       "                                                        encoding='utf-8',\n",
       "                                                        input='content',\n",
       "                                                        lowercase=True,\n",
       "                                                        max_df=0.9,\n",
       "                                                        max_features=None,\n",
       "                                                        min_df=5,\n",
       "                                                        ngram_range=(1, 2),\n",
       "                                                        preprocessor=None,\n",
       "                                                        stop_words=None,\n",
       "                                                        strip_accents=None,\n",
       "                                                        token_pattern='(\\\\S...\n",
       "                                                  class_weight='balanced',\n",
       "                                                  dual=False,\n",
       "                                                  fit_intercept=True,\n",
       "                                                  intercept_scaling=1,\n",
       "                                                  loss='l2', max_iter=3,\n",
       "                                                  multi_class='ovr',\n",
       "                                                  penalty='l1',\n",
       "                                                  random_state=None, tol=0.0001,\n",
       "                                                  verbose=0))],\n",
       "                                verbose=False),\n",
       "             iid='deprecated', n_jobs=-1,\n",
       "             param_grid={'clf__C': [0.5, 0.6, 0.7, 0.8, 0.9, 1.0],\n",
       "                         'vect__max_df': [0.8, 0.9, 1.0]},\n",
       "             pre_dispatch='2*n_jobs', refit=True, return_train_score=False,\n",
       "             scoring=None, verbose=0)"
      ]
     },
     "execution_count": 35,
     "metadata": {
      "tags": []
     },
     "output_type": "execute_result"
    }
   ],
   "source": [
    "grid = GridSearchCV(pipeline,param_grid, n_jobs=-1, verbose=0,refit=True,cv=5)\n",
    "grid.fit(X_train,y_train)"
   ]
  },
  {
   "cell_type": "code",
   "execution_count": 36,
   "metadata": {
    "colab": {
     "base_uri": "https://localhost:8080/",
     "height": 34
    },
    "colab_type": "code",
    "id": "RXQoMUWr3Zrh",
    "outputId": "a9e41ab8-621b-40d6-a41a-f87c33e2e0f1"
   },
   "outputs": [
    {
     "data": {
      "text/plain": [
       "{'clf__C': 0.5, 'vect__max_df': 1.0}"
      ]
     },
     "execution_count": 36,
     "metadata": {
      "tags": []
     },
     "output_type": "execute_result"
    }
   ],
   "source": [
    "grid.best_params_"
   ]
  },
  {
   "cell_type": "code",
   "execution_count": 37,
   "metadata": {
    "colab": {},
    "colab_type": "code",
    "id": "uHPcUX_A3Zrp"
   },
   "outputs": [],
   "source": [
    "ss=grid.predict(X_test)"
   ]
  },
  {
   "cell_type": "code",
   "execution_count": 40,
   "metadata": {
    "colab": {
     "base_uri": "https://localhost:8080/",
     "height": 170
    },
    "colab_type": "code",
    "id": "sOQfx--b3Zry",
    "outputId": "c3228dfe-5e4f-4473-d15e-4cb1dcad94ca"
   },
   "outputs": [
    {
     "name": "stdout",
     "output_type": "stream",
     "text": [
      "              precision    recall  f1-score   support\n",
      "\n",
      "       happy       0.96      0.91      0.93      5285\n",
      "   not happy       0.83      0.91      0.87      2502\n",
      "\n",
      "    accuracy                           0.91      7787\n",
      "   macro avg       0.89      0.91      0.90      7787\n",
      "weighted avg       0.92      0.91      0.91      7787\n",
      "\n"
     ]
    }
   ],
   "source": [
    "print(metrics.classification_report(y_test,  ss\n",
    "                                    ))"
   ]
  },
  {
   "cell_type": "code",
   "execution_count": 41,
   "metadata": {
    "colab": {},
    "colab_type": "code",
    "id": "Hnud21Dc3Zr3"
   },
   "outputs": [],
   "source": [
    "from sklearn.externals import joblib"
   ]
  },
  {
   "cell_type": "code",
   "execution_count": 42,
   "metadata": {
    "colab": {
     "base_uri": "https://localhost:8080/",
     "height": 34
    },
    "colab_type": "code",
    "id": "hs-1ekMq3Zr9",
    "outputId": "a77cf49c-2fd0-401d-ae91-e89e283d0701"
   },
   "outputs": [
    {
     "data": {
      "text/plain": [
       "['Finalmodel_Pratik.pkl']"
      ]
     },
     "execution_count": 42,
     "metadata": {
      "tags": []
     },
     "output_type": "execute_result"
    }
   ],
   "source": [
    "joblib.dump(grid.best_estimator_, 'Finalmodel_Pratik.pkl')"
   ]
  },
  {
   "cell_type": "code",
   "execution_count": 43,
   "metadata": {
    "colab": {},
    "colab_type": "code",
    "id": "Yz1SqxSA3ZsD"
   },
   "outputs": [],
   "source": [
    "h=joblib.load('Finalmodel_Pratik.pkl')"
   ]
  },
  {
   "cell_type": "code",
   "execution_count": 52,
   "metadata": {
    "colab": {},
    "colab_type": "code",
    "id": "mdyay92R3ZsI"
   },
   "outputs": [],
   "source": [
    "ff= test[\"Description\"]"
   ]
  },
  {
   "cell_type": "code",
   "execution_count": 53,
   "metadata": {
    "colab": {},
    "colab_type": "code",
    "id": "yO94vw_-3ZsS"
   },
   "outputs": [],
   "source": [
    "ff1 = [text_prepare(x,' ') for x in ff]"
   ]
  },
  {
   "cell_type": "code",
   "execution_count": 54,
   "metadata": {
    "colab": {},
    "colab_type": "code",
    "id": "OFbcsb5S3ZsW"
   },
   "outputs": [],
   "source": [
    "g=h.predict(ff1)"
   ]
  },
  {
   "cell_type": "code",
   "execution_count": 55,
   "metadata": {
    "colab": {
     "base_uri": "https://localhost:8080/",
     "height": 51
    },
    "colab_type": "code",
    "id": "oC36cFQq3Zsc",
    "outputId": "813bc372-0e1c-4bec-a01e-87236903b492"
   },
   "outputs": [
    {
     "data": {
      "text/plain": [
       "array(['not happy', 'happy', 'happy', ..., 'happy', 'happy', 'happy'],\n",
       "      dtype=object)"
      ]
     },
     "execution_count": 55,
     "metadata": {
      "tags": []
     },
     "output_type": "execute_result"
    }
   ],
   "source": [
    "g"
   ]
  },
  {
   "cell_type": "code",
   "execution_count": 56,
   "metadata": {
    "colab": {},
    "colab_type": "code",
    "id": "h9AdUYLr3Zsi"
   },
   "outputs": [],
   "source": [
    "test[\"Is_Response\"]= g"
   ]
  },
  {
   "cell_type": "code",
   "execution_count": 57,
   "metadata": {
    "colab": {
     "base_uri": "https://localhost:8080/",
     "height": 419
    },
    "colab_type": "code",
    "id": "dNJKKwk73Zsv",
    "outputId": "c2fe29e5-9d6a-443a-882d-1f467786f71e"
   },
   "outputs": [
    {
     "data": {
      "text/html": [
       "<div>\n",
       "<style scoped>\n",
       "    .dataframe tbody tr th:only-of-type {\n",
       "        vertical-align: middle;\n",
       "    }\n",
       "\n",
       "    .dataframe tbody tr th {\n",
       "        vertical-align: top;\n",
       "    }\n",
       "\n",
       "    .dataframe thead th {\n",
       "        text-align: right;\n",
       "    }\n",
       "</style>\n",
       "<table border=\"1\" class=\"dataframe\">\n",
       "  <thead>\n",
       "    <tr style=\"text-align: right;\">\n",
       "      <th></th>\n",
       "      <th>User_ID</th>\n",
       "      <th>Description</th>\n",
       "      <th>Browser_Used</th>\n",
       "      <th>Device_Used</th>\n",
       "      <th>Is_Response</th>\n",
       "    </tr>\n",
       "  </thead>\n",
       "  <tbody>\n",
       "    <tr>\n",
       "      <th>0</th>\n",
       "      <td>id80132</td>\n",
       "      <td>Looking for a motel in close proximity to TV t...</td>\n",
       "      <td>Firefox</td>\n",
       "      <td>Mobile</td>\n",
       "      <td>not happy</td>\n",
       "    </tr>\n",
       "    <tr>\n",
       "      <th>1</th>\n",
       "      <td>id80133</td>\n",
       "      <td>Walking distance to Madison Square Garden and ...</td>\n",
       "      <td>InternetExplorer</td>\n",
       "      <td>Desktop</td>\n",
       "      <td>happy</td>\n",
       "    </tr>\n",
       "    <tr>\n",
       "      <th>2</th>\n",
       "      <td>id80134</td>\n",
       "      <td>Visited Seattle on business. Spent - nights in...</td>\n",
       "      <td>IE</td>\n",
       "      <td>Tablet</td>\n",
       "      <td>happy</td>\n",
       "    </tr>\n",
       "    <tr>\n",
       "      <th>3</th>\n",
       "      <td>id80135</td>\n",
       "      <td>This hotel location is excellent and the rooms...</td>\n",
       "      <td>Edge</td>\n",
       "      <td>Mobile</td>\n",
       "      <td>not happy</td>\n",
       "    </tr>\n",
       "    <tr>\n",
       "      <th>4</th>\n",
       "      <td>id80136</td>\n",
       "      <td>This hotel is awesome I love the service Antho...</td>\n",
       "      <td>Mozilla</td>\n",
       "      <td>Mobile</td>\n",
       "      <td>happy</td>\n",
       "    </tr>\n",
       "    <tr>\n",
       "      <th>...</th>\n",
       "      <td>...</td>\n",
       "      <td>...</td>\n",
       "      <td>...</td>\n",
       "      <td>...</td>\n",
       "      <td>...</td>\n",
       "    </tr>\n",
       "    <tr>\n",
       "      <th>29399</th>\n",
       "      <td>id109531</td>\n",
       "      <td>I stayed at the hotel and towers for a confere...</td>\n",
       "      <td>Chrome</td>\n",
       "      <td>Mobile</td>\n",
       "      <td>happy</td>\n",
       "    </tr>\n",
       "    <tr>\n",
       "      <th>29400</th>\n",
       "      <td>id109532</td>\n",
       "      <td>Trying to stay within the Marriott family and ...</td>\n",
       "      <td>Internet Explorer</td>\n",
       "      <td>Tablet</td>\n",
       "      <td>happy</td>\n",
       "    </tr>\n",
       "    <tr>\n",
       "      <th>29401</th>\n",
       "      <td>id109533</td>\n",
       "      <td>We stayed for - nights with our little dog,ver...</td>\n",
       "      <td>Edge</td>\n",
       "      <td>Desktop</td>\n",
       "      <td>happy</td>\n",
       "    </tr>\n",
       "    <tr>\n",
       "      <th>29402</th>\n",
       "      <td>id109534</td>\n",
       "      <td>Stayed at the Yotel over the weekend and was v...</td>\n",
       "      <td>InternetExplorer</td>\n",
       "      <td>Desktop</td>\n",
       "      <td>happy</td>\n",
       "    </tr>\n",
       "    <tr>\n",
       "      <th>29403</th>\n",
       "      <td>id109535</td>\n",
       "      <td>The Blakely is is comfortable is every way: th...</td>\n",
       "      <td>Mozilla Firefox</td>\n",
       "      <td>Mobile</td>\n",
       "      <td>happy</td>\n",
       "    </tr>\n",
       "  </tbody>\n",
       "</table>\n",
       "<p>29404 rows × 5 columns</p>\n",
       "</div>"
      ],
      "text/plain": [
       "        User_ID  ... Is_Response\n",
       "0       id80132  ...   not happy\n",
       "1       id80133  ...       happy\n",
       "2       id80134  ...       happy\n",
       "3       id80135  ...   not happy\n",
       "4       id80136  ...       happy\n",
       "...         ...  ...         ...\n",
       "29399  id109531  ...       happy\n",
       "29400  id109532  ...       happy\n",
       "29401  id109533  ...       happy\n",
       "29402  id109534  ...       happy\n",
       "29403  id109535  ...       happy\n",
       "\n",
       "[29404 rows x 5 columns]"
      ]
     },
     "execution_count": 57,
     "metadata": {
      "tags": []
     },
     "output_type": "execute_result"
    }
   ],
   "source": [
    "test"
   ]
  },
  {
   "cell_type": "code",
   "execution_count": null,
   "metadata": {
    "colab": {},
    "colab_type": "code",
    "id": "OlI4pyNV3Zs1"
   },
   "outputs": [],
   "source": []
  }
 ],
 "metadata": {
  "accelerator": "GPU",
  "colab": {
   "collapsed_sections": [],
   "name": "Text_Classification_Pratik.ipynb",
   "provenance": []
  },
  "kernelspec": {
   "display_name": "Python 3",
   "language": "python",
   "name": "python3"
  },
  "language_info": {
   "codemirror_mode": {
    "name": "ipython",
    "version": 3
   },
   "file_extension": ".py",
   "mimetype": "text/x-python",
   "name": "python",
   "nbconvert_exporter": "python",
   "pygments_lexer": "ipython3",
   "version": "3.7.7"
  }
 },
 "nbformat": 4,
 "nbformat_minor": 1
}
