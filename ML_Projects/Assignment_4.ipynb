{
  "nbformat": 4,
  "nbformat_minor": 0,
  "metadata": {
    "colab": {
      "name": "Assignment_4.ipynb",
      "provenance": [],
      "collapsed_sections": []
    },
    "kernelspec": {
      "name": "python3",
      "display_name": "Python 3"
    },
    "accelerator": "GPU"
  },
  "cells": [
    {
      "cell_type": "markdown",
      "metadata": {
        "id": "a98M3pR44IlL",
        "colab_type": "text"
      },
      "source": [
        "Mount The Drive For Importing The Images"
      ]
    },
    {
      "cell_type": "code",
      "metadata": {
        "id": "UNRBk7eq4i7u",
        "colab_type": "code",
        "colab": {
          "base_uri": "https://localhost:8080/",
          "height": 122
        },
        "outputId": "61c351ad-a229-4448-cebe-810c83db93f3"
      },
      "source": [
        "from google.colab import drive\n",
        "drive.mount('/content/gdrive')"
      ],
      "execution_count": 1,
      "outputs": [
        {
          "output_type": "stream",
          "text": [
            "Go to this URL in a browser: https://accounts.google.com/o/oauth2/auth?client_id=947318989803-6bn6qk8qdgf4n4g3pfee6491hc0brc4i.apps.googleusercontent.com&redirect_uri=urn%3aietf%3awg%3aoauth%3a2.0%3aoob&response_type=code&scope=email%20https%3a%2f%2fwww.googleapis.com%2fauth%2fdocs.test%20https%3a%2f%2fwww.googleapis.com%2fauth%2fdrive%20https%3a%2f%2fwww.googleapis.com%2fauth%2fdrive.photos.readonly%20https%3a%2f%2fwww.googleapis.com%2fauth%2fpeopleapi.readonly\n",
            "\n",
            "Enter your authorization code:\n",
            "··········\n",
            "Mounted at /content/gdrive\n"
          ],
          "name": "stdout"
        }
      ]
    },
    {
      "cell_type": "code",
      "metadata": {
        "id": "N_lgQmZ849aN",
        "colab_type": "code",
        "colab": {
          "base_uri": "https://localhost:8080/",
          "height": 51
        },
        "outputId": "ed652afe-6576-4305-b3ec-7f6b19ce1892"
      },
      "source": [
        "# CHANGING THE VERSION OF THE TENSORFLOW.\n",
        "%tensorflow_version 1.x\n",
        "import tensorflow as tf\n",
        "print(tf.__version__)"
      ],
      "execution_count": 2,
      "outputs": [
        {
          "output_type": "stream",
          "text": [
            "TensorFlow 1.x selected.\n",
            "1.15.2\n"
          ],
          "name": "stdout"
        }
      ]
    },
    {
      "cell_type": "code",
      "metadata": {
        "id": "LDv5ptnk5JNL",
        "colab_type": "code",
        "colab": {
          "base_uri": "https://localhost:8080/",
          "height": 34
        },
        "outputId": "182f0646-f930-4f8c-952c-216a11d32c96"
      },
      "source": [
        "# Importing the Libraries\n",
        "from keras.preprocessing.image import ImageDataGenerator, load_img\n",
        "from keras.models import Sequential\n",
        "from keras.layers import Conv2D, MaxPooling2D\n",
        "from keras.layers import Activation, Dropout, Flatten, Dense\n",
        "from keras import backend as K\n",
        "from keras import optimizers\n",
        "import scipy\n",
        "\n",
        "\n",
        "from keras.models import load_model\n",
        "from keras.preprocessing import image\n",
        "import numpy as np\n",
        "from os import listdir\n",
        "from os.path import isfile, join"
      ],
      "execution_count": 3,
      "outputs": [
        {
          "output_type": "stream",
          "text": [
            "Using TensorFlow backend.\n"
          ],
          "name": "stderr"
        }
      ]
    },
    {
      "cell_type": "code",
      "metadata": {
        "id": "KSWJ89om5JQs",
        "colab_type": "code",
        "colab": {}
      },
      "source": [
        "# Size of the Input Images\n",
        "input_shape=(150,150,3)\n",
        "img_width=150\n",
        "img_height=150\n",
        "\n",
        "\n",
        "nb_train_samples=240\n",
        "nb_validation_samples=60\n",
        "batch_size=16\n",
        "epochs=20\n",
        "\n",
        "train_data_dir='/content/gdrive/My Drive/Dataset/Training Images'\n",
        "validation_data_dir='/content/gdrive/My Drive/Dataset/Testing Images'"
      ],
      "execution_count": 4,
      "outputs": []
    },
    {
      "cell_type": "markdown",
      "metadata": {
        "id": "HL-0v8Ka6vpg",
        "colab_type": "text"
      },
      "source": [
        "Image Augmentation."
      ]
    },
    {
      "cell_type": "code",
      "metadata": {
        "id": "9fjb7Tav5JVt",
        "colab_type": "code",
        "colab": {}
      },
      "source": [
        "train_datagen = ImageDataGenerator(\n",
        "      rescale=1./255,\n",
        "      rotation_range=40,\n",
        "      width_shift_range=0.2,\n",
        "      height_shift_range=0.2,\n",
        "      shear_range=0.2,\n",
        "      zoom_range=0.2,\n",
        "      horizontal_flip=True,\n",
        "      fill_mode='nearest')\n",
        "# Augmentation Is done on the Training Images.\n",
        "test_datagen = ImageDataGenerator(rescale=1./255)"
      ],
      "execution_count": 5,
      "outputs": []
    },
    {
      "cell_type": "code",
      "metadata": {
        "id": "0uJDypLo5JY6",
        "colab_type": "code",
        "colab": {
          "base_uri": "https://localhost:8080/",
          "height": 51
        },
        "outputId": "9bdd0726-d0a8-4490-fe7e-3bf1bfebdeaa"
      },
      "source": [
        "# Flow training images in batches of 16 using train_datagen generator\n",
        "train_generator=train_datagen.flow_from_directory(\n",
        "        train_data_dir,  # This is the source directory for training images\n",
        "        target_size=(img_width,img_height),  # All images will be resized to 150x150\n",
        "        batch_size=batch_size,\n",
        "        # Since we use binary_crossentropy loss, we need binary labels\n",
        "        class_mode='categorical')\n",
        "\n",
        "\n",
        "validation_generator=test_datagen.flow_from_directory(\n",
        "         validation_data_dir,\n",
        "         target_size=(img_width,img_height),\n",
        "         batch_size=16,\n",
        "         class_mode='categorical')"
      ],
      "execution_count": 6,
      "outputs": [
        {
          "output_type": "stream",
          "text": [
            "Found 240 images belonging to 3 classes.\n",
            "Found 60 images belonging to 3 classes.\n"
          ],
          "name": "stdout"
        }
      ]
    },
    {
      "cell_type": "code",
      "metadata": {
        "id": "3VP3mmEl5Jbd",
        "colab_type": "code",
        "colab": {
          "base_uri": "https://localhost:8080/",
          "height": 122
        },
        "outputId": "6362f30d-e6e4-428f-ef09-58693091bb9c"
      },
      "source": [
        "#model building\n",
        "model = Sequential()\n",
        "model.add(Conv2D(32, (3, 3), input_shape=input_shape))\n",
        "model.add(Activation('relu'))\n",
        "model.add(MaxPooling2D(pool_size=(2, 2)))\n",
        "\n",
        "model.add(Conv2D(32, (3, 3)))\n",
        "model.add(Activation('relu'))\n",
        "model.add(MaxPooling2D(pool_size=(2, 2)))\n",
        "\n",
        "model.add(Conv2D(64, (3, 3)))\n",
        "model.add(Activation('relu'))\n",
        "model.add(MaxPooling2D(pool_size=(2, 2)))\n",
        "\n",
        "#flatten layer\n",
        "model.add(Flatten()) # Output convert into one dimension layer and will go to Dense layer\n",
        "model.add(Dense(64, activation='relu', kernel_initializer='he_uniform'))\n",
        "model.add(Dense(3, activation='softmax'))"
      ],
      "execution_count": 7,
      "outputs": [
        {
          "output_type": "stream",
          "text": [
            "WARNING:tensorflow:From /tensorflow-1.15.2/python3.6/tensorflow_core/python/ops/resource_variable_ops.py:1630: calling BaseResourceVariable.__init__ (from tensorflow.python.ops.resource_variable_ops) with constraint is deprecated and will be removed in a future version.\n",
            "Instructions for updating:\n",
            "If using Keras pass *_constraint arguments to layers.\n",
            "WARNING:tensorflow:From /usr/local/lib/python3.6/dist-packages/keras/backend/tensorflow_backend.py:4070: The name tf.nn.max_pool is deprecated. Please use tf.nn.max_pool2d instead.\n",
            "\n"
          ],
          "name": "stdout"
        }
      ]
    },
    {
      "cell_type": "code",
      "metadata": {
        "id": "Vbq4H3C45JeM",
        "colab_type": "code",
        "colab": {
          "base_uri": "https://localhost:8080/",
          "height": 561
        },
        "outputId": "3d25a4a0-9310-4835-988d-ac6c843cedcc"
      },
      "source": [
        "model.summary()"
      ],
      "execution_count": 8,
      "outputs": [
        {
          "output_type": "stream",
          "text": [
            "Model: \"sequential_1\"\n",
            "_________________________________________________________________\n",
            "Layer (type)                 Output Shape              Param #   \n",
            "=================================================================\n",
            "conv2d_1 (Conv2D)            (None, 148, 148, 32)      896       \n",
            "_________________________________________________________________\n",
            "activation_1 (Activation)    (None, 148, 148, 32)      0         \n",
            "_________________________________________________________________\n",
            "max_pooling2d_1 (MaxPooling2 (None, 74, 74, 32)        0         \n",
            "_________________________________________________________________\n",
            "conv2d_2 (Conv2D)            (None, 72, 72, 32)        9248      \n",
            "_________________________________________________________________\n",
            "activation_2 (Activation)    (None, 72, 72, 32)        0         \n",
            "_________________________________________________________________\n",
            "max_pooling2d_2 (MaxPooling2 (None, 36, 36, 32)        0         \n",
            "_________________________________________________________________\n",
            "conv2d_3 (Conv2D)            (None, 34, 34, 64)        18496     \n",
            "_________________________________________________________________\n",
            "activation_3 (Activation)    (None, 34, 34, 64)        0         \n",
            "_________________________________________________________________\n",
            "max_pooling2d_3 (MaxPooling2 (None, 17, 17, 64)        0         \n",
            "_________________________________________________________________\n",
            "flatten_1 (Flatten)          (None, 18496)             0         \n",
            "_________________________________________________________________\n",
            "dense_1 (Dense)              (None, 64)                1183808   \n",
            "_________________________________________________________________\n",
            "dense_2 (Dense)              (None, 3)                 195       \n",
            "=================================================================\n",
            "Total params: 1,212,643\n",
            "Trainable params: 1,212,643\n",
            "Non-trainable params: 0\n",
            "_________________________________________________________________\n"
          ],
          "name": "stdout"
        }
      ]
    },
    {
      "cell_type": "markdown",
      "metadata": {
        "id": "ieZ5chw_AjQQ",
        "colab_type": "text"
      },
      "source": [
        "SGD WITH MOMENTUM."
      ]
    },
    {
      "cell_type": "code",
      "metadata": {
        "id": "0frSeaW05Jgt",
        "colab_type": "code",
        "colab": {}
      },
      "source": [
        "from keras.optimizers import SGD\n",
        "#compile model\n",
        "opt = SGD(lr=0.001, momentum=0.9)\n",
        "model.compile(optimizer=opt, loss='categorical_crossentropy', metrics=['accuracy'])"
      ],
      "execution_count": 9,
      "outputs": []
    },
    {
      "cell_type": "code",
      "metadata": {
        "id": "zS1xbz8a5Jnu",
        "colab_type": "code",
        "colab": {}
      },
      "source": [
        "from keras.callbacks import ModelCheckpoint, EarlyStopping\n",
        "checkpoint = ModelCheckpoint(\"SGD_Momentum.h5\", monitor='val_accuracy', verbose=1, save_best_only=True, save_weights_only=False, mode='auto', period=1)\n",
        "early = EarlyStopping(monitor='val_accuracy', min_delta=0, patience=5, verbose=1, mode='auto')"
      ],
      "execution_count": 10,
      "outputs": []
    },
    {
      "cell_type": "code",
      "metadata": {
        "id": "gjmfis8L5Jqu",
        "colab_type": "code",
        "colab": {
          "base_uri": "https://localhost:8080/",
          "height": 1000
        },
        "outputId": "06badd15-22a8-43f6-9772-939d17acfb69"
      },
      "source": [
        "from keras.callbacks import ModelCheckpoint, EarlyStopping\n",
        "history=model.fit_generator(\n",
        "    train_generator,\n",
        "    steps_per_epoch=nb_train_samples//batch_size,\n",
        "    epochs=epochs,\n",
        "    validation_data=validation_generator,\n",
        "    validation_steps=nb_validation_samples//batch_size,\n",
        "    callbacks=[checkpoint,early])"
      ],
      "execution_count": 11,
      "outputs": [
        {
          "output_type": "stream",
          "text": [
            "WARNING:tensorflow:From /usr/local/lib/python3.6/dist-packages/keras/backend/tensorflow_backend.py:422: The name tf.global_variables is deprecated. Please use tf.compat.v1.global_variables instead.\n",
            "\n",
            "Epoch 1/20\n",
            "15/15 [==============================] - 142s 9s/step - loss: 1.1005 - accuracy: 0.3333 - val_loss: 1.1437 - val_accuracy: 0.3333\n",
            "\n",
            "Epoch 00001: val_accuracy improved from -inf to 0.33333, saving model to SGD_Momentum.h5\n",
            "Epoch 2/20\n",
            "15/15 [==============================] - 2s 132ms/step - loss: 1.0867 - accuracy: 0.3500 - val_loss: 1.0315 - val_accuracy: 0.3636\n",
            "\n",
            "Epoch 00002: val_accuracy improved from 0.33333 to 0.36364, saving model to SGD_Momentum.h5\n",
            "Epoch 3/20\n",
            "15/15 [==============================] - 2s 119ms/step - loss: 1.0700 - accuracy: 0.3875 - val_loss: 1.0535 - val_accuracy: 0.4318\n",
            "\n",
            "Epoch 00003: val_accuracy improved from 0.36364 to 0.43182, saving model to SGD_Momentum.h5\n",
            "Epoch 4/20\n",
            "15/15 [==============================] - 2s 115ms/step - loss: 1.0443 - accuracy: 0.4125 - val_loss: 0.9687 - val_accuracy: 0.6591\n",
            "\n",
            "Epoch 00004: val_accuracy improved from 0.43182 to 0.65909, saving model to SGD_Momentum.h5\n",
            "Epoch 5/20\n",
            "15/15 [==============================] - 2s 124ms/step - loss: 0.9972 - accuracy: 0.5708 - val_loss: 0.9306 - val_accuracy: 0.5833\n",
            "\n",
            "Epoch 00005: val_accuracy did not improve from 0.65909\n",
            "Epoch 6/20\n",
            "15/15 [==============================] - 2s 126ms/step - loss: 0.9145 - accuracy: 0.5875 - val_loss: 0.9141 - val_accuracy: 0.6364\n",
            "\n",
            "Epoch 00006: val_accuracy did not improve from 0.65909\n",
            "Epoch 7/20\n",
            "15/15 [==============================] - 2s 124ms/step - loss: 0.8161 - accuracy: 0.5625 - val_loss: 0.6476 - val_accuracy: 0.7045\n",
            "\n",
            "Epoch 00007: val_accuracy improved from 0.65909 to 0.70455, saving model to SGD_Momentum.h5\n",
            "Epoch 8/20\n",
            "15/15 [==============================] - 2s 117ms/step - loss: 0.7886 - accuracy: 0.5500 - val_loss: 0.5241 - val_accuracy: 0.6818\n",
            "\n",
            "Epoch 00008: val_accuracy did not improve from 0.70455\n",
            "Epoch 9/20\n",
            "15/15 [==============================] - 2s 125ms/step - loss: 0.7531 - accuracy: 0.5750 - val_loss: 0.6577 - val_accuracy: 0.6667\n",
            "\n",
            "Epoch 00009: val_accuracy did not improve from 0.70455\n",
            "Epoch 10/20\n",
            "15/15 [==============================] - 2s 125ms/step - loss: 0.6766 - accuracy: 0.5875 - val_loss: 0.5368 - val_accuracy: 0.7727\n",
            "\n",
            "Epoch 00010: val_accuracy improved from 0.70455 to 0.77273, saving model to SGD_Momentum.h5\n",
            "Epoch 11/20\n",
            "15/15 [==============================] - 2s 120ms/step - loss: 0.6869 - accuracy: 0.5667 - val_loss: 0.5594 - val_accuracy: 0.7045\n",
            "\n",
            "Epoch 00011: val_accuracy did not improve from 0.77273\n",
            "Epoch 12/20\n",
            "15/15 [==============================] - 2s 121ms/step - loss: 0.6644 - accuracy: 0.6417 - val_loss: 0.7408 - val_accuracy: 0.6364\n",
            "\n",
            "Epoch 00012: val_accuracy did not improve from 0.77273\n",
            "Epoch 13/20\n",
            "15/15 [==============================] - 2s 125ms/step - loss: 0.6082 - accuracy: 0.6333 - val_loss: 0.6670 - val_accuracy: 0.6875\n",
            "\n",
            "Epoch 00013: val_accuracy did not improve from 0.77273\n",
            "Epoch 14/20\n",
            "15/15 [==============================] - 2s 126ms/step - loss: 0.6188 - accuracy: 0.6667 - val_loss: 0.4758 - val_accuracy: 0.5682\n",
            "\n",
            "Epoch 00014: val_accuracy did not improve from 0.77273\n",
            "Epoch 15/20\n",
            "15/15 [==============================] - 2s 123ms/step - loss: 0.6409 - accuracy: 0.6292 - val_loss: 0.4551 - val_accuracy: 0.7273\n",
            "\n",
            "Epoch 00015: val_accuracy did not improve from 0.77273\n",
            "Epoch 00015: early stopping\n"
          ],
          "name": "stdout"
        }
      ]
    },
    {
      "cell_type": "markdown",
      "metadata": {
        "id": "2Ne_rTG5BcoF",
        "colab_type": "text"
      },
      "source": [
        "Test accuracy is greater than Training , Model is learning good and it can made better by changing the learning rate."
      ]
    },
    {
      "cell_type": "code",
      "metadata": {
        "id": "DDCmlMPj5Jv2",
        "colab_type": "code",
        "colab": {
          "base_uri": "https://localhost:8080/",
          "height": 573
        },
        "outputId": "e6b672fd-bd35-466d-9fd0-86204569c804"
      },
      "source": [
        "# Plot training & validation accuracy values\n",
        "import matplotlib.pyplot as plt\n",
        "%matplotlib inline\n",
        "plt.plot(history.history['accuracy'])\n",
        "plt.plot(history.history['val_accuracy'])\n",
        "plt.title('Model accuracy')\n",
        "plt.ylabel('Accuracy')\n",
        "plt.xlabel('Epoch')\n",
        "plt.legend(['Train', 'Val'], loc='upper left')\n",
        "plt.show()\n",
        "\n",
        "# Plot training & validation loss values\n",
        "plt.plot(history.history['loss'])\n",
        "plt.plot(history.history['val_loss'])\n",
        "plt.title('Model loss')\n",
        "plt.ylabel('Loss')\n",
        "plt.xlabel('Epoch')\n",
        "plt.legend(['Train', 'Val'], loc='upper left')\n",
        "plt.show()"
      ],
      "execution_count": 12,
      "outputs": [
        {
          "output_type": "display_data",
          "data": {
            "image/png": "[encoded data removed]",
            "text/plain": [
              "<Figure size 432x288 with 1 Axes>"
            ]
          },
          "metadata": {
            "tags": [],
            "needs_background": "light"
          }
        },
        {
          "output_type": "display_data",
          "data": {
            "image/png": "[encoded data removed]",
            "text/plain": [
              "<Figure size 432x288 with 1 Axes>"
            ]
          },
          "metadata": {
            "tags": [],
            "needs_background": "light"
          }
        }
      ]
    },
    {
      "cell_type": "markdown",
      "metadata": {
        "id": "nLG61xYA4qdR",
        "colab_type": "text"
      },
      "source": [
        "Increasing the learning rate by the factor 10."
      ]
    },
    {
      "cell_type": "code",
      "metadata": {
        "id": "aNGX31Oh2w9M",
        "colab_type": "code",
        "colab": {}
      },
      "source": [
        "from keras.optimizers import SGD\n",
        "#compile model\n",
        "opt = SGD(lr=0.01, momentum=0.9)\n",
        "model.compile(optimizer=opt, loss='categorical_crossentropy', metrics=['accuracy'])"
      ],
      "execution_count": 16,
      "outputs": []
    },
    {
      "cell_type": "code",
      "metadata": {
        "id": "hjEWf6-I2xGI",
        "colab_type": "code",
        "colab": {}
      },
      "source": [
        "from keras.callbacks import ModelCheckpoint, EarlyStopping\n",
        "checkpoint = ModelCheckpoint(\"SGD_Momentum_2.h5\", monitor='val_accuracy', verbose=1, save_best_only=True, save_weights_only=False, mode='auto', period=1)\n",
        "early = EarlyStopping(monitor='val_accuracy', min_delta=0, patience=5, verbose=1, mode='auto')"
      ],
      "execution_count": 17,
      "outputs": []
    },
    {
      "cell_type": "code",
      "metadata": {
        "id": "O81LY6Am2xJR",
        "colab_type": "code",
        "colab": {
          "base_uri": "https://localhost:8080/",
          "height": 734
        },
        "outputId": "cccc46f9-98d4-416c-97e7-ebec171a1350"
      },
      "source": [
        "history=model.fit_generator(\n",
        "    train_generator,\n",
        "    steps_per_epoch=nb_train_samples//batch_size,\n",
        "    epochs=epochs,\n",
        "    validation_data=validation_generator,\n",
        "    validation_steps=nb_validation_samples//batch_size,\n",
        "    callbacks=[checkpoint,early])"
      ],
      "execution_count": 18,
      "outputs": [
        {
          "output_type": "stream",
          "text": [
            "Epoch 1/20\n",
            "15/15 [==============================] - 2s 130ms/step - loss: 0.9001 - accuracy: 0.5083 - val_loss: 0.9649 - val_accuracy: 0.6667\n",
            "\n",
            "Epoch 00001: val_accuracy improved from -inf to 0.66667, saving model to SGD_Momentum_2.h5\n",
            "Epoch 2/20\n",
            "15/15 [==============================] - 2s 131ms/step - loss: 0.9359 - accuracy: 0.4875 - val_loss: 0.8478 - val_accuracy: 0.5909\n",
            "\n",
            "Epoch 00002: val_accuracy did not improve from 0.66667\n",
            "Epoch 3/20\n",
            "15/15 [==============================] - 2s 115ms/step - loss: 0.8760 - accuracy: 0.5375 - val_loss: 0.9116 - val_accuracy: 0.5909\n",
            "\n",
            "Epoch 00003: val_accuracy did not improve from 0.66667\n",
            "Epoch 4/20\n",
            "15/15 [==============================] - 2s 117ms/step - loss: 0.7606 - accuracy: 0.6042 - val_loss: 0.6835 - val_accuracy: 0.6591\n",
            "\n",
            "Epoch 00004: val_accuracy did not improve from 0.66667\n",
            "Epoch 5/20\n",
            "15/15 [==============================] - 2s 125ms/step - loss: 0.7102 - accuracy: 0.6000 - val_loss: 0.5322 - val_accuracy: 0.6875\n",
            "\n",
            "Epoch 00005: val_accuracy improved from 0.66667 to 0.68750, saving model to SGD_Momentum_2.h5\n",
            "Epoch 6/20\n",
            "15/15 [==============================] - 2s 127ms/step - loss: 0.6587 - accuracy: 0.6333 - val_loss: 0.5605 - val_accuracy: 0.6364\n",
            "\n",
            "Epoch 00006: val_accuracy did not improve from 0.68750\n",
            "Epoch 7/20\n",
            "15/15 [==============================] - 2s 116ms/step - loss: 0.6992 - accuracy: 0.5833 - val_loss: 0.4502 - val_accuracy: 0.6364\n",
            "\n",
            "Epoch 00007: val_accuracy did not improve from 0.68750\n",
            "Epoch 8/20\n",
            "15/15 [==============================] - 2s 118ms/step - loss: 0.6868 - accuracy: 0.6167 - val_loss: 0.6865 - val_accuracy: 0.6364\n",
            "\n",
            "Epoch 00008: val_accuracy did not improve from 0.68750\n",
            "Epoch 9/20\n",
            "15/15 [==============================] - 2s 125ms/step - loss: 0.6989 - accuracy: 0.6000 - val_loss: 0.4167 - val_accuracy: 0.6458\n",
            "\n",
            "Epoch 00009: val_accuracy did not improve from 0.68750\n",
            "Epoch 10/20\n",
            "15/15 [==============================] - 2s 129ms/step - loss: 0.5969 - accuracy: 0.6208 - val_loss: 0.5205 - val_accuracy: 0.6818\n",
            "\n",
            "Epoch 00010: val_accuracy did not improve from 0.68750\n",
            "Epoch 00010: early stopping\n"
          ],
          "name": "stdout"
        }
      ]
    },
    {
      "cell_type": "markdown",
      "metadata": {
        "id": "VUnX4IT24xzB",
        "colab_type": "text"
      },
      "source": [
        "Model didn't Converged to the global minimum at this learning rate.\n",
        "\n",
        "Accuracy of the model is reduced by increasing the learning rate."
      ]
    },
    {
      "cell_type": "markdown",
      "metadata": {
        "id": "5G3zJHMk6ion",
        "colab_type": "text"
      },
      "source": [
        "Increasing the learning rate by factor of 10"
      ]
    },
    {
      "cell_type": "code",
      "metadata": {
        "id": "riTqUlv52xOq",
        "colab_type": "code",
        "colab": {}
      },
      "source": [
        "from keras.optimizers import SGD\n",
        "#compile model\n",
        "opt = SGD(lr=0.1, momentum=0.9)\n",
        "model.compile(optimizer=opt, loss='categorical_crossentropy', metrics=['accuracy'])"
      ],
      "execution_count": 19,
      "outputs": []
    },
    {
      "cell_type": "code",
      "metadata": {
        "id": "lJYt3GPN2xXF",
        "colab_type": "code",
        "colab": {}
      },
      "source": [
        "from keras.callbacks import ModelCheckpoint, EarlyStopping\n",
        "checkpoint = ModelCheckpoint(\"SGD_Momentum_2.h5\", monitor='val_accuracy', verbose=1, save_best_only=True, save_weights_only=False, mode='auto', period=1)\n",
        "early = EarlyStopping(monitor='val_accuracy', min_delta=0, patience=5, verbose=1, mode='auto')"
      ],
      "execution_count": 20,
      "outputs": []
    },
    {
      "cell_type": "code",
      "metadata": {
        "id": "6ocbv96-2xe7",
        "colab_type": "code",
        "colab": {
          "base_uri": "https://localhost:8080/",
          "height": 802
        },
        "outputId": "1778ca89-b27f-47fb-b545-4b038c91f0c2"
      },
      "source": [
        "history=model.fit_generator(\n",
        "    train_generator,\n",
        "    steps_per_epoch=nb_train_samples//batch_size,\n",
        "    epochs=epochs,\n",
        "    validation_data=validation_generator,\n",
        "    validation_steps=nb_validation_samples//batch_size,\n",
        "    callbacks=[checkpoint,early])"
      ],
      "execution_count": 21,
      "outputs": [
        {
          "output_type": "stream",
          "text": [
            "Epoch 1/20\n",
            "15/15 [==============================] - 2s 131ms/step - loss: 11.0453 - accuracy: 0.4583 - val_loss: 4.0717 - val_accuracy: 0.3542\n",
            "\n",
            "Epoch 00001: val_accuracy improved from -inf to 0.35417, saving model to SGD_Momentum_2.h5\n",
            "Epoch 2/20\n",
            "15/15 [==============================] - 2s 126ms/step - loss: 2.2247 - accuracy: 0.3417 - val_loss: 1.1038 - val_accuracy: 0.2955\n",
            "\n",
            "Epoch 00002: val_accuracy did not improve from 0.35417\n",
            "Epoch 3/20\n",
            "15/15 [==============================] - 2s 123ms/step - loss: 1.1241 - accuracy: 0.3333 - val_loss: 1.1538 - val_accuracy: 0.2500\n",
            "\n",
            "Epoch 00003: val_accuracy did not improve from 0.35417\n",
            "Epoch 4/20\n",
            "15/15 [==============================] - 2s 122ms/step - loss: 1.1222 - accuracy: 0.3000 - val_loss: 1.0886 - val_accuracy: 0.2955\n",
            "\n",
            "Epoch 00004: val_accuracy did not improve from 0.35417\n",
            "Epoch 5/20\n",
            "15/15 [==============================] - 2s 133ms/step - loss: 1.1123 - accuracy: 0.3333 - val_loss: 1.0998 - val_accuracy: 0.3958\n",
            "\n",
            "Epoch 00005: val_accuracy improved from 0.35417 to 0.39583, saving model to SGD_Momentum_2.h5\n",
            "Epoch 6/20\n",
            "15/15 [==============================] - 2s 139ms/step - loss: 1.1115 - accuracy: 0.2625 - val_loss: 1.1130 - val_accuracy: 0.4318\n",
            "\n",
            "Epoch 00006: val_accuracy improved from 0.39583 to 0.43182, saving model to SGD_Momentum_2.h5\n",
            "Epoch 7/20\n",
            "15/15 [==============================] - 2s 133ms/step - loss: 1.1083 - accuracy: 0.3167 - val_loss: 1.0993 - val_accuracy: 0.3636\n",
            "\n",
            "Epoch 00007: val_accuracy did not improve from 0.43182\n",
            "Epoch 8/20\n",
            "15/15 [==============================] - 2s 126ms/step - loss: 1.1154 - accuracy: 0.2750 - val_loss: 1.0858 - val_accuracy: 0.3409\n",
            "\n",
            "Epoch 00008: val_accuracy did not improve from 0.43182\n",
            "Epoch 9/20\n",
            "15/15 [==============================] - 2s 136ms/step - loss: 1.1036 - accuracy: 0.3292 - val_loss: 1.1045 - val_accuracy: 0.3958\n",
            "\n",
            "Epoch 00009: val_accuracy did not improve from 0.43182\n",
            "Epoch 10/20\n",
            "15/15 [==============================] - 2s 142ms/step - loss: 1.1018 - accuracy: 0.3250 - val_loss: 1.1017 - val_accuracy: 0.4091\n",
            "\n",
            "Epoch 00010: val_accuracy did not improve from 0.43182\n",
            "Epoch 11/20\n",
            "15/15 [==============================] - 2s 136ms/step - loss: 1.1111 - accuracy: 0.3250 - val_loss: 1.1079 - val_accuracy: 0.3409\n",
            "\n",
            "Epoch 00011: val_accuracy did not improve from 0.43182\n",
            "Epoch 00011: early stopping\n"
          ],
          "name": "stdout"
        }
      ]
    },
    {
      "cell_type": "code",
      "metadata": {
        "id": "PI1x70v52xi_",
        "colab_type": "code",
        "colab": {}
      },
      "source": [
        "# Increasing the learning rate makes the model converges to the local minima . \n",
        "# Thus accuracy of the model is reducing as the learning rate increases."
      ],
      "execution_count": 22,
      "outputs": []
    },
    {
      "cell_type": "markdown",
      "metadata": {
        "id": "WHlBovwPDYqr",
        "colab_type": "text"
      },
      "source": [
        "Nesterov Accelerated Gradient Descent "
      ]
    },
    {
      "cell_type": "code",
      "metadata": {
        "id": "HEWKt7Hk5Jyt",
        "colab_type": "code",
        "colab": {}
      },
      "source": [
        "from keras.optimizers import SGD\n",
        "#compile model\n",
        "opt = SGD(lr=0.001, momentum=0.9,nesterov=True)\n",
        "model.compile(optimizer=opt, loss='categorical_crossentropy', metrics=['accuracy'])"
      ],
      "execution_count": null,
      "outputs": []
    },
    {
      "cell_type": "code",
      "metadata": {
        "id": "B9Ho39A_5J3w",
        "colab_type": "code",
        "colab": {}
      },
      "source": [
        "from keras.callbacks import ModelCheckpoint, EarlyStopping\n",
        "checkpoint = ModelCheckpoint(\"SGD_Momentum_Nes.h5\", monitor='val_accuracy', verbose=1, save_best_only=True, save_weights_only=False, mode='auto', period=1)\n",
        "early = EarlyStopping(monitor='val_accuracy', min_delta=0, patience=5, verbose=1, mode='auto')"
      ],
      "execution_count": null,
      "outputs": []
    },
    {
      "cell_type": "code",
      "metadata": {
        "id": "JOb3wT0E5J_x",
        "colab_type": "code",
        "colab": {
          "base_uri": "https://localhost:8080/",
          "height": 782
        },
        "outputId": "bb9e366b-a47c-4cc0-8951-687035d82c26"
      },
      "source": [
        "from keras.callbacks import ModelCheckpoint, EarlyStopping\n",
        "history=model.fit_generator(\n",
        "    train_generator,\n",
        "    steps_per_epoch=nb_train_samples//batch_size,\n",
        "    epochs=epochs,\n",
        "    validation_data=validation_generator,\n",
        "    validation_steps=nb_validation_samples//batch_size,\n",
        "    callbacks=[checkpoint,early])"
      ],
      "execution_count": null,
      "outputs": [
        {
          "output_type": "stream",
          "text": [
            "Epoch 1/20\n",
            "15/15 [==============================] - 3s 171ms/step - loss: 0.6351 - accuracy: 0.6792 - val_loss: 0.4306 - val_accuracy: 0.8125\n",
            "\n",
            "Epoch 00001: val_accuracy improved from -inf to 0.81250, saving model to SGD_Momentum_Nes.h5\n",
            "Epoch 2/20\n",
            "15/15 [==============================] - 2s 159ms/step - loss: 0.6069 - accuracy: 0.6583 - val_loss: 0.5075 - val_accuracy: 0.7727\n",
            "\n",
            "Epoch 00002: val_accuracy did not improve from 0.81250\n",
            "Epoch 3/20\n",
            "15/15 [==============================] - 2s 156ms/step - loss: 0.5784 - accuracy: 0.6958 - val_loss: 0.4054 - val_accuracy: 0.6591\n",
            "\n",
            "Epoch 00003: val_accuracy did not improve from 0.81250\n",
            "Epoch 4/20\n",
            "15/15 [==============================] - 2s 149ms/step - loss: 0.6052 - accuracy: 0.6458 - val_loss: 0.5417 - val_accuracy: 0.8636\n",
            "\n",
            "Epoch 00004: val_accuracy improved from 0.81250 to 0.86364, saving model to SGD_Momentum_Nes.h5\n",
            "Epoch 5/20\n",
            "15/15 [==============================] - 2s 165ms/step - loss: 0.5937 - accuracy: 0.6958 - val_loss: 0.3926 - val_accuracy: 0.7292\n",
            "\n",
            "Epoch 00005: val_accuracy did not improve from 0.86364\n",
            "Epoch 6/20\n",
            "15/15 [==============================] - 3s 175ms/step - loss: 0.6058 - accuracy: 0.6750 - val_loss: 0.5646 - val_accuracy: 0.8864\n",
            "\n",
            "Epoch 00006: val_accuracy improved from 0.86364 to 0.88636, saving model to SGD_Momentum_Nes.h5\n",
            "Epoch 7/20\n",
            "15/15 [==============================] - 2s 163ms/step - loss: 0.5763 - accuracy: 0.7208 - val_loss: 0.3804 - val_accuracy: 0.8864\n",
            "\n",
            "Epoch 00007: val_accuracy did not improve from 0.88636\n",
            "Epoch 8/20\n",
            "15/15 [==============================] - 2s 160ms/step - loss: 0.6238 - accuracy: 0.6458 - val_loss: 0.4691 - val_accuracy: 0.8409\n",
            "\n",
            "Epoch 00008: val_accuracy did not improve from 0.88636\n",
            "Epoch 9/20\n",
            "15/15 [==============================] - 3s 168ms/step - loss: 0.5560 - accuracy: 0.7417 - val_loss: 0.5391 - val_accuracy: 0.7708\n",
            "\n",
            "Epoch 00009: val_accuracy did not improve from 0.88636\n",
            "Epoch 10/20\n",
            "15/15 [==============================] - 2s 163ms/step - loss: 0.5880 - accuracy: 0.6917 - val_loss: 0.3885 - val_accuracy: 0.8182\n",
            "\n",
            "Epoch 00010: val_accuracy did not improve from 0.88636\n",
            "Epoch 11/20\n",
            "15/15 [==============================] - 2s 156ms/step - loss: 0.5353 - accuracy: 0.7292 - val_loss: 0.5135 - val_accuracy: 0.7045\n",
            "\n",
            "Epoch 00011: val_accuracy did not improve from 0.88636\n",
            "Epoch 00011: early stopping\n"
          ],
          "name": "stdout"
        }
      ]
    },
    {
      "cell_type": "markdown",
      "metadata": {
        "id": "x_S62XElGH8V",
        "colab_type": "text"
      },
      "source": [
        "Applying Nesterov Accelerated Gradient Descent Increased the accuracy of the model to 88% and Model Stopped Training as the accuracy doesn't changed from \n",
        "88.6%."
      ]
    },
    {
      "cell_type": "code",
      "metadata": {
        "id": "mLHoPzUg5KF4",
        "colab_type": "code",
        "colab": {
          "base_uri": "https://localhost:8080/",
          "height": 573
        },
        "outputId": "faed819e-415c-4dac-a039-cec253365cc8"
      },
      "source": [
        "# Plot training & validation accuracy values\n",
        "import matplotlib.pyplot as plt\n",
        "%matplotlib inline\n",
        "plt.plot(history.history['accuracy'])\n",
        "plt.plot(history.history['val_accuracy'])\n",
        "plt.title('Model accuracy')\n",
        "plt.ylabel('Accuracy')\n",
        "plt.xlabel('Epoch')\n",
        "plt.legend(['Train', 'Val'], loc='upper left')\n",
        "plt.show()\n",
        "\n",
        "# Plot training & validation loss values\n",
        "plt.plot(history.history['loss'])\n",
        "plt.plot(history.history['val_loss'])\n",
        "plt.title('Model loss')\n",
        "plt.ylabel('Loss')\n",
        "plt.xlabel('Epoch')\n",
        "plt.legend(['Train', 'Val'], loc='upper left')\n",
        "plt.show()"
      ],
      "execution_count": null,
      "outputs": [
        {
          "output_type": "display_data",
          "data": {
            "image/png": "[encoded data removed]",
            "text/plain": [
              "<Figure size 432x288 with 1 Axes>"
            ]
          },
          "metadata": {
            "tags": [],
            "needs_background": "light"
          }
        },
        {
          "output_type": "display_data",
          "data": {
            "image/png": "[encoded data removed]",
            "text/plain": [
              "<Figure size 432x288 with 1 Axes>"
            ]
          },
          "metadata": {
            "tags": [],
            "needs_background": "light"
          }
        }
      ]
    },
    {
      "cell_type": "markdown",
      "metadata": {
        "id": "JdlIjdaTG-o3",
        "colab_type": "text"
      },
      "source": [
        "RMSprop and ReducedLRonplateau"
      ]
    },
    {
      "cell_type": "markdown",
      "metadata": {
        "id": "rB4fAJoFIb4w",
        "colab_type": "text"
      },
      "source": [
        "This callback monitors a quantity and if no improvement is seen for a 'patience' number of epochs, the learning rate is reduced."
      ]
    },
    {
      "cell_type": "code",
      "metadata": {
        "id": "AK-tA0s45KD6",
        "colab_type": "code",
        "colab": {}
      },
      "source": [
        "from keras.optimizers import RMSprop\n",
        "#compile model\n",
        "opt = RMSprop(lr=0.001)   # Learning rate can be changed and loop can be run for finding the convergence at the specific learning rate\n",
        "model.compile(optimizer=opt, loss='categorical_crossentropy', metrics=['accuracy'])"
      ],
      "execution_count": null,
      "outputs": []
    },
    {
      "cell_type": "code",
      "metadata": {
        "id": "B2s31lR75J9c",
        "colab_type": "code",
        "colab": {}
      },
      "source": [
        "from keras.callbacks import ModelCheckpoint,ReduceLROnPlateau\n",
        "checkpoint = ModelCheckpoint(\"RMSprop.h5\", monitor='val_accuracy', verbose=1, save_best_only=True, save_weights_only=False, mode='auto', period=1)\n",
        "rlr = ReduceLROnPlateau(monitor='val_loss', factor=0.2,\n",
        "                              patience=5, min_lr=0.001)"
      ],
      "execution_count": null,
      "outputs": []
    },
    {
      "cell_type": "code",
      "metadata": {
        "id": "RtUEtK9C5J8I",
        "colab_type": "code",
        "colab": {
          "base_uri": "https://localhost:8080/",
          "height": 1000
        },
        "outputId": "358b4c56-030c-44ed-84ae-2b9a6082c2bd"
      },
      "source": [
        "from keras.callbacks import ModelCheckpoint, EarlyStopping\n",
        "history=model.fit_generator(\n",
        "    train_generator,\n",
        "    steps_per_epoch=nb_train_samples//batch_size,\n",
        "    epochs=epochs,\n",
        "    validation_data=validation_generator,\n",
        "    validation_steps=nb_validation_samples//batch_size,\n",
        "    callbacks=[checkpoint,rlr])"
      ],
      "execution_count": null,
      "outputs": [
        {
          "output_type": "stream",
          "text": [
            "Epoch 1/20\n",
            "15/15 [==============================] - 2s 161ms/step - loss: 2.1317 - accuracy: 0.5292 - val_loss: 0.4885 - val_accuracy: 0.7708\n",
            "\n",
            "Epoch 00001: val_accuracy improved from -inf to 0.77083, saving model to RMSprop.h5\n",
            "Epoch 2/20\n",
            "15/15 [==============================] - 2s 151ms/step - loss: 0.6787 - accuracy: 0.6667 - val_loss: 0.5807 - val_accuracy: 0.6136\n",
            "\n",
            "Epoch 00002: val_accuracy did not improve from 0.77083\n",
            "Epoch 3/20\n",
            "15/15 [==============================] - 2s 149ms/step - loss: 0.7095 - accuracy: 0.6125 - val_loss: 0.8709 - val_accuracy: 0.6364\n",
            "\n",
            "Epoch 00003: val_accuracy did not improve from 0.77083\n",
            "Epoch 4/20\n",
            "15/15 [==============================] - 2s 150ms/step - loss: 0.5830 - accuracy: 0.7292 - val_loss: 0.3290 - val_accuracy: 0.8864\n",
            "\n",
            "Epoch 00004: val_accuracy improved from 0.77083 to 0.88636, saving model to RMSprop.h5\n",
            "Epoch 5/20\n",
            "15/15 [==============================] - 2s 158ms/step - loss: 0.5944 - accuracy: 0.7167 - val_loss: 0.3896 - val_accuracy: 0.7292\n",
            "\n",
            "Epoch 00005: val_accuracy did not improve from 0.88636\n",
            "Epoch 6/20\n",
            "15/15 [==============================] - 2s 159ms/step - loss: 0.7419 - accuracy: 0.6750 - val_loss: 0.5559 - val_accuracy: 0.8182\n",
            "\n",
            "Epoch 00006: val_accuracy did not improve from 0.88636\n",
            "Epoch 7/20\n",
            "15/15 [==============================] - 2s 149ms/step - loss: 0.5278 - accuracy: 0.7625 - val_loss: 0.3199 - val_accuracy: 0.8864\n",
            "\n",
            "Epoch 00007: val_accuracy did not improve from 0.88636\n",
            "Epoch 8/20\n",
            "15/15 [==============================] - 2s 147ms/step - loss: 0.5566 - accuracy: 0.7250 - val_loss: 0.7103 - val_accuracy: 0.6818\n",
            "\n",
            "Epoch 00008: val_accuracy did not improve from 0.88636\n",
            "Epoch 9/20\n",
            "15/15 [==============================] - 2s 157ms/step - loss: 0.5563 - accuracy: 0.7583 - val_loss: 0.2257 - val_accuracy: 0.8958\n",
            "\n",
            "Epoch 00009: val_accuracy improved from 0.88636 to 0.89583, saving model to RMSprop.h5\n",
            "Epoch 10/20\n",
            "15/15 [==============================] - 2s 158ms/step - loss: 0.4682 - accuracy: 0.8208 - val_loss: 0.1706 - val_accuracy: 0.8864\n",
            "\n",
            "Epoch 00010: val_accuracy did not improve from 0.89583\n",
            "Epoch 11/20\n",
            "15/15 [==============================] - 2s 155ms/step - loss: 0.5218 - accuracy: 0.7792 - val_loss: 0.2581 - val_accuracy: 0.8636\n",
            "\n",
            "Epoch 00011: val_accuracy did not improve from 0.89583\n",
            "Epoch 12/20\n",
            "15/15 [==============================] - 2s 146ms/step - loss: 0.4201 - accuracy: 0.8083 - val_loss: 0.7552 - val_accuracy: 0.7955\n",
            "\n",
            "Epoch 00012: val_accuracy did not improve from 0.89583\n",
            "Epoch 13/20\n",
            "15/15 [==============================] - 2s 155ms/step - loss: 0.4761 - accuracy: 0.8292 - val_loss: 0.4149 - val_accuracy: 0.8125\n",
            "\n",
            "Epoch 00013: val_accuracy did not improve from 0.89583\n",
            "Epoch 14/20\n",
            "15/15 [==============================] - 2s 157ms/step - loss: 0.4440 - accuracy: 0.8000 - val_loss: 0.6569 - val_accuracy: 0.7727\n",
            "\n",
            "Epoch 00014: val_accuracy did not improve from 0.89583\n",
            "Epoch 15/20\n",
            "15/15 [==============================] - 2s 155ms/step - loss: 0.4730 - accuracy: 0.8000 - val_loss: 0.1834 - val_accuracy: 0.8409\n",
            "\n",
            "Epoch 00015: val_accuracy did not improve from 0.89583\n",
            "Epoch 16/20\n",
            "15/15 [==============================] - 2s 142ms/step - loss: 0.5071 - accuracy: 0.8000 - val_loss: 0.3454 - val_accuracy: 0.7955\n",
            "\n",
            "Epoch 00016: val_accuracy did not improve from 0.89583\n",
            "Epoch 17/20\n",
            "15/15 [==============================] - 2s 154ms/step - loss: 0.3745 - accuracy: 0.8542 - val_loss: 0.3672 - val_accuracy: 0.8750\n",
            "\n",
            "Epoch 00017: val_accuracy did not improve from 0.89583\n",
            "Epoch 18/20\n",
            "15/15 [==============================] - 2s 161ms/step - loss: 0.4700 - accuracy: 0.8250 - val_loss: 0.5139 - val_accuracy: 0.8182\n",
            "\n",
            "Epoch 00018: val_accuracy did not improve from 0.89583\n",
            "Epoch 19/20\n",
            "15/15 [==============================] - 2s 148ms/step - loss: 0.4003 - accuracy: 0.8250 - val_loss: 0.4002 - val_accuracy: 0.8182\n",
            "\n",
            "Epoch 00019: val_accuracy did not improve from 0.89583\n",
            "Epoch 20/20\n",
            "15/15 [==============================] - 2s 150ms/step - loss: 0.3934 - accuracy: 0.8417 - val_loss: 0.2235 - val_accuracy: 0.8636\n",
            "\n",
            "Epoch 00020: val_accuracy did not improve from 0.89583\n"
          ],
          "name": "stdout"
        }
      ]
    },
    {
      "cell_type": "markdown",
      "metadata": {
        "id": "n8ifWp1CIgLY",
        "colab_type": "text"
      },
      "source": [
        "Model Accuracy Increased from 88% to 89% in Rms Prop Optimizer."
      ]
    },
    {
      "cell_type": "markdown",
      "metadata": {
        "id": "cqfiybn3IsJb",
        "colab_type": "text"
      },
      "source": [
        "Adam"
      ]
    },
    {
      "cell_type": "code",
      "metadata": {
        "id": "bYjhJGSK5J2O",
        "colab_type": "code",
        "colab": {}
      },
      "source": [
        "from keras.optimizers import Adam\n",
        "opt = Adam(lr=0.001,beta_1=0.9,\n",
        "    beta_2=0.999,\n",
        "    epsilon=1e-07,\n",
        "    amsgrad=False)\n",
        "model.compile(optimizer=opt, loss='categorical_crossentropy', metrics=['accuracy'])"
      ],
      "execution_count": null,
      "outputs": []
    },
    {
      "cell_type": "code",
      "metadata": {
        "id": "XPwUaC_c5Jtx",
        "colab_type": "code",
        "colab": {}
      },
      "source": [
        "from keras.callbacks import ModelCheckpoint,ReduceLROnPlateau\n",
        "checkpoint = ModelCheckpoint(\"Adam.h5\", monitor='val_accuracy', verbose=1, save_best_only=True, save_weights_only=False, mode='auto', period=1)\n",
        "rlr = ReduceLROnPlateau(monitor='val_loss', factor=0.2,\n",
        "                              patience=5, min_lr=0.001)"
      ],
      "execution_count": null,
      "outputs": []
    },
    {
      "cell_type": "code",
      "metadata": {
        "id": "Kt_GehwO5Jl6",
        "colab_type": "code",
        "colab": {
          "base_uri": "https://localhost:8080/",
          "height": 1000
        },
        "outputId": "8a2bf4d2-3c32-4566-f94a-9052f449a718"
      },
      "source": [
        "history=model.fit_generator(\n",
        "    train_generator,\n",
        "    steps_per_epoch=nb_train_samples//batch_size,\n",
        "    epochs=epochs,\n",
        "    validation_data=validation_generator,\n",
        "    validation_steps=nb_validation_samples//batch_size,\n",
        "    callbacks=[checkpoint,rlr])"
      ],
      "execution_count": null,
      "outputs": [
        {
          "output_type": "stream",
          "text": [
            "Epoch 1/20\n",
            "15/15 [==============================] - 2s 165ms/step - loss: 0.3707 - accuracy: 0.8625 - val_loss: 0.4349 - val_accuracy: 0.8958\n",
            "\n",
            "Epoch 00001: val_accuracy improved from -inf to 0.89583, saving model to Adam.h5\n",
            "Epoch 2/20\n",
            "15/15 [==============================] - 2s 152ms/step - loss: 0.3785 - accuracy: 0.8292 - val_loss: 0.3640 - val_accuracy: 0.8636\n",
            "\n",
            "Epoch 00002: val_accuracy did not improve from 0.89583\n",
            "Epoch 3/20\n",
            "15/15 [==============================] - 2s 155ms/step - loss: 0.3855 - accuracy: 0.8333 - val_loss: 0.4414 - val_accuracy: 0.9091\n",
            "\n",
            "Epoch 00003: val_accuracy improved from 0.89583 to 0.90909, saving model to Adam.h5\n",
            "Epoch 4/20\n",
            "15/15 [==============================] - 2s 150ms/step - loss: 0.3937 - accuracy: 0.8083 - val_loss: 0.1629 - val_accuracy: 0.9318\n",
            "\n",
            "Epoch 00004: val_accuracy improved from 0.90909 to 0.93182, saving model to Adam.h5\n",
            "Epoch 5/20\n",
            "15/15 [==============================] - 2s 158ms/step - loss: 0.3823 - accuracy: 0.8333 - val_loss: 0.2061 - val_accuracy: 0.8750\n",
            "\n",
            "Epoch 00005: val_accuracy did not improve from 0.93182\n",
            "Epoch 6/20\n",
            "15/15 [==============================] - 3s 167ms/step - loss: 0.3253 - accuracy: 0.8583 - val_loss: 0.4266 - val_accuracy: 0.9545\n",
            "\n",
            "Epoch 00006: val_accuracy improved from 0.93182 to 0.95455, saving model to Adam.h5\n",
            "Epoch 7/20\n",
            "15/15 [==============================] - 2s 149ms/step - loss: 0.3577 - accuracy: 0.8583 - val_loss: 0.2877 - val_accuracy: 0.8182\n",
            "\n",
            "Epoch 00007: val_accuracy did not improve from 0.95455\n",
            "Epoch 8/20\n",
            "15/15 [==============================] - 2s 148ms/step - loss: 0.3298 - accuracy: 0.8625 - val_loss: 0.6335 - val_accuracy: 0.8636\n",
            "\n",
            "Epoch 00008: val_accuracy did not improve from 0.95455\n",
            "Epoch 9/20\n",
            "15/15 [==============================] - 2s 159ms/step - loss: 0.3265 - accuracy: 0.8542 - val_loss: 0.1785 - val_accuracy: 0.9167\n",
            "\n",
            "Epoch 00009: val_accuracy did not improve from 0.95455\n",
            "Epoch 10/20\n",
            "15/15 [==============================] - 2s 159ms/step - loss: 0.3421 - accuracy: 0.8542 - val_loss: 0.2293 - val_accuracy: 0.8636\n",
            "\n",
            "Epoch 00010: val_accuracy did not improve from 0.95455\n",
            "Epoch 11/20\n",
            "15/15 [==============================] - 2s 154ms/step - loss: 0.3634 - accuracy: 0.8417 - val_loss: 0.1692 - val_accuracy: 0.9545\n",
            "\n",
            "Epoch 00011: val_accuracy did not improve from 0.95455\n",
            "Epoch 12/20\n",
            "15/15 [==============================] - 2s 146ms/step - loss: 0.4557 - accuracy: 0.8458 - val_loss: 0.3031 - val_accuracy: 0.8864\n",
            "\n",
            "Epoch 00012: val_accuracy did not improve from 0.95455\n",
            "Epoch 13/20\n",
            "15/15 [==============================] - 2s 158ms/step - loss: 0.4208 - accuracy: 0.8000 - val_loss: 0.2675 - val_accuracy: 0.9167\n",
            "\n",
            "Epoch 00013: val_accuracy did not improve from 0.95455\n",
            "Epoch 14/20\n",
            "15/15 [==============================] - 2s 162ms/step - loss: 0.3752 - accuracy: 0.8500 - val_loss: 0.0820 - val_accuracy: 0.9318\n",
            "\n",
            "Epoch 00014: val_accuracy did not improve from 0.95455\n",
            "Epoch 15/20\n",
            "15/15 [==============================] - 2s 155ms/step - loss: 0.3662 - accuracy: 0.8375 - val_loss: 0.2192 - val_accuracy: 0.8636\n",
            "\n",
            "Epoch 00015: val_accuracy did not improve from 0.95455\n",
            "Epoch 16/20\n",
            "15/15 [==============================] - 2s 152ms/step - loss: 0.3803 - accuracy: 0.8500 - val_loss: 0.2371 - val_accuracy: 0.7955\n",
            "\n",
            "Epoch 00016: val_accuracy did not improve from 0.95455\n",
            "Epoch 17/20\n",
            "15/15 [==============================] - 2s 159ms/step - loss: 0.2861 - accuracy: 0.8708 - val_loss: 0.2912 - val_accuracy: 0.9167\n",
            "\n",
            "Epoch 00017: val_accuracy did not improve from 0.95455\n",
            "Epoch 18/20\n",
            "15/15 [==============================] - 2s 158ms/step - loss: 0.3340 - accuracy: 0.8792 - val_loss: 0.3520 - val_accuracy: 0.8864\n",
            "\n",
            "Epoch 00018: val_accuracy did not improve from 0.95455\n",
            "Epoch 19/20\n",
            "15/15 [==============================] - 2s 156ms/step - loss: 0.3335 - accuracy: 0.8375 - val_loss: 0.1660 - val_accuracy: 1.0000\n",
            "\n",
            "Epoch 00019: val_accuracy improved from 0.95455 to 1.00000, saving model to Adam.h5\n",
            "Epoch 20/20\n",
            "15/15 [==============================] - 2s 161ms/step - loss: 0.3143 - accuracy: 0.8542 - val_loss: 0.2989 - val_accuracy: 0.7955\n",
            "\n",
            "Epoch 00020: val_accuracy did not improve from 1.00000\n"
          ],
          "name": "stdout"
        }
      ]
    },
    {
      "cell_type": "markdown",
      "metadata": {
        "id": "WfPCBxPGJ8gB",
        "colab_type": "text"
      },
      "source": [
        "Adam Has Predicted the Test set with 100% accuracy. Adam has predicted the best among all the optimizers."
      ]
    },
    {
      "cell_type": "markdown",
      "metadata": {
        "id": "n-nbLai0KKVX",
        "colab_type": "text"
      },
      "source": [
        "Nadam\n",
        "Nadam is Adam, but with Nesterov momentum instead of ordinary momentum. The advantage of using Nesterov momentum instead of regular momentum is the same as it is in the SGD case."
      ]
    },
    {
      "cell_type": "code",
      "metadata": {
        "id": "hIVbqzqb5Jks",
        "colab_type": "code",
        "colab": {
          "base_uri": "https://localhost:8080/",
          "height": 34
        },
        "outputId": "324dc18f-82ec-4495-ab8b-a5f49ca46767"
      },
      "source": [
        "tf.keras.optimizers.Nadam(\n",
        "    learning_rate=0.001, beta_1=0.9, beta_2=0.999, epsilon=1e-07\n",
        ")"
      ],
      "execution_count": null,
      "outputs": [
        {
          "output_type": "execute_result",
          "data": {
            "text/plain": [
              "<tensorflow.python.keras.optimizer_v2.nadam.Nadam at 0x7f83f109b710>"
            ]
          },
          "metadata": {
            "tags": []
          },
          "execution_count": 33
        }
      ]
    },
    {
      "cell_type": "code",
      "metadata": {
        "id": "0qsRqPPX5JTj",
        "colab_type": "code",
        "colab": {}
      },
      "source": [
        "from keras.callbacks import ModelCheckpoint,ReduceLROnPlateau\n",
        "checkpoint = ModelCheckpoint(\"Nadam.h5\", monitor='val_accuracy', verbose=1, save_best_only=True, save_weights_only=False, mode='auto', period=1)\n",
        "rlr = ReduceLROnPlateau(monitor='val_loss', factor=0.2,\n",
        "                              patience=5, min_lr=0.001)"
      ],
      "execution_count": null,
      "outputs": []
    },
    {
      "cell_type": "code",
      "metadata": {
        "id": "QUQiwlanKinJ",
        "colab_type": "code",
        "colab": {
          "base_uri": "https://localhost:8080/",
          "height": 1000
        },
        "outputId": "c6082144-3f5f-4ec4-fca7-850d3736dc6a"
      },
      "source": [
        "history=model.fit_generator(\n",
        "    train_generator,\n",
        "    steps_per_epoch=nb_train_samples//batch_size,\n",
        "    epochs=epochs,\n",
        "    validation_data=validation_generator,\n",
        "    validation_steps=nb_validation_samples//batch_size,\n",
        "    callbacks=[checkpoint,rlr])"
      ],
      "execution_count": null,
      "outputs": [
        {
          "output_type": "stream",
          "text": [
            "Epoch 1/20\n",
            "15/15 [==============================] - 2s 160ms/step - loss: 0.3402 - accuracy: 0.8625 - val_loss: 0.2916 - val_accuracy: 0.9167\n",
            "\n",
            "Epoch 00001: val_accuracy improved from -inf to 0.91667, saving model to Nadam.h5\n",
            "Epoch 2/20\n",
            "15/15 [==============================] - 2s 161ms/step - loss: 0.3106 - accuracy: 0.8583 - val_loss: 0.0709 - val_accuracy: 0.9545\n",
            "\n",
            "Epoch 00002: val_accuracy improved from 0.91667 to 0.95455, saving model to Nadam.h5\n",
            "Epoch 3/20\n",
            "15/15 [==============================] - 2s 150ms/step - loss: 0.3414 - accuracy: 0.8583 - val_loss: 0.1291 - val_accuracy: 0.9318\n",
            "\n",
            "Epoch 00003: val_accuracy did not improve from 0.95455\n",
            "Epoch 4/20\n",
            "15/15 [==============================] - 2s 162ms/step - loss: 0.2995 - accuracy: 0.8750 - val_loss: 0.3411 - val_accuracy: 0.8182\n",
            "\n",
            "Epoch 00004: val_accuracy did not improve from 0.95455\n",
            "Epoch 5/20\n",
            "15/15 [==============================] - 2s 160ms/step - loss: 0.2670 - accuracy: 0.8917 - val_loss: 0.1610 - val_accuracy: 0.8958\n",
            "\n",
            "Epoch 00005: val_accuracy did not improve from 0.95455\n",
            "Epoch 6/20\n",
            "15/15 [==============================] - 2s 164ms/step - loss: 0.2645 - accuracy: 0.8917 - val_loss: 0.1085 - val_accuracy: 0.8636\n",
            "\n",
            "Epoch 00006: val_accuracy did not improve from 0.95455\n",
            "Epoch 7/20\n",
            "15/15 [==============================] - 2s 161ms/step - loss: 0.2977 - accuracy: 0.8667 - val_loss: 0.2503 - val_accuracy: 0.8636\n",
            "\n",
            "Epoch 00007: val_accuracy did not improve from 0.95455\n",
            "Epoch 8/20\n",
            "15/15 [==============================] - 2s 155ms/step - loss: 0.2832 - accuracy: 0.8917 - val_loss: 0.1935 - val_accuracy: 0.8864\n",
            "\n",
            "Epoch 00008: val_accuracy did not improve from 0.95455\n",
            "Epoch 9/20\n",
            "15/15 [==============================] - 2s 164ms/step - loss: 0.2500 - accuracy: 0.9000 - val_loss: 0.1348 - val_accuracy: 0.9583\n",
            "\n",
            "Epoch 00009: val_accuracy improved from 0.95455 to 0.95833, saving model to Nadam.h5\n",
            "Epoch 10/20\n",
            "15/15 [==============================] - 3s 169ms/step - loss: 0.2712 - accuracy: 0.8750 - val_loss: 0.1433 - val_accuracy: 0.7955\n",
            "\n",
            "Epoch 00010: val_accuracy did not improve from 0.95833\n",
            "Epoch 11/20\n",
            "15/15 [==============================] - 2s 160ms/step - loss: 0.2664 - accuracy: 0.8875 - val_loss: 0.2291 - val_accuracy: 0.9091\n",
            "\n",
            "Epoch 00011: val_accuracy did not improve from 0.95833\n",
            "Epoch 12/20\n",
            "15/15 [==============================] - 2s 151ms/step - loss: 0.2868 - accuracy: 0.8750 - val_loss: 0.6352 - val_accuracy: 0.8636\n",
            "\n",
            "Epoch 00012: val_accuracy did not improve from 0.95833\n",
            "Epoch 13/20\n",
            "15/15 [==============================] - 2s 164ms/step - loss: 0.3292 - accuracy: 0.8708 - val_loss: 0.2301 - val_accuracy: 0.8958\n",
            "\n",
            "Epoch 00013: val_accuracy did not improve from 0.95833\n",
            "Epoch 14/20\n",
            "15/15 [==============================] - 3s 170ms/step - loss: 0.3047 - accuracy: 0.8708 - val_loss: 0.3441 - val_accuracy: 0.8864\n",
            "\n",
            "Epoch 00014: val_accuracy did not improve from 0.95833\n",
            "Epoch 15/20\n",
            "15/15 [==============================] - 2s 162ms/step - loss: 0.2994 - accuracy: 0.8833 - val_loss: 0.2573 - val_accuracy: 0.9091\n",
            "\n",
            "Epoch 00015: val_accuracy did not improve from 0.95833\n",
            "Epoch 16/20\n",
            "15/15 [==============================] - 2s 153ms/step - loss: 0.2635 - accuracy: 0.8875 - val_loss: 0.1153 - val_accuracy: 0.9318\n",
            "\n",
            "Epoch 00016: val_accuracy did not improve from 0.95833\n",
            "Epoch 17/20\n",
            "15/15 [==============================] - 2s 165ms/step - loss: 0.2826 - accuracy: 0.8875 - val_loss: 0.1188 - val_accuracy: 0.9583\n",
            "\n",
            "Epoch 00017: val_accuracy did not improve from 0.95833\n",
            "Epoch 18/20\n",
            "15/15 [==============================] - 2s 167ms/step - loss: 0.3046 - accuracy: 0.8667 - val_loss: 0.2224 - val_accuracy: 0.8864\n",
            "\n",
            "Epoch 00018: val_accuracy did not improve from 0.95833\n",
            "Epoch 19/20\n",
            "15/15 [==============================] - 2s 161ms/step - loss: 0.2711 - accuracy: 0.9000 - val_loss: 0.1262 - val_accuracy: 0.9318\n",
            "\n",
            "Epoch 00019: val_accuracy did not improve from 0.95833\n",
            "Epoch 20/20\n",
            "15/15 [==============================] - 2s 152ms/step - loss: 0.3066 - accuracy: 0.8875 - val_loss: 0.1566 - val_accuracy: 0.8864\n",
            "\n",
            "Epoch 00020: val_accuracy did not improve from 0.95833\n"
          ],
          "name": "stdout"
        }
      ]
    },
    {
      "cell_type": "markdown",
      "metadata": {
        "id": "FNLwaZ6dLAAA",
        "colab_type": "text"
      },
      "source": [
        "Using Nadam Optimizer , Accuracy of the model is 95%.\n",
        "\n",
        "\n",
        "\n",
        "\n",
        "This callback monitors a quantity and if no improvement is seen for a 'patience' number of epochs, the learning rate is reduced."
      ]
    },
    {
      "cell_type": "code",
      "metadata": {
        "id": "9LL0_NGlLHz4",
        "colab_type": "code",
        "colab": {}
      },
      "source": [
        ""
      ],
      "execution_count": null,
      "outputs": []
    }
  ]
}