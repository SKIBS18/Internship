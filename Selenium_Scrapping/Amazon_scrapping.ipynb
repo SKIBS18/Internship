{
 "cells": [
  {
   "cell_type": "code",
   "execution_count": 82,
   "id": "544ca3da",
   "metadata": {},
   "outputs": [],
   "source": [
    "from selenium import webdriver"
   ]
  },
  {
   "cell_type": "code",
   "execution_count": 83,
   "id": "b1145290",
   "metadata": {},
   "outputs": [],
   "source": [
    "from time import sleep"
   ]
  },
  {
   "cell_type": "code",
   "execution_count": 84,
   "id": "aaafe1ec",
   "metadata": {},
   "outputs": [],
   "source": [
    "from selenium.webdriver.common.by import By\n",
    "import pandas as pd\n",
    "import warnings\n",
    "warnings.filterwarnings('ignore')"
   ]
  },
  {
   "cell_type": "code",
   "execution_count": 85,
   "id": "bb984540",
   "metadata": {},
   "outputs": [],
   "source": [
    "driver = webdriver.Chrome(r'C:\\Users\\shail\\Downloads\\chromedriver_win32\\chromedriver.exe')"
   ]
  },
  {
   "cell_type": "code",
   "execution_count": 86,
   "id": "397f67fb",
   "metadata": {},
   "outputs": [],
   "source": [
    "url = 'https://www.amazon.in/'\n",
    "driver.get(url)"
   ]
  },
  {
   "cell_type": "code",
   "execution_count": 87,
   "id": "07982844",
   "metadata": {},
   "outputs": [
    {
     "data": {
      "text/plain": [
       "<selenium.webdriver.remote.webelement.WebElement (session=\"8f1b7e48ca248088c231537315ba4c18\", element=\"e8f980e8-dfe8-4363-9f55-6e0c9d90096f\")>"
      ]
     },
     "execution_count": 87,
     "metadata": {},
     "output_type": "execute_result"
    }
   ],
   "source": [
    "search_laptop = driver.find_element(By.XPATH,\"/html/body/div[1]/header/div/div[1]/div[2]/div/form/div[2]/div[1]/input\")\n",
    "search_laptop"
   ]
  },
  {
   "cell_type": "code",
   "execution_count": 88,
   "id": "e1bc9a8b",
   "metadata": {},
   "outputs": [],
   "source": [
    "search_laptop.send_keys(\"Laptop\")"
   ]
  },
  {
   "cell_type": "code",
   "execution_count": 89,
   "id": "2b70d973",
   "metadata": {},
   "outputs": [
    {
     "data": {
      "text/plain": [
       "<selenium.webdriver.remote.webelement.WebElement (session=\"8f1b7e48ca248088c231537315ba4c18\", element=\"2afaf888-f4b3-46c2-9b45-f2826f708346\")>"
      ]
     },
     "execution_count": 89,
     "metadata": {},
     "output_type": "execute_result"
    }
   ],
   "source": [
    "search_btn = driver.find_element(By.XPATH,\"/html/body/div[1]/header/div/div[1]/div[2]/div/form/div[3]/div/span/input\")\n",
    "search_btn"
   ]
  },
  {
   "cell_type": "code",
   "execution_count": 90,
   "id": "51e523bb",
   "metadata": {},
   "outputs": [],
   "source": [
    "search_btn.click()"
   ]
  },
  {
   "cell_type": "code",
   "execution_count": 91,
   "id": "1702efcf",
   "metadata": {},
   "outputs": [],
   "source": [
    "cpu_filter = driver.find_element(By.XPATH,\"/html/body/div[1]/div[2]/div[1]/div[2]/div/div[3]/span/div[1]/div/div/div[5]/ul[2]/li[12]/span/a/div/label/i\")"
   ]
  },
  {
   "cell_type": "code",
   "execution_count": 92,
   "id": "dff88aa5",
   "metadata": {},
   "outputs": [],
   "source": [
    "cpu_filter.click()"
   ]
  },
  {
   "cell_type": "code",
   "execution_count": 93,
   "id": "c0f5f5b6",
   "metadata": {},
   "outputs": [],
   "source": [
    "brand = []\n",
    "rating = []\n",
    "price = []\n",
    "\n",
    "all_products = driver.find_elements(By.XPATH,'//div[@data-component-type=\"s-search-result\"]')\n",
    "\n",
    "for product in all_products:\n",
    "    \n",
    "    brands_name = product.find_elements(By.XPATH,'.//span[@class=\"a-size-medium a-color-base a-text-normal\"]')\n",
    "    for a in brands_name:\n",
    "        brand.append(a.text)\n",
    "    try:\n",
    "        if len(product.find_elements(By.XPATH,\".//div[@class='a-row a-size-small']/span[1]\"))>0:\n",
    "            star = product.find_elements(By.XPATH,\".//div[@class='a-row a-size-small']/span[1]\")\n",
    "            for b in star:\n",
    "                rating.append(b.get_attribute(\"aria-label\"))\n",
    "        else:\n",
    "            rating.append(\"NA\")\n",
    "    except:\n",
    "        pass\n",
    "                 \n",
    "    amount = product.find_elements(By.XPATH,\".//span[@class='a-price-whole']\")\n",
    "    for c in amount:\n",
    "        price.append(c.text)\n",
    "    \n",
    "\n"
   ]
  },
  {
   "cell_type": "code",
   "execution_count": 94,
   "id": "88da4f56",
   "metadata": {},
   "outputs": [
    {
     "data": {
      "text/plain": [
       "['ASUS TUF Gaming F15 (2021), 15.6\" (39.62 cms) FHD 144Hz, Intel Core i7-11600H 11th Gen, 4GB RTX 3050 Graphics, Gaming Laptop (16GB/512GB SSD/Windows 10/Office 2019/Gray/2.3 Kg), FX566HCB-HN299TS',\n",
       " 'ASUS Vivobook 15, 15.6-inch (39.62 cms) FHD, Intel Core i7-1065G7 10th Gen, Thin and Light Laptop (16GB/512GB SSD/Iris Plus Graphics/Windows 11/Office 2021/Silver/1.8 kg), X515JA-EJ701WS',\n",
       " 'Lenovo IdeaPad Slim 5 Pro Intel Core i7 11th Gen 14\" (35.56cm) 2.2K IPS Thin & Light Laptop (16GB/512GB SSD/Win11/Office 2021/Backlit/3Yr Warranty/3months Game Pass/Storm Grey/1.38Kg), 82L3006YIN',\n",
       " 'Hp Pavilion 15 12Th Gen Intel Core I7 16Gb Sdram/1Tb Ssd 15.6 Inches (39.6Cm) Fhd,IPS/Intel Iris Xe Graphics/B&O/Windows 11 Home/Alexa/Backlit Kb/Fpr/Mso 2021/1.75Kg, 15-Eg2039Tu, Natural Silver',\n",
       " '(Renewed) Dell Latitude E7470 Intel Core i7 6th Gen 14 inches Laptop /16 GB RAM/512 GB SSD/Windows 10 Pro/MS Office/HD Display/Integrated Graphics, 1.9 kg',\n",
       " '(Renewed) Lenovo IdeaPad Slim 3i (82H801CSIN) Intel Core i5-1135G7 15.6 inches FHD Laptop (8GB /256GB SSD /Iris Xe Graphics /Windows 10 Home SL) Arctic Grey, 2.2kg',\n",
       " '(Renewed) Dell Intel Core i7 7th Gen 14.Inch(35.6 cms) (1920 x 1080)FHD TOUCHSCREEN Laptop (16GB RAM /1TB HDD/Windows 10 Pro/MS Office/ Intel HD Integrated Graphics/1.18Kg,Black) Latitude E7480',\n",
       " 'ASUS Vivobook S15 OLED (2022), 15.6\" (39.62 cms) FHD OLED, Intel Core Evo i7-12700H 12th Gen, Thin and Light Laptop (16GB/512GB SSD/Iris Xe Graphics/Windows 11/Office 2021/Black/1.8 kg) K3502ZA-L702WS',\n",
       " '(Renewed) HP 840G1 Elitebook 14 Inch Screen Laptop (4th Gen Intel Core i7 - 4600u /8 GB/240 GB SSD/Widnows 10 Pro), Black-Grey',\n",
       " '(Renewed) Dell Intel Core i7 7th Gen 14.Inch(35.6 cms) (1920 x 1080)FHD TOUCHSCREEN Laptop (32GB RAM /2TB HDD/Windows 10 Pro/MS Office/Intel HD Integrated Graphics/ Black/1.18Kg,Black) Latitude E7480',\n",
       " '(Renewed) Lenovo Thinkpad T430-i7-16 GB-240 GB 14-inch Laptop (3rd Gen Core i7/16GB/240GB/Windows 7/Integrated Graphics), Black',\n",
       " '(Refurbished) Lenovo Intel Core i7-4th Gen 14 Inch(35.56 cms) 1920 x 1080 HD Laptop (16GB RAM /2TB HDD/Windows 10 Pro/MS Office/ Intel HD graphics,Black,2.0kg) Lenovo ThinkPad T440p',\n",
       " 'Infinix INBook X1 Pro Core i7 10th Gen - (16 GB/512 GB SSD/Windows 11 Home) XL12 Thin and Light Laptop (14 Inch, Noble Red, 1.48 kg)',\n",
       " '(Renewed) MSI Gaming Intel 8th Gen Core i7 17.3-Inch (43.94 cms) 1920x1080 Laptop (16 GB/1 TB/Windows 10/NVIDIA GeForce GTX 1070/Black/3.10 Kg), MSI GE73 8RF-024IN',\n",
       " '(Renewed) ASUS VivoBook 14 (2021), 14-inch (35.56 cms) FHD, Intel Core i7-1065G7 10th Gen, Thin and Light Laptop (16GB/512GB SSD/Integrated Graphics/Office 2021/Windows 11/Silver/1.6 Kg), X415JA-EK701WS',\n",
       " '(Renewed) Dell Latitude Laptop E7250 Intel Core i7 - 5600u Processor, 16 GB Ram & 512 GB SSD, 12.5 Inches Ultralight Notebook Computer (1.35 Kg)',\n",
       " '(Renewed) Dell Latitude Laptop E7250 Intel Core i7 - 5600u Processor, 4 GB Ram & 512 GB SSD, 12.5 Inches Ultralight Notebook Computer (1.35 Kg)',\n",
       " '(Renewed) Lenovo Intel 6th Gen Core i7 12.5 Inch(31.75 cms) 1366 x 768 HD Laptop (16GB RAM/1TB HDD/Windows 10 Pro/MS Office/ Intel HD graphics,Black,1.5.0kg) Lenovo ThinkPad X260',\n",
       " '(Renewed) Lenovo Intel 6th Gen Core i7 12.5 Inch(31.75 cms) 1366 x 768 HD Laptop (8GB RAM/1TB HDD/Windows 10 Pro/MS Office/ Intel HD graphics,Black,1.5.0kg) Lenovo ThinkPad X260',\n",
       " 'MSI Summit E16 Flip, Intel i7-1195G7, 16\" QHD+ IPS-Level 120Hz Panel Laptop (16GB/1TB NVMe SSD/Windows 10 Home/Nvidia RTX3050 4GB Graphics/Ink Black/2Kg), A11UCT-085IN',\n",
       " '(Renewed) Lenovo Intel 6th Gen Core i7 12.5 Inch(31.75 cms) 1366 x 768 HD Laptop (16GB RAM/1TB SSD/Windows 10 Pro/MS Office/ Intel HD graphics,Black,1.5.0kg) Lenovo ThinkPad X260',\n",
       " '(Renewed) Lenovo Intel 6th Gen Core i7 12.5 Inch(31.75 cms) 1366 x 768 HD Laptop (16GB RAM/128 SSD & 1TB HDD/Windows 10 Pro/MS Office/ Intel HD graphics,Black,1.5.0kg) Lenovo ThinkPad X260',\n",
       " '(Renewed) Lenovo Intel 6th Gen Core i7 12.5 Inch(31.75 cms) 1366 x 768 HD Laptop (16GB RAM/128 SSD & 2 TB HDD/Windows 10 Pro/MS Office/ Intel HD graphics,Black,1.5.0kg) Lenovo ThinkPad X260',\n",
       " '(Renewed) Lenovo Intel 6th Gen Core i7 12.5 Inch(31.75 cms) 1366 x 768 HD Laptop (8GB RAM/256 SSD/Windows 10 Pro/MS Office/ Intel HD graphics,Black,1.5.0kg) Lenovo ThinkPad X260']"
      ]
     },
     "execution_count": 94,
     "metadata": {},
     "output_type": "execute_result"
    }
   ],
   "source": [
    "brand"
   ]
  },
  {
   "cell_type": "code",
   "execution_count": 95,
   "id": "c2765dd2",
   "metadata": {},
   "outputs": [
    {
     "data": {
      "text/plain": [
       "24"
      ]
     },
     "execution_count": 95,
     "metadata": {},
     "output_type": "execute_result"
    }
   ],
   "source": [
    "len(brand)"
   ]
  },
  {
   "cell_type": "code",
   "execution_count": 99,
   "id": "14491838",
   "metadata": {},
   "outputs": [],
   "source": [
    "b = brand[0:10]"
   ]
  },
  {
   "cell_type": "code",
   "execution_count": 100,
   "id": "d05937a8",
   "metadata": {},
   "outputs": [
    {
     "data": {
      "text/plain": [
       "['ASUS TUF Gaming F15 (2021), 15.6\" (39.62 cms) FHD 144Hz, Intel Core i7-11600H 11th Gen, 4GB RTX 3050 Graphics, Gaming Laptop (16GB/512GB SSD/Windows 10/Office 2019/Gray/2.3 Kg), FX566HCB-HN299TS',\n",
       " 'ASUS Vivobook 15, 15.6-inch (39.62 cms) FHD, Intel Core i7-1065G7 10th Gen, Thin and Light Laptop (16GB/512GB SSD/Iris Plus Graphics/Windows 11/Office 2021/Silver/1.8 kg), X515JA-EJ701WS',\n",
       " 'Lenovo IdeaPad Slim 5 Pro Intel Core i7 11th Gen 14\" (35.56cm) 2.2K IPS Thin & Light Laptop (16GB/512GB SSD/Win11/Office 2021/Backlit/3Yr Warranty/3months Game Pass/Storm Grey/1.38Kg), 82L3006YIN',\n",
       " 'Hp Pavilion 15 12Th Gen Intel Core I7 16Gb Sdram/1Tb Ssd 15.6 Inches (39.6Cm) Fhd,IPS/Intel Iris Xe Graphics/B&O/Windows 11 Home/Alexa/Backlit Kb/Fpr/Mso 2021/1.75Kg, 15-Eg2039Tu, Natural Silver',\n",
       " '(Renewed) Dell Latitude E7470 Intel Core i7 6th Gen 14 inches Laptop /16 GB RAM/512 GB SSD/Windows 10 Pro/MS Office/HD Display/Integrated Graphics, 1.9 kg',\n",
       " '(Renewed) Lenovo IdeaPad Slim 3i (82H801CSIN) Intel Core i5-1135G7 15.6 inches FHD Laptop (8GB /256GB SSD /Iris Xe Graphics /Windows 10 Home SL) Arctic Grey, 2.2kg',\n",
       " '(Renewed) Dell Intel Core i7 7th Gen 14.Inch(35.6 cms) (1920 x 1080)FHD TOUCHSCREEN Laptop (16GB RAM /1TB HDD/Windows 10 Pro/MS Office/ Intel HD Integrated Graphics/1.18Kg,Black) Latitude E7480',\n",
       " 'ASUS Vivobook S15 OLED (2022), 15.6\" (39.62 cms) FHD OLED, Intel Core Evo i7-12700H 12th Gen, Thin and Light Laptop (16GB/512GB SSD/Iris Xe Graphics/Windows 11/Office 2021/Black/1.8 kg) K3502ZA-L702WS',\n",
       " '(Renewed) HP 840G1 Elitebook 14 Inch Screen Laptop (4th Gen Intel Core i7 - 4600u /8 GB/240 GB SSD/Widnows 10 Pro), Black-Grey',\n",
       " '(Renewed) Dell Intel Core i7 7th Gen 14.Inch(35.6 cms) (1920 x 1080)FHD TOUCHSCREEN Laptop (32GB RAM /2TB HDD/Windows 10 Pro/MS Office/Intel HD Integrated Graphics/ Black/1.18Kg,Black) Latitude E7480']"
      ]
     },
     "execution_count": 100,
     "metadata": {},
     "output_type": "execute_result"
    }
   ],
   "source": [
    "b"
   ]
  },
  {
   "cell_type": "code",
   "execution_count": 96,
   "id": "72a129a2",
   "metadata": {},
   "outputs": [
    {
     "data": {
      "text/plain": [
       "['4.4 out of 5 stars',\n",
       " '4.2 out of 5 stars',\n",
       " '3.8 out of 5 stars',\n",
       " '4.0 out of 5 stars',\n",
       " '3.8 out of 5 stars',\n",
       " 'NA',\n",
       " 'NA',\n",
       " '3.4 out of 5 stars',\n",
       " 'NA',\n",
       " 'NA',\n",
       " 'NA',\n",
       " '1.0 out of 5 stars',\n",
       " 'NA',\n",
       " '5.0 out of 5 stars',\n",
       " '5.0 out of 5 stars',\n",
       " 'NA',\n",
       " 'NA',\n",
       " 'NA',\n",
       " 'NA',\n",
       " 'NA',\n",
       " 'NA',\n",
       " 'NA',\n",
       " 'NA',\n",
       " 'NA']"
      ]
     },
     "execution_count": 96,
     "metadata": {},
     "output_type": "execute_result"
    }
   ],
   "source": [
    "rating"
   ]
  },
  {
   "cell_type": "code",
   "execution_count": 97,
   "id": "fac8278f",
   "metadata": {},
   "outputs": [],
   "source": [
    "r = rating[0:10]"
   ]
  },
  {
   "cell_type": "code",
   "execution_count": 98,
   "id": "e33e9eef",
   "metadata": {},
   "outputs": [
    {
     "data": {
      "text/plain": [
       "['4.4 out of 5 stars',\n",
       " '4.2 out of 5 stars',\n",
       " '3.8 out of 5 stars',\n",
       " '4.0 out of 5 stars',\n",
       " '3.8 out of 5 stars',\n",
       " 'NA',\n",
       " 'NA',\n",
       " '3.4 out of 5 stars',\n",
       " 'NA',\n",
       " 'NA']"
      ]
     },
     "execution_count": 98,
     "metadata": {},
     "output_type": "execute_result"
    }
   ],
   "source": [
    "r"
   ]
  },
  {
   "cell_type": "code",
   "execution_count": 101,
   "id": "7a3c98b0",
   "metadata": {},
   "outputs": [],
   "source": [
    "p = price[0:10]"
   ]
  },
  {
   "cell_type": "code",
   "execution_count": 102,
   "id": "c47aa52e",
   "metadata": {},
   "outputs": [
    {
     "data": {
      "text/plain": [
       "['89,990',\n",
       " '57,890',\n",
       " '75,990',\n",
       " '87,900',\n",
       " '39,177',\n",
       " '38,325',\n",
       " '51,995',\n",
       " '94,990',\n",
       " '37,190',\n",
       " '56,995']"
      ]
     },
     "execution_count": 102,
     "metadata": {},
     "output_type": "execute_result"
    }
   ],
   "source": [
    "p"
   ]
  },
  {
   "cell_type": "code",
   "execution_count": 103,
   "id": "6f793026",
   "metadata": {},
   "outputs": [
    {
     "data": {
      "text/html": [
       "<div>\n",
       "<style scoped>\n",
       "    .dataframe tbody tr th:only-of-type {\n",
       "        vertical-align: middle;\n",
       "    }\n",
       "\n",
       "    .dataframe tbody tr th {\n",
       "        vertical-align: top;\n",
       "    }\n",
       "\n",
       "    .dataframe thead th {\n",
       "        text-align: right;\n",
       "    }\n",
       "</style>\n",
       "<table border=\"1\" class=\"dataframe\">\n",
       "  <thead>\n",
       "    <tr style=\"text-align: right;\">\n",
       "      <th></th>\n",
       "      <th>Brand</th>\n",
       "      <th>Price</th>\n",
       "      <th>Rating</th>\n",
       "    </tr>\n",
       "  </thead>\n",
       "  <tbody>\n",
       "    <tr>\n",
       "      <th>0</th>\n",
       "      <td>ASUS TUF Gaming F15 (2021), 15.6\" (39.62 cms) ...</td>\n",
       "      <td>89,990</td>\n",
       "      <td>4.4 out of 5 stars</td>\n",
       "    </tr>\n",
       "    <tr>\n",
       "      <th>1</th>\n",
       "      <td>ASUS Vivobook 15, 15.6-inch (39.62 cms) FHD, I...</td>\n",
       "      <td>57,890</td>\n",
       "      <td>4.2 out of 5 stars</td>\n",
       "    </tr>\n",
       "    <tr>\n",
       "      <th>2</th>\n",
       "      <td>Lenovo IdeaPad Slim 5 Pro Intel Core i7 11th G...</td>\n",
       "      <td>75,990</td>\n",
       "      <td>3.8 out of 5 stars</td>\n",
       "    </tr>\n",
       "    <tr>\n",
       "      <th>3</th>\n",
       "      <td>Hp Pavilion 15 12Th Gen Intel Core I7 16Gb Sdr...</td>\n",
       "      <td>87,900</td>\n",
       "      <td>4.0 out of 5 stars</td>\n",
       "    </tr>\n",
       "    <tr>\n",
       "      <th>4</th>\n",
       "      <td>(Renewed) Dell Latitude E7470 Intel Core i7 6t...</td>\n",
       "      <td>39,177</td>\n",
       "      <td>3.8 out of 5 stars</td>\n",
       "    </tr>\n",
       "    <tr>\n",
       "      <th>5</th>\n",
       "      <td>(Renewed) Lenovo IdeaPad Slim 3i (82H801CSIN) ...</td>\n",
       "      <td>38,325</td>\n",
       "      <td>NA</td>\n",
       "    </tr>\n",
       "    <tr>\n",
       "      <th>6</th>\n",
       "      <td>(Renewed) Dell Intel Core i7 7th Gen 14.Inch(3...</td>\n",
       "      <td>51,995</td>\n",
       "      <td>NA</td>\n",
       "    </tr>\n",
       "    <tr>\n",
       "      <th>7</th>\n",
       "      <td>ASUS Vivobook S15 OLED (2022), 15.6\" (39.62 cm...</td>\n",
       "      <td>94,990</td>\n",
       "      <td>3.4 out of 5 stars</td>\n",
       "    </tr>\n",
       "    <tr>\n",
       "      <th>8</th>\n",
       "      <td>(Renewed) HP 840G1 Elitebook 14 Inch Screen La...</td>\n",
       "      <td>37,190</td>\n",
       "      <td>NA</td>\n",
       "    </tr>\n",
       "    <tr>\n",
       "      <th>9</th>\n",
       "      <td>(Renewed) Dell Intel Core i7 7th Gen 14.Inch(3...</td>\n",
       "      <td>56,995</td>\n",
       "      <td>NA</td>\n",
       "    </tr>\n",
       "  </tbody>\n",
       "</table>\n",
       "</div>"
      ],
      "text/plain": [
       "                                               Brand   Price  \\\n",
       "0  ASUS TUF Gaming F15 (2021), 15.6\" (39.62 cms) ...  89,990   \n",
       "1  ASUS Vivobook 15, 15.6-inch (39.62 cms) FHD, I...  57,890   \n",
       "2  Lenovo IdeaPad Slim 5 Pro Intel Core i7 11th G...  75,990   \n",
       "3  Hp Pavilion 15 12Th Gen Intel Core I7 16Gb Sdr...  87,900   \n",
       "4  (Renewed) Dell Latitude E7470 Intel Core i7 6t...  39,177   \n",
       "5  (Renewed) Lenovo IdeaPad Slim 3i (82H801CSIN) ...  38,325   \n",
       "6  (Renewed) Dell Intel Core i7 7th Gen 14.Inch(3...  51,995   \n",
       "7  ASUS Vivobook S15 OLED (2022), 15.6\" (39.62 cm...  94,990   \n",
       "8  (Renewed) HP 840G1 Elitebook 14 Inch Screen La...  37,190   \n",
       "9  (Renewed) Dell Intel Core i7 7th Gen 14.Inch(3...  56,995   \n",
       "\n",
       "               Rating  \n",
       "0  4.4 out of 5 stars  \n",
       "1  4.2 out of 5 stars  \n",
       "2  3.8 out of 5 stars  \n",
       "3  4.0 out of 5 stars  \n",
       "4  3.8 out of 5 stars  \n",
       "5                  NA  \n",
       "6                  NA  \n",
       "7  3.4 out of 5 stars  \n",
       "8                  NA  \n",
       "9                  NA  "
      ]
     },
     "execution_count": 103,
     "metadata": {},
     "output_type": "execute_result"
    }
   ],
   "source": [
    "df = pd.DataFrame({'Brand':b,'Price':p,'Rating':r})\n",
    "df"
   ]
  },
  {
   "cell_type": "code",
   "execution_count": null,
   "id": "fd3cb5c1",
   "metadata": {},
   "outputs": [],
   "source": []
  }
 ],
 "metadata": {
  "kernelspec": {
   "display_name": "Python 3 (ipykernel)",
   "language": "python",
   "name": "python3"
  },
  "language_info": {
   "codemirror_mode": {
    "name": "ipython",
    "version": 3
   },
   "file_extension": ".py",
   "mimetype": "text/x-python",
   "name": "python",
   "nbconvert_exporter": "python",
   "pygments_lexer": "ipython3",
   "version": "3.9.7"
  }
 },
 "nbformat": 4,
 "nbformat_minor": 5
}
