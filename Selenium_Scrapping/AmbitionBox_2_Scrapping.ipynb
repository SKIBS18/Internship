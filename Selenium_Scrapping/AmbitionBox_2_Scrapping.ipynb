{
 "cells": [
  {
   "cell_type": "code",
   "execution_count": 53,
   "id": "c746ded5",
   "metadata": {},
   "outputs": [],
   "source": [
    "from selenium import webdriver"
   ]
  },
  {
   "cell_type": "code",
   "execution_count": 54,
   "id": "7e32abb9",
   "metadata": {},
   "outputs": [],
   "source": [
    "from selenium.webdriver.common.by import By\n",
    "import pandas as pd\n",
    "import warnings\n",
    "warnings.filterwarnings('ignore')"
   ]
  },
  {
   "cell_type": "code",
   "execution_count": 55,
   "id": "5244ace3",
   "metadata": {},
   "outputs": [],
   "source": [
    "driver = webdriver.Chrome(r'C:\\Users\\shail\\Downloads\\chromedriver_win32\\chromedriver.exe')"
   ]
  },
  {
   "cell_type": "code",
   "execution_count": 56,
   "id": "78c2f5b8",
   "metadata": {},
   "outputs": [],
   "source": [
    "url = 'https://www.ambitionbox.com/'\n",
    "driver.get(url)"
   ]
  },
  {
   "cell_type": "code",
   "execution_count": 57,
   "id": "1660e983",
   "metadata": {},
   "outputs": [],
   "source": [
    "sal = driver.find_element(By.XPATH,\"/html/body/div[1]/nav/nav/a[4]\")"
   ]
  },
  {
   "cell_type": "code",
   "execution_count": 58,
   "id": "bcdace5e",
   "metadata": {},
   "outputs": [],
   "source": [
    "sal.click()"
   ]
  },
  {
   "cell_type": "code",
   "execution_count": 59,
   "id": "31a4766c",
   "metadata": {},
   "outputs": [
    {
     "data": {
      "text/plain": [
       "<selenium.webdriver.remote.webelement.WebElement (session=\"dad2a9e3c01f2af51c73f0fb44b5f529\", element=\"8b1fd0a6-1bc2-4f7d-b074-0af5cc787bc2\")>"
      ]
     },
     "execution_count": 59,
     "metadata": {},
     "output_type": "execute_result"
    }
   ],
   "source": [
    "search_job = driver.find_element(By.XPATH,\"/html/body/div/div/div/main/section[1]/div[2]/div[1]/span/input\")\n",
    "search_job"
   ]
  },
  {
   "cell_type": "code",
   "execution_count": 60,
   "id": "01f91739",
   "metadata": {},
   "outputs": [],
   "source": [
    "search_job.send_keys(\"Data Scientist\")"
   ]
  },
  {
   "cell_type": "code",
   "execution_count": 63,
   "id": "fbb17b4e",
   "metadata": {},
   "outputs": [],
   "source": [
    "company = []\n",
    "\n",
    "name = driver.find_elements(By.XPATH,'//div[@class=\"company-info\"]')\n",
    "\n",
    "for i in name[0:10]:\n",
    "    company.append(i.text)"
   ]
  },
  {
   "cell_type": "code",
   "execution_count": 64,
   "id": "2d63fb8e",
   "metadata": {},
   "outputs": [
    {
     "data": {
      "text/plain": [
       "['Walmart\\nData Scientist Salary\\n3 yrs experience (based on 12 salaries)',\n",
       " 'Ab Inbev\\nData Scientist Salary\\n3-4 yrs experience (based on 33 salaries)',\n",
       " 'ZS\\nData Scientist Salary\\n2 yrs experience (based on 15 salaries)',\n",
       " 'Optum\\nData Scientist Salary\\n3-4 yrs experience (based on 32 salaries)',\n",
       " 'Reliance Jio\\nData Scientist Salary\\n3-4 yrs experience (based on 21 salaries)',\n",
       " 'Fractal Analytics\\nData Scientist Salary\\n2-4 yrs experience (based on 89 salaries)',\n",
       " 'Tiger Analytics\\nData Scientist Salary\\n2-4 yrs experience (based on 51 salaries)',\n",
       " 'UnitedHealth\\nData Scientist Salary\\n2-4 yrs experience (based on 57 salaries)',\n",
       " 'EXL Service\\nData Scientist Salary\\n3-4 yrs experience (based on 21 salaries)',\n",
       " 'Deloitte\\nData Scientist Salary\\n2-4 yrs experience (based on 69 salaries)']"
      ]
     },
     "execution_count": 64,
     "metadata": {},
     "output_type": "execute_result"
    }
   ],
   "source": [
    "company"
   ]
  },
  {
   "cell_type": "code",
   "execution_count": 65,
   "id": "6cc0ae56",
   "metadata": {},
   "outputs": [],
   "source": [
    "sal = []\n",
    "\n",
    "salary = driver.find_elements(By.XPATH,'//div[@class=\"value body-medium\"]')\n",
    "\n",
    "for i in salary:\n",
    "    sal.append(i.text)\n"
   ]
  },
  {
   "cell_type": "code",
   "execution_count": 66,
   "id": "7e24ae44",
   "metadata": {},
   "outputs": [
    {
     "data": {
      "text/plain": [
       "20"
      ]
     },
     "execution_count": 66,
     "metadata": {},
     "output_type": "execute_result"
    }
   ],
   "source": [
    "len(sal)"
   ]
  },
  {
   "cell_type": "code",
   "execution_count": 67,
   "id": "e6dcab0d",
   "metadata": {},
   "outputs": [],
   "source": [
    "min_sal = sal[0::2]"
   ]
  },
  {
   "cell_type": "code",
   "execution_count": 68,
   "id": "8ad17e14",
   "metadata": {},
   "outputs": [
    {
     "data": {
      "text/plain": [
       "['₹ 25.0L',\n",
       " '₹ 15.0L',\n",
       " '₹ 11.0L',\n",
       " '₹ 11.0L',\n",
       " '₹ 5.6L',\n",
       " '₹ 10.0L',\n",
       " '₹ 9.0L',\n",
       " '₹ 8.3L',\n",
       " '₹ 7.6L',\n",
       " '₹ 7.0L']"
      ]
     },
     "execution_count": 68,
     "metadata": {},
     "output_type": "execute_result"
    }
   ],
   "source": [
    "min_sal"
   ]
  },
  {
   "cell_type": "code",
   "execution_count": 69,
   "id": "025ee743",
   "metadata": {},
   "outputs": [],
   "source": [
    "max_sal = sal[1::2]"
   ]
  },
  {
   "cell_type": "code",
   "execution_count": 70,
   "id": "524cabc2",
   "metadata": {},
   "outputs": [
    {
     "data": {
      "text/plain": [
       "['₹ 36.0L',\n",
       " '₹ 26.2L',\n",
       " '₹ 22.0L',\n",
       " '₹ 22.5L',\n",
       " '₹ 26.2L',\n",
       " '₹ 23.0L',\n",
       " '₹ 20.0L',\n",
       " '₹ 21.1L',\n",
       " '₹ 21.0L',\n",
       " '₹ 25.0L']"
      ]
     },
     "execution_count": 70,
     "metadata": {},
     "output_type": "execute_result"
    }
   ],
   "source": [
    "max_sal"
   ]
  },
  {
   "cell_type": "code",
   "execution_count": 71,
   "id": "76d40033",
   "metadata": {},
   "outputs": [],
   "source": [
    "avg = []\n",
    "\n",
    "salary = driver.find_elements(By.XPATH,'//p[@class=\"averageCtc\"]')\n",
    "\n",
    "for i in salary:\n",
    "    avg.append(i.text)\n"
   ]
  },
  {
   "cell_type": "code",
   "execution_count": 72,
   "id": "e19b11bd",
   "metadata": {},
   "outputs": [
    {
     "data": {
      "text/plain": [
       "['₹ 30.6L',\n",
       " '₹ 20.8L',\n",
       " '₹ 16.7L',\n",
       " '₹ 15.9L',\n",
       " '₹ 15.7L',\n",
       " '₹ 15.5L',\n",
       " '₹ 14.8L',\n",
       " '₹ 14.0L',\n",
       " '₹ 13.2L',\n",
       " '₹ 12.8L']"
      ]
     },
     "execution_count": 72,
     "metadata": {},
     "output_type": "execute_result"
    }
   ],
   "source": [
    "avg"
   ]
  },
  {
   "cell_type": "code",
   "execution_count": 73,
   "id": "54efb9e6",
   "metadata": {},
   "outputs": [
    {
     "data": {
      "text/html": [
       "<div>\n",
       "<style scoped>\n",
       "    .dataframe tbody tr th:only-of-type {\n",
       "        vertical-align: middle;\n",
       "    }\n",
       "\n",
       "    .dataframe tbody tr th {\n",
       "        vertical-align: top;\n",
       "    }\n",
       "\n",
       "    .dataframe thead th {\n",
       "        text-align: right;\n",
       "    }\n",
       "</style>\n",
       "<table border=\"1\" class=\"dataframe\">\n",
       "  <thead>\n",
       "    <tr style=\"text-align: right;\">\n",
       "      <th></th>\n",
       "      <th>Company</th>\n",
       "      <th>Min Salary</th>\n",
       "      <th>Max Sal</th>\n",
       "      <th>Avg Sal</th>\n",
       "    </tr>\n",
       "  </thead>\n",
       "  <tbody>\n",
       "    <tr>\n",
       "      <th>0</th>\n",
       "      <td>Walmart\\nData Scientist Salary\\n3 yrs experien...</td>\n",
       "      <td>₹ 25.0L</td>\n",
       "      <td>₹ 36.0L</td>\n",
       "      <td>₹ 30.6L</td>\n",
       "    </tr>\n",
       "    <tr>\n",
       "      <th>1</th>\n",
       "      <td>Ab Inbev\\nData Scientist Salary\\n3-4 yrs exper...</td>\n",
       "      <td>₹ 15.0L</td>\n",
       "      <td>₹ 26.2L</td>\n",
       "      <td>₹ 20.8L</td>\n",
       "    </tr>\n",
       "    <tr>\n",
       "      <th>2</th>\n",
       "      <td>ZS\\nData Scientist Salary\\n2 yrs experience (b...</td>\n",
       "      <td>₹ 11.0L</td>\n",
       "      <td>₹ 22.0L</td>\n",
       "      <td>₹ 16.7L</td>\n",
       "    </tr>\n",
       "    <tr>\n",
       "      <th>3</th>\n",
       "      <td>Optum\\nData Scientist Salary\\n3-4 yrs experien...</td>\n",
       "      <td>₹ 11.0L</td>\n",
       "      <td>₹ 22.5L</td>\n",
       "      <td>₹ 15.9L</td>\n",
       "    </tr>\n",
       "    <tr>\n",
       "      <th>4</th>\n",
       "      <td>Reliance Jio\\nData Scientist Salary\\n3-4 yrs e...</td>\n",
       "      <td>₹ 5.6L</td>\n",
       "      <td>₹ 26.2L</td>\n",
       "      <td>₹ 15.7L</td>\n",
       "    </tr>\n",
       "    <tr>\n",
       "      <th>5</th>\n",
       "      <td>Fractal Analytics\\nData Scientist Salary\\n2-4 ...</td>\n",
       "      <td>₹ 10.0L</td>\n",
       "      <td>₹ 23.0L</td>\n",
       "      <td>₹ 15.5L</td>\n",
       "    </tr>\n",
       "    <tr>\n",
       "      <th>6</th>\n",
       "      <td>Tiger Analytics\\nData Scientist Salary\\n2-4 yr...</td>\n",
       "      <td>₹ 9.0L</td>\n",
       "      <td>₹ 20.0L</td>\n",
       "      <td>₹ 14.8L</td>\n",
       "    </tr>\n",
       "    <tr>\n",
       "      <th>7</th>\n",
       "      <td>UnitedHealth\\nData Scientist Salary\\n2-4 yrs e...</td>\n",
       "      <td>₹ 8.3L</td>\n",
       "      <td>₹ 21.1L</td>\n",
       "      <td>₹ 14.0L</td>\n",
       "    </tr>\n",
       "    <tr>\n",
       "      <th>8</th>\n",
       "      <td>EXL Service\\nData Scientist Salary\\n3-4 yrs ex...</td>\n",
       "      <td>₹ 7.6L</td>\n",
       "      <td>₹ 21.0L</td>\n",
       "      <td>₹ 13.2L</td>\n",
       "    </tr>\n",
       "    <tr>\n",
       "      <th>9</th>\n",
       "      <td>Deloitte\\nData Scientist Salary\\n2-4 yrs exper...</td>\n",
       "      <td>₹ 7.0L</td>\n",
       "      <td>₹ 25.0L</td>\n",
       "      <td>₹ 12.8L</td>\n",
       "    </tr>\n",
       "  </tbody>\n",
       "</table>\n",
       "</div>"
      ],
      "text/plain": [
       "                                             Company Min Salary  Max Sal  \\\n",
       "0  Walmart\\nData Scientist Salary\\n3 yrs experien...    ₹ 25.0L  ₹ 36.0L   \n",
       "1  Ab Inbev\\nData Scientist Salary\\n3-4 yrs exper...    ₹ 15.0L  ₹ 26.2L   \n",
       "2  ZS\\nData Scientist Salary\\n2 yrs experience (b...    ₹ 11.0L  ₹ 22.0L   \n",
       "3  Optum\\nData Scientist Salary\\n3-4 yrs experien...    ₹ 11.0L  ₹ 22.5L   \n",
       "4  Reliance Jio\\nData Scientist Salary\\n3-4 yrs e...     ₹ 5.6L  ₹ 26.2L   \n",
       "5  Fractal Analytics\\nData Scientist Salary\\n2-4 ...    ₹ 10.0L  ₹ 23.0L   \n",
       "6  Tiger Analytics\\nData Scientist Salary\\n2-4 yr...     ₹ 9.0L  ₹ 20.0L   \n",
       "7  UnitedHealth\\nData Scientist Salary\\n2-4 yrs e...     ₹ 8.3L  ₹ 21.1L   \n",
       "8  EXL Service\\nData Scientist Salary\\n3-4 yrs ex...     ₹ 7.6L  ₹ 21.0L   \n",
       "9  Deloitte\\nData Scientist Salary\\n2-4 yrs exper...     ₹ 7.0L  ₹ 25.0L   \n",
       "\n",
       "   Avg Sal  \n",
       "0  ₹ 30.6L  \n",
       "1  ₹ 20.8L  \n",
       "2  ₹ 16.7L  \n",
       "3  ₹ 15.9L  \n",
       "4  ₹ 15.7L  \n",
       "5  ₹ 15.5L  \n",
       "6  ₹ 14.8L  \n",
       "7  ₹ 14.0L  \n",
       "8  ₹ 13.2L  \n",
       "9  ₹ 12.8L  "
      ]
     },
     "execution_count": 73,
     "metadata": {},
     "output_type": "execute_result"
    }
   ],
   "source": [
    "df = pd.DataFrame({'Company':company,'Min Salary':min_sal,'Max Sal':max_sal,'Avg Sal':avg})\n",
    "df"
   ]
  },
  {
   "cell_type": "code",
   "execution_count": 74,
   "id": "ce2c813b",
   "metadata": {},
   "outputs": [
    {
     "data": {
      "text/html": [
       "<div>\n",
       "<style scoped>\n",
       "    .dataframe tbody tr th:only-of-type {\n",
       "        vertical-align: middle;\n",
       "    }\n",
       "\n",
       "    .dataframe tbody tr th {\n",
       "        vertical-align: top;\n",
       "    }\n",
       "\n",
       "    .dataframe thead th {\n",
       "        text-align: right;\n",
       "    }\n",
       "</style>\n",
       "<table border=\"1\" class=\"dataframe\">\n",
       "  <thead>\n",
       "    <tr style=\"text-align: right;\">\n",
       "      <th></th>\n",
       "      <th>0</th>\n",
       "      <th>1</th>\n",
       "      <th>2</th>\n",
       "    </tr>\n",
       "  </thead>\n",
       "  <tbody>\n",
       "    <tr>\n",
       "      <th>0</th>\n",
       "      <td>Walmart</td>\n",
       "      <td>Data Scientist Salary</td>\n",
       "      <td>3 yrs experience (based on 12 salaries)</td>\n",
       "    </tr>\n",
       "    <tr>\n",
       "      <th>1</th>\n",
       "      <td>Ab Inbev</td>\n",
       "      <td>Data Scientist Salary</td>\n",
       "      <td>3-4 yrs experience (based on 33 salaries)</td>\n",
       "    </tr>\n",
       "    <tr>\n",
       "      <th>2</th>\n",
       "      <td>ZS</td>\n",
       "      <td>Data Scientist Salary</td>\n",
       "      <td>2 yrs experience (based on 15 salaries)</td>\n",
       "    </tr>\n",
       "    <tr>\n",
       "      <th>3</th>\n",
       "      <td>Optum</td>\n",
       "      <td>Data Scientist Salary</td>\n",
       "      <td>3-4 yrs experience (based on 32 salaries)</td>\n",
       "    </tr>\n",
       "    <tr>\n",
       "      <th>4</th>\n",
       "      <td>Reliance Jio</td>\n",
       "      <td>Data Scientist Salary</td>\n",
       "      <td>3-4 yrs experience (based on 21 salaries)</td>\n",
       "    </tr>\n",
       "    <tr>\n",
       "      <th>5</th>\n",
       "      <td>Fractal Analytics</td>\n",
       "      <td>Data Scientist Salary</td>\n",
       "      <td>2-4 yrs experience (based on 89 salaries)</td>\n",
       "    </tr>\n",
       "    <tr>\n",
       "      <th>6</th>\n",
       "      <td>Tiger Analytics</td>\n",
       "      <td>Data Scientist Salary</td>\n",
       "      <td>2-4 yrs experience (based on 51 salaries)</td>\n",
       "    </tr>\n",
       "    <tr>\n",
       "      <th>7</th>\n",
       "      <td>UnitedHealth</td>\n",
       "      <td>Data Scientist Salary</td>\n",
       "      <td>2-4 yrs experience (based on 57 salaries)</td>\n",
       "    </tr>\n",
       "    <tr>\n",
       "      <th>8</th>\n",
       "      <td>EXL Service</td>\n",
       "      <td>Data Scientist Salary</td>\n",
       "      <td>3-4 yrs experience (based on 21 salaries)</td>\n",
       "    </tr>\n",
       "    <tr>\n",
       "      <th>9</th>\n",
       "      <td>Deloitte</td>\n",
       "      <td>Data Scientist Salary</td>\n",
       "      <td>2-4 yrs experience (based on 69 salaries)</td>\n",
       "    </tr>\n",
       "  </tbody>\n",
       "</table>\n",
       "</div>"
      ],
      "text/plain": [
       "                   0                      1  \\\n",
       "0            Walmart  Data Scientist Salary   \n",
       "1           Ab Inbev  Data Scientist Salary   \n",
       "2                 ZS  Data Scientist Salary   \n",
       "3              Optum  Data Scientist Salary   \n",
       "4       Reliance Jio  Data Scientist Salary   \n",
       "5  Fractal Analytics  Data Scientist Salary   \n",
       "6    Tiger Analytics  Data Scientist Salary   \n",
       "7       UnitedHealth  Data Scientist Salary   \n",
       "8        EXL Service  Data Scientist Salary   \n",
       "9           Deloitte  Data Scientist Salary   \n",
       "\n",
       "                                           2  \n",
       "0    3 yrs experience (based on 12 salaries)  \n",
       "1  3-4 yrs experience (based on 33 salaries)  \n",
       "2    2 yrs experience (based on 15 salaries)  \n",
       "3  3-4 yrs experience (based on 32 salaries)  \n",
       "4  3-4 yrs experience (based on 21 salaries)  \n",
       "5  2-4 yrs experience (based on 89 salaries)  \n",
       "6  2-4 yrs experience (based on 51 salaries)  \n",
       "7  2-4 yrs experience (based on 57 salaries)  \n",
       "8  3-4 yrs experience (based on 21 salaries)  \n",
       "9  2-4 yrs experience (based on 69 salaries)  "
      ]
     },
     "execution_count": 74,
     "metadata": {},
     "output_type": "execute_result"
    }
   ],
   "source": [
    "s = df['Company'].str.split(pat='\\n',expand=True)\n",
    "s"
   ]
  },
  {
   "cell_type": "code",
   "execution_count": 83,
   "id": "9689c4a4",
   "metadata": {},
   "outputs": [],
   "source": [
    "z = s[2].str[-12:-9]"
   ]
  },
  {
   "cell_type": "code",
   "execution_count": 84,
   "id": "6c56af7e",
   "metadata": {},
   "outputs": [
    {
     "data": {
      "text/plain": [
       "0    12 \n",
       "1    33 \n",
       "2    15 \n",
       "3    32 \n",
       "4    21 \n",
       "5    89 \n",
       "6    51 \n",
       "7    57 \n",
       "8    21 \n",
       "9    69 \n",
       "Name: 2, dtype: object"
      ]
     },
     "execution_count": 84,
     "metadata": {},
     "output_type": "execute_result"
    }
   ],
   "source": [
    "z"
   ]
  },
  {
   "cell_type": "code",
   "execution_count": 91,
   "id": "17b18acb",
   "metadata": {},
   "outputs": [],
   "source": [
    "E = s[2].str[:-37]"
   ]
  },
  {
   "cell_type": "code",
   "execution_count": 92,
   "id": "289a3852",
   "metadata": {},
   "outputs": [
    {
     "data": {
      "text/plain": [
       "0      3 \n",
       "1    3-4 \n",
       "2      2 \n",
       "3    3-4 \n",
       "4    3-4 \n",
       "5    2-4 \n",
       "6    2-4 \n",
       "7    2-4 \n",
       "8    3-4 \n",
       "9    2-4 \n",
       "Name: 2, dtype: object"
      ]
     },
     "execution_count": 92,
     "metadata": {},
     "output_type": "execute_result"
    }
   ],
   "source": [
    "E"
   ]
  },
  {
   "cell_type": "code",
   "execution_count": 85,
   "id": "413eebca",
   "metadata": {},
   "outputs": [],
   "source": [
    "df['Salary Record'] = z"
   ]
  },
  {
   "cell_type": "code",
   "execution_count": 93,
   "id": "da2dc704",
   "metadata": {},
   "outputs": [],
   "source": [
    "df['Exp'] = E"
   ]
  },
  {
   "cell_type": "code",
   "execution_count": 94,
   "id": "3a55488a",
   "metadata": {},
   "outputs": [],
   "source": [
    "df['Company'] = s[0]"
   ]
  },
  {
   "cell_type": "code",
   "execution_count": 95,
   "id": "b294477a",
   "metadata": {},
   "outputs": [
    {
     "data": {
      "text/html": [
       "<div>\n",
       "<style scoped>\n",
       "    .dataframe tbody tr th:only-of-type {\n",
       "        vertical-align: middle;\n",
       "    }\n",
       "\n",
       "    .dataframe tbody tr th {\n",
       "        vertical-align: top;\n",
       "    }\n",
       "\n",
       "    .dataframe thead th {\n",
       "        text-align: right;\n",
       "    }\n",
       "</style>\n",
       "<table border=\"1\" class=\"dataframe\">\n",
       "  <thead>\n",
       "    <tr style=\"text-align: right;\">\n",
       "      <th></th>\n",
       "      <th>Company</th>\n",
       "      <th>Min Salary</th>\n",
       "      <th>Max Sal</th>\n",
       "      <th>Avg Sal</th>\n",
       "      <th>Salary Record</th>\n",
       "      <th>Exp</th>\n",
       "    </tr>\n",
       "  </thead>\n",
       "  <tbody>\n",
       "    <tr>\n",
       "      <th>0</th>\n",
       "      <td>Walmart</td>\n",
       "      <td>₹ 25.0L</td>\n",
       "      <td>₹ 36.0L</td>\n",
       "      <td>₹ 30.6L</td>\n",
       "      <td>12</td>\n",
       "      <td>3</td>\n",
       "    </tr>\n",
       "    <tr>\n",
       "      <th>1</th>\n",
       "      <td>Ab Inbev</td>\n",
       "      <td>₹ 15.0L</td>\n",
       "      <td>₹ 26.2L</td>\n",
       "      <td>₹ 20.8L</td>\n",
       "      <td>33</td>\n",
       "      <td>3-4</td>\n",
       "    </tr>\n",
       "    <tr>\n",
       "      <th>2</th>\n",
       "      <td>ZS</td>\n",
       "      <td>₹ 11.0L</td>\n",
       "      <td>₹ 22.0L</td>\n",
       "      <td>₹ 16.7L</td>\n",
       "      <td>15</td>\n",
       "      <td>2</td>\n",
       "    </tr>\n",
       "    <tr>\n",
       "      <th>3</th>\n",
       "      <td>Optum</td>\n",
       "      <td>₹ 11.0L</td>\n",
       "      <td>₹ 22.5L</td>\n",
       "      <td>₹ 15.9L</td>\n",
       "      <td>32</td>\n",
       "      <td>3-4</td>\n",
       "    </tr>\n",
       "    <tr>\n",
       "      <th>4</th>\n",
       "      <td>Reliance Jio</td>\n",
       "      <td>₹ 5.6L</td>\n",
       "      <td>₹ 26.2L</td>\n",
       "      <td>₹ 15.7L</td>\n",
       "      <td>21</td>\n",
       "      <td>3-4</td>\n",
       "    </tr>\n",
       "    <tr>\n",
       "      <th>5</th>\n",
       "      <td>Fractal Analytics</td>\n",
       "      <td>₹ 10.0L</td>\n",
       "      <td>₹ 23.0L</td>\n",
       "      <td>₹ 15.5L</td>\n",
       "      <td>89</td>\n",
       "      <td>2-4</td>\n",
       "    </tr>\n",
       "    <tr>\n",
       "      <th>6</th>\n",
       "      <td>Tiger Analytics</td>\n",
       "      <td>₹ 9.0L</td>\n",
       "      <td>₹ 20.0L</td>\n",
       "      <td>₹ 14.8L</td>\n",
       "      <td>51</td>\n",
       "      <td>2-4</td>\n",
       "    </tr>\n",
       "    <tr>\n",
       "      <th>7</th>\n",
       "      <td>UnitedHealth</td>\n",
       "      <td>₹ 8.3L</td>\n",
       "      <td>₹ 21.1L</td>\n",
       "      <td>₹ 14.0L</td>\n",
       "      <td>57</td>\n",
       "      <td>2-4</td>\n",
       "    </tr>\n",
       "    <tr>\n",
       "      <th>8</th>\n",
       "      <td>EXL Service</td>\n",
       "      <td>₹ 7.6L</td>\n",
       "      <td>₹ 21.0L</td>\n",
       "      <td>₹ 13.2L</td>\n",
       "      <td>21</td>\n",
       "      <td>3-4</td>\n",
       "    </tr>\n",
       "    <tr>\n",
       "      <th>9</th>\n",
       "      <td>Deloitte</td>\n",
       "      <td>₹ 7.0L</td>\n",
       "      <td>₹ 25.0L</td>\n",
       "      <td>₹ 12.8L</td>\n",
       "      <td>69</td>\n",
       "      <td>2-4</td>\n",
       "    </tr>\n",
       "  </tbody>\n",
       "</table>\n",
       "</div>"
      ],
      "text/plain": [
       "             Company Min Salary  Max Sal  Avg Sal Salary Record   Exp\n",
       "0            Walmart    ₹ 25.0L  ₹ 36.0L  ₹ 30.6L           12     3 \n",
       "1           Ab Inbev    ₹ 15.0L  ₹ 26.2L  ₹ 20.8L           33   3-4 \n",
       "2                 ZS    ₹ 11.0L  ₹ 22.0L  ₹ 16.7L           15     2 \n",
       "3              Optum    ₹ 11.0L  ₹ 22.5L  ₹ 15.9L           32   3-4 \n",
       "4       Reliance Jio     ₹ 5.6L  ₹ 26.2L  ₹ 15.7L           21   3-4 \n",
       "5  Fractal Analytics    ₹ 10.0L  ₹ 23.0L  ₹ 15.5L           89   2-4 \n",
       "6    Tiger Analytics     ₹ 9.0L  ₹ 20.0L  ₹ 14.8L           51   2-4 \n",
       "7       UnitedHealth     ₹ 8.3L  ₹ 21.1L  ₹ 14.0L           57   2-4 \n",
       "8        EXL Service     ₹ 7.6L  ₹ 21.0L  ₹ 13.2L           21   3-4 \n",
       "9           Deloitte     ₹ 7.0L  ₹ 25.0L  ₹ 12.8L           69   2-4 "
      ]
     },
     "execution_count": 95,
     "metadata": {},
     "output_type": "execute_result"
    }
   ],
   "source": [
    "df"
   ]
  },
  {
   "cell_type": "code",
   "execution_count": null,
   "id": "0ba630a7",
   "metadata": {},
   "outputs": [],
   "source": []
  }
 ],
 "metadata": {
  "kernelspec": {
   "display_name": "Python 3 (ipykernel)",
   "language": "python",
   "name": "python3"
  },
  "language_info": {
   "codemirror_mode": {
    "name": "ipython",
    "version": 3
   },
   "file_extension": ".py",
   "mimetype": "text/x-python",
   "name": "python",
   "nbconvert_exporter": "python",
   "pygments_lexer": "ipython3",
   "version": "3.9.7"
  }
 },
 "nbformat": 4,
 "nbformat_minor": 5
}
