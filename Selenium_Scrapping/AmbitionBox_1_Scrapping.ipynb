{
 "cells": [
  {
   "cell_type": "code",
   "execution_count": 75,
   "id": "3e56ead9",
   "metadata": {},
   "outputs": [],
   "source": [
    "from selenium import webdriver"
   ]
  },
  {
   "cell_type": "code",
   "execution_count": 76,
   "id": "daf339f1",
   "metadata": {},
   "outputs": [],
   "source": [
    "from selenium.webdriver.common.by import By\n",
    "import pandas as pd\n",
    "import warnings\n",
    "warnings.filterwarnings('ignore')"
   ]
  },
  {
   "cell_type": "code",
   "execution_count": 77,
   "id": "a0a941e7",
   "metadata": {},
   "outputs": [],
   "source": [
    "driver = webdriver.Chrome(r'C:\\Users\\shail\\Downloads\\chromedriver_win32\\chromedriver.exe')"
   ]
  },
  {
   "cell_type": "code",
   "execution_count": 78,
   "id": "7169fff9",
   "metadata": {},
   "outputs": [],
   "source": [
    "url = 'https://www.ambitionbox.com/'\n",
    "driver.get(url)"
   ]
  },
  {
   "cell_type": "code",
   "execution_count": 79,
   "id": "a3d70e50",
   "metadata": {},
   "outputs": [],
   "source": [
    "job = driver.find_element(By.XPATH,\"/html/body/div[1]/nav/nav/a[6]\")"
   ]
  },
  {
   "cell_type": "code",
   "execution_count": 80,
   "id": "9f4bea34",
   "metadata": {},
   "outputs": [],
   "source": [
    "job.click()"
   ]
  },
  {
   "cell_type": "code",
   "execution_count": 81,
   "id": "079e2e2f",
   "metadata": {},
   "outputs": [
    {
     "data": {
      "text/plain": [
       "<selenium.webdriver.remote.webelement.WebElement (session=\"808c1c489c23d7b0ad00454d2269bc9a\", element=\"65007dba-dcb5-4348-bc71-669cbb706208\")>"
      ]
     },
     "execution_count": 81,
     "metadata": {},
     "output_type": "execute_result"
    }
   ],
   "source": [
    "search_job = driver.find_element(By.XPATH,\"/html/body/div/div/div/div[2]/div[1]/div[1]/div/div/div/div/span/input\")\n",
    "search_job"
   ]
  },
  {
   "cell_type": "code",
   "execution_count": 82,
   "id": "5af11dbf",
   "metadata": {},
   "outputs": [],
   "source": [
    "search_job.send_keys(\"Data Scientist\")"
   ]
  },
  {
   "cell_type": "code",
   "execution_count": 83,
   "id": "7550ed0f",
   "metadata": {},
   "outputs": [
    {
     "data": {
      "text/plain": [
       "<selenium.webdriver.remote.webelement.WebElement (session=\"808c1c489c23d7b0ad00454d2269bc9a\", element=\"f511461d-0b56-4e1b-9daa-82a1fa8d08a8\")>"
      ]
     },
     "execution_count": 83,
     "metadata": {},
     "output_type": "execute_result"
    }
   ],
   "source": [
    "search_btn = driver.find_element(By.XPATH,\"/html/body/div/div/div/div[2]/div[1]/div[1]/div/div/div/button/span\")\n",
    "search_btn"
   ]
  },
  {
   "cell_type": "code",
   "execution_count": 84,
   "id": "6877b0ab",
   "metadata": {},
   "outputs": [],
   "source": [
    "search_btn.click()"
   ]
  },
  {
   "cell_type": "code",
   "execution_count": 86,
   "id": "c1482c71",
   "metadata": {},
   "outputs": [
    {
     "data": {
      "text/plain": [
       "<selenium.webdriver.remote.webelement.WebElement (session=\"808c1c489c23d7b0ad00454d2269bc9a\", element=\"ca84c70b-3479-49c9-b26b-597b10617246\")>"
      ]
     },
     "execution_count": 86,
     "metadata": {},
     "output_type": "execute_result"
    }
   ],
   "source": [
    "search_loc = driver.find_element(By.XPATH,\"/html/body/div/div/div/div[2]/div[1]/div[2]/div[1]/div/div/div/div[2]/div[1]/p\")\n",
    "search_loc"
   ]
  },
  {
   "cell_type": "code",
   "execution_count": 87,
   "id": "c4a7981c",
   "metadata": {},
   "outputs": [],
   "source": [
    "search_loc.click()"
   ]
  },
  {
   "cell_type": "code",
   "execution_count": 88,
   "id": "b3504857",
   "metadata": {},
   "outputs": [
    {
     "data": {
      "text/plain": [
       "<selenium.webdriver.remote.webelement.WebElement (session=\"808c1c489c23d7b0ad00454d2269bc9a\", element=\"fe7c8b88-8c63-4c9b-996b-e2841a96c96c\")>"
      ]
     },
     "execution_count": 88,
     "metadata": {},
     "output_type": "execute_result"
    }
   ],
   "source": [
    "type_loc = driver.find_element(By.XPATH,\"/html/body/div/div/div/div[2]/div[1]/div[2]/div[1]/div/div/div/div[2]/div[2]/div/div[2]/input\")\n",
    "type_loc"
   ]
  },
  {
   "cell_type": "code",
   "execution_count": 89,
   "id": "c6ad6713",
   "metadata": {},
   "outputs": [],
   "source": [
    "type_loc.send_keys(\"Noida\")"
   ]
  },
  {
   "cell_type": "code",
   "execution_count": 90,
   "id": "0609774a",
   "metadata": {},
   "outputs": [
    {
     "data": {
      "text/plain": [
       "<selenium.webdriver.remote.webelement.WebElement (session=\"808c1c489c23d7b0ad00454d2269bc9a\", element=\"199a61ad-733b-4cac-a1a6-1d87c45b9cf6\")>"
      ]
     },
     "execution_count": 90,
     "metadata": {},
     "output_type": "execute_result"
    }
   ],
   "source": [
    "sel_loc = driver.find_element(By.XPATH,\"/html/body/div/div/div/div[2]/div[1]/div[2]/div[1]/div/div/div/div[2]/div[2]/div/div[3]/div[1]/div[1]/div/label\")\n",
    "sel_loc"
   ]
  },
  {
   "cell_type": "code",
   "execution_count": 91,
   "id": "3b0f70ca",
   "metadata": {},
   "outputs": [],
   "source": [
    "sel_loc.click()"
   ]
  },
  {
   "cell_type": "code",
   "execution_count": 92,
   "id": "2911dba0",
   "metadata": {},
   "outputs": [],
   "source": [
    "star = []\n",
    "rating = driver.find_elements(By.XPATH,'//span[@class=\"body-small\"]')\n",
    "for h in rating:\n",
    "    star.append(h.text)\n",
    "         "
   ]
  },
  {
   "cell_type": "code",
   "execution_count": 93,
   "id": "3ff9519e",
   "metadata": {},
   "outputs": [
    {
     "data": {
      "text/plain": [
       "['4.1', '4.0', '4.5', '4.3', '3.9', '3.9', '3.9', '3.8', '4.1', '3.9']"
      ]
     },
     "execution_count": 93,
     "metadata": {},
     "output_type": "execute_result"
    }
   ],
   "source": [
    "star"
   ]
  },
  {
   "cell_type": "code",
   "execution_count": 94,
   "id": "bb398b90",
   "metadata": {},
   "outputs": [],
   "source": [
    "company = []\n",
    "\n",
    "name = driver.find_elements(By.XPATH,'//p[@class=\"company body-medium\"]')\n",
    "\n",
    "for i in name:\n",
    "    company.append(i.text)\n",
    "\n",
    "        "
   ]
  },
  {
   "cell_type": "code",
   "execution_count": 95,
   "id": "294bf0c3",
   "metadata": {},
   "outputs": [
    {
     "data": {
      "text/plain": [
       "['Optum Global Solutions (India) Private Limited',\n",
       " 'GENPACT India Private Limited',\n",
       " 'Latent bridge',\n",
       " 'Dew Solutions Pvt. Ltd.',\n",
       " 'InfoEdge India Ltd.',\n",
       " 'Info Edge India Limited',\n",
       " 'Info Edge India Limited',\n",
       " 'Careerera',\n",
       " 'CRMnext',\n",
       " 'Careernet Consulting']"
      ]
     },
     "execution_count": 95,
     "metadata": {},
     "output_type": "execute_result"
    }
   ],
   "source": [
    "company"
   ]
  },
  {
   "cell_type": "code",
   "execution_count": 96,
   "id": "c11b8502",
   "metadata": {},
   "outputs": [],
   "source": [
    "days = []\n",
    "\n",
    "all_job = driver.find_elements(By.XPATH,'//div[@itemprop=\"itemListElement\"]')\n",
    "\n",
    "for r in all_job: \n",
    "           \n",
    "\n",
    "    day = r.find_elements(By.XPATH,'.//span[@class=\"body-small-l\"]')\n",
    "\n",
    "    for k in day[0::2]:\n",
    "\n",
    "        days.append(k.text)"
   ]
  },
  {
   "cell_type": "code",
   "execution_count": 97,
   "id": "c79ba2c6",
   "metadata": {},
   "outputs": [
    {
     "data": {
      "text/plain": [
       "['11d ago',\n",
       " '18d ago',\n",
       " '2d ago',\n",
       " '9d ago',\n",
       " '16d ago',\n",
       " '17d ago',\n",
       " '17d ago',\n",
       " '4d ago',\n",
       " '12d ago',\n",
       " '1mon ago']"
      ]
     },
     "execution_count": 97,
     "metadata": {},
     "output_type": "execute_result"
    }
   ],
   "source": [
    "days"
   ]
  },
  {
   "cell_type": "code",
   "execution_count": 98,
   "id": "3c13925a",
   "metadata": {},
   "outputs": [
    {
     "data": {
      "text/html": [
       "<div>\n",
       "<style scoped>\n",
       "    .dataframe tbody tr th:only-of-type {\n",
       "        vertical-align: middle;\n",
       "    }\n",
       "\n",
       "    .dataframe tbody tr th {\n",
       "        vertical-align: top;\n",
       "    }\n",
       "\n",
       "    .dataframe thead th {\n",
       "        text-align: right;\n",
       "    }\n",
       "</style>\n",
       "<table border=\"1\" class=\"dataframe\">\n",
       "  <thead>\n",
       "    <tr style=\"text-align: right;\">\n",
       "      <th></th>\n",
       "      <th>Company</th>\n",
       "      <th>Rating</th>\n",
       "      <th>Posted Date</th>\n",
       "    </tr>\n",
       "  </thead>\n",
       "  <tbody>\n",
       "    <tr>\n",
       "      <th>0</th>\n",
       "      <td>Optum Global Solutions (India) Private Limited</td>\n",
       "      <td>4.1</td>\n",
       "      <td>11d ago</td>\n",
       "    </tr>\n",
       "    <tr>\n",
       "      <th>1</th>\n",
       "      <td>GENPACT India Private Limited</td>\n",
       "      <td>4.0</td>\n",
       "      <td>18d ago</td>\n",
       "    </tr>\n",
       "    <tr>\n",
       "      <th>2</th>\n",
       "      <td>Latent bridge</td>\n",
       "      <td>4.5</td>\n",
       "      <td>2d ago</td>\n",
       "    </tr>\n",
       "    <tr>\n",
       "      <th>3</th>\n",
       "      <td>Dew Solutions Pvt. Ltd.</td>\n",
       "      <td>4.3</td>\n",
       "      <td>9d ago</td>\n",
       "    </tr>\n",
       "    <tr>\n",
       "      <th>4</th>\n",
       "      <td>InfoEdge India Ltd.</td>\n",
       "      <td>3.9</td>\n",
       "      <td>16d ago</td>\n",
       "    </tr>\n",
       "    <tr>\n",
       "      <th>5</th>\n",
       "      <td>Info Edge India Limited</td>\n",
       "      <td>3.9</td>\n",
       "      <td>17d ago</td>\n",
       "    </tr>\n",
       "    <tr>\n",
       "      <th>6</th>\n",
       "      <td>Info Edge India Limited</td>\n",
       "      <td>3.9</td>\n",
       "      <td>17d ago</td>\n",
       "    </tr>\n",
       "    <tr>\n",
       "      <th>7</th>\n",
       "      <td>Careerera</td>\n",
       "      <td>3.8</td>\n",
       "      <td>4d ago</td>\n",
       "    </tr>\n",
       "    <tr>\n",
       "      <th>8</th>\n",
       "      <td>CRMnext</td>\n",
       "      <td>4.1</td>\n",
       "      <td>12d ago</td>\n",
       "    </tr>\n",
       "    <tr>\n",
       "      <th>9</th>\n",
       "      <td>Careernet Consulting</td>\n",
       "      <td>3.9</td>\n",
       "      <td>1mon ago</td>\n",
       "    </tr>\n",
       "  </tbody>\n",
       "</table>\n",
       "</div>"
      ],
      "text/plain": [
       "                                          Company Rating Posted Date\n",
       "0  Optum Global Solutions (India) Private Limited    4.1     11d ago\n",
       "1                   GENPACT India Private Limited    4.0     18d ago\n",
       "2                                   Latent bridge    4.5      2d ago\n",
       "3                         Dew Solutions Pvt. Ltd.    4.3      9d ago\n",
       "4                             InfoEdge India Ltd.    3.9     16d ago\n",
       "5                         Info Edge India Limited    3.9     17d ago\n",
       "6                         Info Edge India Limited    3.9     17d ago\n",
       "7                                       Careerera    3.8      4d ago\n",
       "8                                         CRMnext    4.1     12d ago\n",
       "9                            Careernet Consulting    3.9    1mon ago"
      ]
     },
     "execution_count": 98,
     "metadata": {},
     "output_type": "execute_result"
    }
   ],
   "source": [
    "df = pd.DataFrame({'Company':company,'Rating':star,'Posted Date':days})\n",
    "df"
   ]
  },
  {
   "cell_type": "code",
   "execution_count": null,
   "id": "c3ea1fd9",
   "metadata": {},
   "outputs": [],
   "source": []
  }
 ],
 "metadata": {
  "kernelspec": {
   "display_name": "Python 3 (ipykernel)",
   "language": "python",
   "name": "python3"
  },
  "language_info": {
   "codemirror_mode": {
    "name": "ipython",
    "version": 3
   },
   "file_extension": ".py",
   "mimetype": "text/x-python",
   "name": "python",
   "nbconvert_exporter": "python",
   "pygments_lexer": "ipython3",
   "version": "3.9.7"
  }
 },
 "nbformat": 4,
 "nbformat_minor": 5
}
