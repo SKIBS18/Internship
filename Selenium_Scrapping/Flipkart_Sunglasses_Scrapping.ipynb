{
 "cells": [
  {
   "cell_type": "code",
   "execution_count": 1,
   "id": "3b310147",
   "metadata": {},
   "outputs": [],
   "source": [
    "from selenium import webdriver"
   ]
  },
  {
   "cell_type": "code",
   "execution_count": 2,
   "id": "13958e57",
   "metadata": {},
   "outputs": [],
   "source": [
    "from selenium.webdriver.common.by import By\n",
    "import pandas as pd\n",
    "import warnings\n",
    "warnings.filterwarnings('ignore')"
   ]
  },
  {
   "cell_type": "code",
   "execution_count": 3,
   "id": "9bcc44db",
   "metadata": {},
   "outputs": [],
   "source": [
    "from time import sleep"
   ]
  },
  {
   "cell_type": "code",
   "execution_count": 4,
   "id": "726570f6",
   "metadata": {},
   "outputs": [],
   "source": [
    "driver = webdriver.Chrome(r'C:\\Users\\shail\\Downloads\\chromedriver_win32\\chromedriver.exe')"
   ]
  },
  {
   "cell_type": "code",
   "execution_count": 5,
   "id": "8eb23f64",
   "metadata": {},
   "outputs": [],
   "source": [
    "url = 'https://www.flipkart.com/'\n",
    "driver.get(url)"
   ]
  },
  {
   "cell_type": "code",
   "execution_count": 6,
   "id": "fa7219d1",
   "metadata": {},
   "outputs": [
    {
     "data": {
      "text/plain": [
       "<selenium.webdriver.remote.webelement.WebElement (session=\"199968a00409b9767e9879e364b836ae\", element=\"5ec5e8a2-c525-47ce-aa7d-2854a4278039\")>"
      ]
     },
     "execution_count": 6,
     "metadata": {},
     "output_type": "execute_result"
    }
   ],
   "source": [
    "search_sunglass = driver.find_element(By.CLASS_NAME,\"_3704LK\")\n",
    "search_sunglass"
   ]
  },
  {
   "cell_type": "code",
   "execution_count": 7,
   "id": "2141d3d7",
   "metadata": {},
   "outputs": [],
   "source": [
    "search_sunglass.send_keys(\"sunglasses\")"
   ]
  },
  {
   "cell_type": "code",
   "execution_count": 8,
   "id": "d5503900",
   "metadata": {},
   "outputs": [
    {
     "data": {
      "text/plain": [
       "<selenium.webdriver.remote.webelement.WebElement (session=\"199968a00409b9767e9879e364b836ae\", element=\"b856c035-1f26-40f0-87a9-97cb39c6e91b\")>"
      ]
     },
     "execution_count": 8,
     "metadata": {},
     "output_type": "execute_result"
    }
   ],
   "source": [
    "search_btn = driver.find_element(By.XPATH,\"/html/body/div[1]/div/div[1]/div[1]/div[2]/div[2]/form/div/button\")\n",
    "search_btn"
   ]
  },
  {
   "cell_type": "code",
   "execution_count": 9,
   "id": "46f676d4",
   "metadata": {},
   "outputs": [],
   "source": [
    "search_btn.click()"
   ]
  },
  {
   "cell_type": "code",
   "execution_count": 18,
   "id": "21683341",
   "metadata": {},
   "outputs": [
    {
     "name": "stdout",
     "output_type": "stream",
     "text": [
      "Scraping page 1\n",
      "Scraping page 2\n",
      "Scraping page 3\n",
      "Scraping page 1\n",
      "Scraping page 2\n",
      "Scraping page 3\n",
      "Scraping page 1\n",
      "Scraping page 2\n",
      "Scraping page 3\n",
      "Scraping page 1\n",
      "Scraping page 2\n",
      "Scraping page 3\n"
     ]
    }
   ],
   "source": [
    "brand = []\n",
    "price = []\n",
    "dis = []\n",
    "descrip = []\n",
    "\n",
    "for i in range(3):\n",
    "    print('Scraping page',i+1)\n",
    "    brands_name = driver.find_elements(By.XPATH,'//div[@class=\"_2WkVRV\"]')\n",
    "    for b in brands_name:\n",
    "        brand.append(b.text)\n",
    "    next_button = driver.find_element(By.XPATH,'//a[@class=\"_1LKTO3\"]')    \n",
    "    next_button.click()\n",
    "    sleep(2)\n",
    "    \n",
    "\n",
    "for i in range(3):\n",
    "    print('Scraping page',i+1)\n",
    "    detail = driver.find_elements(By.XPATH,'//a[@class=\"IRpwTa\"]')\n",
    "    for c in detail:\n",
    "        descrip.append(c.text)\n",
    "    next_button = driver.find_element(By.XPATH,'//a[@class=\"_1LKTO3\"]')    \n",
    "    next_button.click()\n",
    "    sleep(3)\n",
    "\n",
    "for i in range(3):\n",
    "    print('Scraping page',i+1)\n",
    "    amount = driver.find_elements(By.XPATH,'//div[@class=\"_30jeq3\"]')\n",
    "    for d in amount:\n",
    "        price.append(d.text)\n",
    "    next_button = driver.find_element(By.XPATH,'//a[@class=\"_1LKTO3\"]')    \n",
    "    next_button.click()\n",
    "    sleep(3)\n",
    "\n",
    "for i in range(3):\n",
    "    print('Scraping page',i+1)\n",
    "    off = driver.find_elements(By.XPATH,'//div[@class=\"_3Ay6Sb\"]')\n",
    "    for e in off:\n",
    "        dis.append(e.text)\n",
    "    next_button = driver.find_element(By.XPATH,'//a[@class=\"_1LKTO3\"]')    \n",
    "    next_button.click()\n",
    "    sleep(3)"
   ]
  },
  {
   "cell_type": "code",
   "execution_count": null,
   "id": "5c473da2",
   "metadata": {},
   "outputs": [],
   "source": [
    "len(brand)"
   ]
  },
  {
   "cell_type": "code",
   "execution_count": null,
   "id": "92079dc0",
   "metadata": {},
   "outputs": [],
   "source": [
    "brand"
   ]
  },
  {
   "cell_type": "code",
   "execution_count": 19,
   "id": "a1caa11c",
   "metadata": {},
   "outputs": [],
   "source": [
    "b = brand[0:100]"
   ]
  },
  {
   "cell_type": "code",
   "execution_count": 20,
   "id": "e677aff8",
   "metadata": {},
   "outputs": [],
   "source": [
    "p = price[0:100]"
   ]
  },
  {
   "cell_type": "code",
   "execution_count": 21,
   "id": "96210c05",
   "metadata": {},
   "outputs": [],
   "source": [
    "off = dis[0:100]"
   ]
  },
  {
   "cell_type": "code",
   "execution_count": 22,
   "id": "73b25f29",
   "metadata": {},
   "outputs": [],
   "source": [
    "d = descrip[0:100]"
   ]
  },
  {
   "cell_type": "code",
   "execution_count": 23,
   "id": "44cd4fee",
   "metadata": {},
   "outputs": [
    {
     "data": {
      "text/html": [
       "<div>\n",
       "<style scoped>\n",
       "    .dataframe tbody tr th:only-of-type {\n",
       "        vertical-align: middle;\n",
       "    }\n",
       "\n",
       "    .dataframe tbody tr th {\n",
       "        vertical-align: top;\n",
       "    }\n",
       "\n",
       "    .dataframe thead th {\n",
       "        text-align: right;\n",
       "    }\n",
       "</style>\n",
       "<table border=\"1\" class=\"dataframe\">\n",
       "  <thead>\n",
       "    <tr style=\"text-align: right;\">\n",
       "      <th></th>\n",
       "      <th>Brand</th>\n",
       "      <th>Price</th>\n",
       "      <th>Discount</th>\n",
       "      <th>Description</th>\n",
       "    </tr>\n",
       "  </thead>\n",
       "  <tbody>\n",
       "    <tr>\n",
       "      <th>0</th>\n",
       "      <td>ROYAL SON</td>\n",
       "      <td>₹749</td>\n",
       "      <td>84% off</td>\n",
       "      <td>UV Protection, Riding Glasses Round Sunglasses...</td>\n",
       "    </tr>\n",
       "    <tr>\n",
       "      <th>1</th>\n",
       "      <td>VINCENT CHASE</td>\n",
       "      <td>₹569</td>\n",
       "      <td>78% off</td>\n",
       "      <td>UV Protection Round Sunglasses (54)</td>\n",
       "    </tr>\n",
       "    <tr>\n",
       "      <th>2</th>\n",
       "      <td>DAHAAZIL</td>\n",
       "      <td>₹177</td>\n",
       "      <td>82% off</td>\n",
       "      <td>Mirrored, Night Vision, UV Protection, Riding ...</td>\n",
       "    </tr>\n",
       "    <tr>\n",
       "      <th>3</th>\n",
       "      <td>Elligator</td>\n",
       "      <td>₹298</td>\n",
       "      <td>79% off</td>\n",
       "      <td>UV Protection Clubmaster Sunglasses (53)</td>\n",
       "    </tr>\n",
       "    <tr>\n",
       "      <th>4</th>\n",
       "      <td>New Specs</td>\n",
       "      <td>₹264</td>\n",
       "      <td>20% off</td>\n",
       "      <td>Mirrored, UV Protection Wayfarer Sunglasses (F...</td>\n",
       "    </tr>\n",
       "    <tr>\n",
       "      <th>...</th>\n",
       "      <td>...</td>\n",
       "      <td>...</td>\n",
       "      <td>...</td>\n",
       "      <td>...</td>\n",
       "    </tr>\n",
       "    <tr>\n",
       "      <th>95</th>\n",
       "      <td>METRONAUT</td>\n",
       "      <td>₹269</td>\n",
       "      <td>62% off</td>\n",
       "      <td>by Lenskart Polarized, UV Protection Rectangul...</td>\n",
       "    </tr>\n",
       "    <tr>\n",
       "      <th>96</th>\n",
       "      <td>SRPM</td>\n",
       "      <td>₹211</td>\n",
       "      <td>87% off</td>\n",
       "      <td>UV Protection Round Sunglasses (53)</td>\n",
       "    </tr>\n",
       "    <tr>\n",
       "      <th>97</th>\n",
       "      <td>PIRASO</td>\n",
       "      <td>₹246</td>\n",
       "      <td>79% off</td>\n",
       "      <td>UV Protection Round Sunglasses (53)</td>\n",
       "    </tr>\n",
       "    <tr>\n",
       "      <th>98</th>\n",
       "      <td>Fastrack</td>\n",
       "      <td>₹639</td>\n",
       "      <td>78% off</td>\n",
       "      <td>UV Protection Retro Square Sunglasses (Free Size)</td>\n",
       "    </tr>\n",
       "    <tr>\n",
       "      <th>99</th>\n",
       "      <td>AISLIN</td>\n",
       "      <td>₹675</td>\n",
       "      <td>84% off</td>\n",
       "      <td>UV Protection Aviator Sunglasses (57)</td>\n",
       "    </tr>\n",
       "  </tbody>\n",
       "</table>\n",
       "<p>100 rows × 4 columns</p>\n",
       "</div>"
      ],
      "text/plain": [
       "            Brand Price Discount  \\\n",
       "0       ROYAL SON  ₹749  84% off   \n",
       "1   VINCENT CHASE  ₹569  78% off   \n",
       "2        DAHAAZIL  ₹177  82% off   \n",
       "3       Elligator  ₹298  79% off   \n",
       "4       New Specs  ₹264  20% off   \n",
       "..            ...   ...      ...   \n",
       "95      METRONAUT  ₹269  62% off   \n",
       "96           SRPM  ₹211  87% off   \n",
       "97         PIRASO  ₹246  79% off   \n",
       "98       Fastrack  ₹639  78% off   \n",
       "99         AISLIN  ₹675  84% off   \n",
       "\n",
       "                                          Description  \n",
       "0   UV Protection, Riding Glasses Round Sunglasses...  \n",
       "1                 UV Protection Round Sunglasses (54)  \n",
       "2   Mirrored, Night Vision, UV Protection, Riding ...  \n",
       "3            UV Protection Clubmaster Sunglasses (53)  \n",
       "4   Mirrored, UV Protection Wayfarer Sunglasses (F...  \n",
       "..                                                ...  \n",
       "95  by Lenskart Polarized, UV Protection Rectangul...  \n",
       "96                UV Protection Round Sunglasses (53)  \n",
       "97                UV Protection Round Sunglasses (53)  \n",
       "98  UV Protection Retro Square Sunglasses (Free Size)  \n",
       "99              UV Protection Aviator Sunglasses (57)  \n",
       "\n",
       "[100 rows x 4 columns]"
      ]
     },
     "execution_count": 23,
     "metadata": {},
     "output_type": "execute_result"
    }
   ],
   "source": [
    "df = pd.DataFrame({'Brand':b,'Price':p,'Discount':off,'Description':d})\n",
    "df"
   ]
  },
  {
   "cell_type": "code",
   "execution_count": null,
   "id": "f4de81cb",
   "metadata": {},
   "outputs": [],
   "source": []
  },
  {
   "cell_type": "code",
   "execution_count": null,
   "id": "439606ef",
   "metadata": {},
   "outputs": [],
   "source": []
  }
 ],
 "metadata": {
  "kernelspec": {
   "display_name": "Python 3 (ipykernel)",
   "language": "python",
   "name": "python3"
  },
  "language_info": {
   "codemirror_mode": {
    "name": "ipython",
    "version": 3
   },
   "file_extension": ".py",
   "mimetype": "text/x-python",
   "name": "python",
   "nbconvert_exporter": "python",
   "pygments_lexer": "ipython3",
   "version": "3.9.7"
  }
 },
 "nbformat": 4,
 "nbformat_minor": 5
}
