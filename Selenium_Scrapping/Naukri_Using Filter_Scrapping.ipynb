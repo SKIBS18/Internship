{
 "cells": [
  {
   "cell_type": "markdown",
   "id": "92a56342",
   "metadata": {},
   "source": [
    "                         Data Scientist- Using LOcation ans Salary Filters"
   ]
  },
  {
   "cell_type": "code",
   "execution_count": 2,
   "id": "c702095d",
   "metadata": {},
   "outputs": [],
   "source": [
    "from selenium import webdriver"
   ]
  },
  {
   "cell_type": "code",
   "execution_count": 3,
   "id": "6070f2b3",
   "metadata": {},
   "outputs": [],
   "source": [
    "from selenium.webdriver.common.by import By\n",
    "import pandas as pd\n",
    "import warnings\n",
    "warnings.filterwarnings('ignore')"
   ]
  },
  {
   "cell_type": "code",
   "execution_count": 4,
   "id": "40ddbfd1",
   "metadata": {},
   "outputs": [],
   "source": [
    "driver = webdriver.Chrome(r'C:\\Users\\shail\\Downloads\\chromedriver_win32\\chromedriver.exe')"
   ]
  },
  {
   "cell_type": "code",
   "execution_count": 5,
   "id": "58866a06",
   "metadata": {},
   "outputs": [],
   "source": [
    "url = 'https://www.naukri.com/'\n",
    "driver.get(url)"
   ]
  },
  {
   "cell_type": "code",
   "execution_count": 6,
   "id": "a89b0fc8",
   "metadata": {},
   "outputs": [
    {
     "data": {
      "text/plain": [
       "<selenium.webdriver.remote.webelement.WebElement (session=\"f30790e47416f000f6105ff8f094c1d1\", element=\"7c0335de-5a26-480c-978f-a883289ca978\")>"
      ]
     },
     "execution_count": 6,
     "metadata": {},
     "output_type": "execute_result"
    }
   ],
   "source": [
    "search_job = driver.find_element(By.CLASS_NAME,\"suggestor-input\")\n",
    "search_job"
   ]
  },
  {
   "cell_type": "code",
   "execution_count": 6,
   "id": "1f185d55",
   "metadata": {},
   "outputs": [],
   "source": [
    "search_job.send_keys(\"Data Scientist\")"
   ]
  },
  {
   "cell_type": "code",
   "execution_count": 7,
   "id": "f4b46151",
   "metadata": {},
   "outputs": [
    {
     "data": {
      "text/plain": [
       "<selenium.webdriver.remote.webelement.WebElement (session=\"54414461127e8923c91428290970de5a\", element=\"7ffc1ba1-5720-4df3-9b60-472eafb2334b\")>"
      ]
     },
     "execution_count": 7,
     "metadata": {},
     "output_type": "execute_result"
    }
   ],
   "source": [
    "search_btn = driver.find_element(By.XPATH,\"/html/body/div[1]/div[2]/div[3]/div/div/div[6]\")\n",
    "search_btn"
   ]
  },
  {
   "cell_type": "code",
   "execution_count": 8,
   "id": "cfdf638f",
   "metadata": {},
   "outputs": [],
   "source": [
    "search_btn.click()"
   ]
  },
  {
   "cell_type": "code",
   "execution_count": 9,
   "id": "137be5ed",
   "metadata": {},
   "outputs": [],
   "source": [
    "loc_filter = driver.find_element(By.XPATH,\"/html/body/div[1]/div[3]/div[2]/section[1]/div[2]/div[5]/div[2]/div[3]/label/i\")"
   ]
  },
  {
   "cell_type": "code",
   "execution_count": 10,
   "id": "cdf90eb2",
   "metadata": {},
   "outputs": [],
   "source": [
    "loc_filter.click()"
   ]
  },
  {
   "cell_type": "code",
   "execution_count": 11,
   "id": "17630b8d",
   "metadata": {},
   "outputs": [],
   "source": [
    "salary_filter = driver.find_element(By.XPATH,\"/html/body/div[1]/div[3]/div[2]/section[1]/div[2]/div[6]/div[2]/div[2]/label/i\")"
   ]
  },
  {
   "cell_type": "code",
   "execution_count": 12,
   "id": "0b887444",
   "metadata": {},
   "outputs": [],
   "source": [
    "salary_filter.click()"
   ]
  },
  {
   "cell_type": "code",
   "execution_count": 13,
   "id": "7951c831",
   "metadata": {},
   "outputs": [
    {
     "data": {
      "text/plain": [
       "20"
      ]
     },
     "execution_count": 13,
     "metadata": {},
     "output_type": "execute_result"
    }
   ],
   "source": [
    "title_tags = driver.find_elements(By.XPATH,'//a[@class=\"title fw500 ellipsis\"]')\n",
    "len(title_tags)"
   ]
  },
  {
   "cell_type": "code",
   "execution_count": 14,
   "id": "7be1f71b",
   "metadata": {},
   "outputs": [
    {
     "data": {
      "text/plain": [
       "20"
      ]
     },
     "execution_count": 14,
     "metadata": {},
     "output_type": "execute_result"
    }
   ],
   "source": [
    "job_titles =[]\n",
    "for i in title_tags:\n",
    "    job_titles.append(i.text)\n",
    "\n",
    "len(job_titles)"
   ]
  },
  {
   "cell_type": "code",
   "execution_count": 15,
   "id": "4e619ab3",
   "metadata": {},
   "outputs": [
    {
     "data": {
      "text/plain": [
       "['DigitalBCG GAMMA Data Scientist',\n",
       " 'Senior Associate - Data Science',\n",
       " 'Data Scientist - Noida/Bangalore',\n",
       " 'Data Scientist For Healthcare Product team',\n",
       " 'Data Scientist For Healthcare Product team',\n",
       " 'Data Scientist - Machine learning AI',\n",
       " 'Data Scientist - MIND Infotech',\n",
       " 'Data Scientist - Engine Algorithm',\n",
       " 'Knowledge/Data Scientist',\n",
       " 'Data Scientist',\n",
       " 'Data Scientist',\n",
       " 'Data Scientist',\n",
       " 'Data Scientist - Internet Jobs - II',\n",
       " 'Data Science',\n",
       " 'Data Science',\n",
       " 'Data Scientist',\n",
       " 'Machine Learning Seniors',\n",
       " 'Hiring || Data Scientist || North Delhi || 5.5 days working',\n",
       " 'Data scientist- Python',\n",
       " 'Dot Net Developer']"
      ]
     },
     "execution_count": 15,
     "metadata": {},
     "output_type": "execute_result"
    }
   ],
   "source": [
    "job_titles"
   ]
  },
  {
   "cell_type": "code",
   "execution_count": 16,
   "id": "7ce28e5f",
   "metadata": {},
   "outputs": [],
   "source": [
    "job_t = job_titles[0:10]"
   ]
  },
  {
   "cell_type": "code",
   "execution_count": 17,
   "id": "ccd7b3fe",
   "metadata": {},
   "outputs": [
    {
     "data": {
      "text/plain": [
       "['DigitalBCG GAMMA Data Scientist',\n",
       " 'Senior Associate - Data Science',\n",
       " 'Data Scientist - Noida/Bangalore',\n",
       " 'Data Scientist For Healthcare Product team',\n",
       " 'Data Scientist For Healthcare Product team',\n",
       " 'Data Scientist - Machine learning AI',\n",
       " 'Data Scientist - MIND Infotech',\n",
       " 'Data Scientist - Engine Algorithm',\n",
       " 'Knowledge/Data Scientist',\n",
       " 'Data Scientist']"
      ]
     },
     "execution_count": 17,
     "metadata": {},
     "output_type": "execute_result"
    }
   ],
   "source": [
    "job_t"
   ]
  },
  {
   "cell_type": "code",
   "execution_count": 18,
   "id": "62ff247c",
   "metadata": {},
   "outputs": [
    {
     "data": {
      "text/plain": [
       "20"
      ]
     },
     "execution_count": 18,
     "metadata": {},
     "output_type": "execute_result"
    }
   ],
   "source": [
    "loc_tag = driver.find_elements(By.XPATH,'//li[@class=\"fleft grey-text br2 placeHolderLi location\"]')\n",
    "len(loc_tag)"
   ]
  },
  {
   "cell_type": "code",
   "execution_count": 19,
   "id": "367825cf",
   "metadata": {},
   "outputs": [
    {
     "data": {
      "text/plain": [
       "20"
      ]
     },
     "execution_count": 19,
     "metadata": {},
     "output_type": "execute_result"
    }
   ],
   "source": [
    "loc_title = []\n",
    "for i in loc_tag:\n",
    "    loc_title.append(i.text)\n",
    "len(loc_title)"
   ]
  },
  {
   "cell_type": "code",
   "execution_count": 20,
   "id": "52f9ccd6",
   "metadata": {},
   "outputs": [
    {
     "data": {
      "text/plain": [
       "['New Delhi, Bangalore/Bengaluru',\n",
       " 'Mumbai, Hyderabad/Secunderabad, Gurgaon/Gurugram, Bangalore/Bengaluru',\n",
       " 'Noida, Bangalore/Bengaluru',\n",
       " 'Delhi / NCR, Chennai, Bangalore/Bengaluru',\n",
       " 'Delhi / NCR, Chennai, Bangalore/Bengaluru',\n",
       " 'Delhi / NCR, Bangalore/Bengaluru, Mumbai (All Areas)\\n(WFH during Covid)',\n",
       " 'Noida',\n",
       " 'Delhi / NCR, Kolkata, Mumbai, Hyderabad/Secunderabad, Lucknow, Chennai, Ahmedabad, Bangalore/Bengaluru',\n",
       " 'Delhi / NCR',\n",
       " 'Delhi / NCR, Pune, Bangalore/Bengaluru',\n",
       " 'Delhi / NCR, Pune, Bangalore/Bengaluru',\n",
       " 'Delhi / NCR, Bangalore/Bengaluru, Mumbai (All Areas)\\n(WFH during Covid)',\n",
       " 'Delhi / NCR, Bangalore/Bengaluru, Mumbai (All Areas)',\n",
       " 'Delhi / NCR, Noida, Faridabad, Gurgaon/Gurugram, Bangalore/Bengaluru, Greater Noida',\n",
       " 'Delhi / NCR, Noida, Faridabad, Gurgaon/Gurugram, Bangalore/Bengaluru, Greater Noida',\n",
       " 'Gurgaon/Gurugram',\n",
       " 'Hyderabad/Secunderabad, New Delhi',\n",
       " 'Delhi / NCR(Netaji Subhash Place)',\n",
       " 'Gurgaon/Gurugram',\n",
       " 'Delhi / NCR, Gurgaon/Gurugram']"
      ]
     },
     "execution_count": 20,
     "metadata": {},
     "output_type": "execute_result"
    }
   ],
   "source": [
    "loc_title"
   ]
  },
  {
   "cell_type": "code",
   "execution_count": 21,
   "id": "679b7100",
   "metadata": {},
   "outputs": [],
   "source": [
    "loc_t = loc_title[0:10]"
   ]
  },
  {
   "cell_type": "code",
   "execution_count": 22,
   "id": "cb5c791a",
   "metadata": {},
   "outputs": [
    {
     "data": {
      "text/plain": [
       "['New Delhi, Bangalore/Bengaluru',\n",
       " 'Mumbai, Hyderabad/Secunderabad, Gurgaon/Gurugram, Bangalore/Bengaluru',\n",
       " 'Noida, Bangalore/Bengaluru',\n",
       " 'Delhi / NCR, Chennai, Bangalore/Bengaluru',\n",
       " 'Delhi / NCR, Chennai, Bangalore/Bengaluru',\n",
       " 'Delhi / NCR, Bangalore/Bengaluru, Mumbai (All Areas)\\n(WFH during Covid)',\n",
       " 'Noida',\n",
       " 'Delhi / NCR, Kolkata, Mumbai, Hyderabad/Secunderabad, Lucknow, Chennai, Ahmedabad, Bangalore/Bengaluru',\n",
       " 'Delhi / NCR',\n",
       " 'Delhi / NCR, Pune, Bangalore/Bengaluru']"
      ]
     },
     "execution_count": 22,
     "metadata": {},
     "output_type": "execute_result"
    }
   ],
   "source": [
    "loc_t"
   ]
  },
  {
   "cell_type": "code",
   "execution_count": 24,
   "id": "5ceaaa17",
   "metadata": {},
   "outputs": [
    {
     "data": {
      "text/plain": [
       "20"
      ]
     },
     "execution_count": 24,
     "metadata": {},
     "output_type": "execute_result"
    }
   ],
   "source": [
    "comp_tag = driver.find_elements(By.XPATH,'//a[@class=\"subTitle ellipsis fleft\"]')\n",
    "len(comp_tag)"
   ]
  },
  {
   "cell_type": "code",
   "execution_count": 25,
   "id": "c9666e1c",
   "metadata": {},
   "outputs": [
    {
     "data": {
      "text/plain": [
       "20"
      ]
     },
     "execution_count": 25,
     "metadata": {},
     "output_type": "execute_result"
    }
   ],
   "source": [
    "comp_title = []\n",
    "for i in comp_tag:\n",
    "    comp_title.append(i.text)\n",
    "len(comp_title)"
   ]
  },
  {
   "cell_type": "code",
   "execution_count": 26,
   "id": "9ee51fdf",
   "metadata": {},
   "outputs": [
    {
     "data": {
      "text/plain": [
       "['Boston Consulting Group',\n",
       " 'Black Turtle',\n",
       " 'EXL',\n",
       " '8KMiles Software Services',\n",
       " '8KMiles Software Services',\n",
       " 'Teq Analytics',\n",
       " 'MOTHERSONSUMI INFOTECH & DESIGNS LIMITED',\n",
       " 'Primo Hiring',\n",
       " 'BOLD Technology Systems',\n",
       " 'Mount Talent Consulting Private Limited',\n",
       " 'Mount Talent Consulting Private Limited',\n",
       " 'Sydata Consulting India Pvt Ltd',\n",
       " 'Jobs Territory',\n",
       " 'Mount Talent Consulting Private Limited',\n",
       " 'Mount Talent Consulting Private Limited',\n",
       " 'Kellton Tech Solutions',\n",
       " 'Walking Tree Consultancy Services pvt Ltd',\n",
       " 'Shriram Automall',\n",
       " 'TeamPlus Staffing Solution Pvt Ltd',\n",
       " 'Nibha Infotech Private Limited']"
      ]
     },
     "execution_count": 26,
     "metadata": {},
     "output_type": "execute_result"
    }
   ],
   "source": [
    "comp_title"
   ]
  },
  {
   "cell_type": "code",
   "execution_count": 27,
   "id": "8099c1f2",
   "metadata": {},
   "outputs": [],
   "source": [
    "comp_name = comp_title[0:10]"
   ]
  },
  {
   "cell_type": "code",
   "execution_count": 28,
   "id": "2fd5bb1d",
   "metadata": {},
   "outputs": [
    {
     "data": {
      "text/plain": [
       "['Boston Consulting Group',\n",
       " 'Black Turtle',\n",
       " 'EXL',\n",
       " '8KMiles Software Services',\n",
       " '8KMiles Software Services',\n",
       " 'Teq Analytics',\n",
       " 'MOTHERSONSUMI INFOTECH & DESIGNS LIMITED',\n",
       " 'Primo Hiring',\n",
       " 'BOLD Technology Systems',\n",
       " 'Mount Talent Consulting Private Limited']"
      ]
     },
     "execution_count": 28,
     "metadata": {},
     "output_type": "execute_result"
    }
   ],
   "source": [
    "comp_name"
   ]
  },
  {
   "cell_type": "code",
   "execution_count": 29,
   "id": "c7c6b22e",
   "metadata": {},
   "outputs": [
    {
     "data": {
      "text/plain": [
       "20"
      ]
     },
     "execution_count": 29,
     "metadata": {},
     "output_type": "execute_result"
    }
   ],
   "source": [
    "exp_tag = driver.find_elements(By.XPATH,'//li[@class=\"fleft grey-text br2 placeHolderLi experience\"]')\n",
    "len(exp_tag)"
   ]
  },
  {
   "cell_type": "code",
   "execution_count": 30,
   "id": "c6c000a6",
   "metadata": {},
   "outputs": [
    {
     "data": {
      "text/plain": [
       "20"
      ]
     },
     "execution_count": 30,
     "metadata": {},
     "output_type": "execute_result"
    }
   ],
   "source": [
    "exp_title = []\n",
    "for i in exp_tag:\n",
    "    exp_title.append(i.text)\n",
    "len(exp_title)"
   ]
  },
  {
   "cell_type": "code",
   "execution_count": 31,
   "id": "949dcaec",
   "metadata": {},
   "outputs": [],
   "source": [
    "exp = exp_title[0:10]"
   ]
  },
  {
   "cell_type": "code",
   "execution_count": 32,
   "id": "b173e9f5",
   "metadata": {},
   "outputs": [
    {
     "data": {
      "text/plain": [
       "['2-5 Yrs',\n",
       " '4-7 Yrs',\n",
       " '5-10 Yrs',\n",
       " '2-7 Yrs',\n",
       " '2-7 Yrs',\n",
       " '3-8 Yrs',\n",
       " '4-8 Yrs',\n",
       " '1-3 Yrs',\n",
       " '3-6 Yrs',\n",
       " '2-4 Yrs']"
      ]
     },
     "execution_count": 32,
     "metadata": {},
     "output_type": "execute_result"
    }
   ],
   "source": [
    "exp"
   ]
  },
  {
   "cell_type": "code",
   "execution_count": 33,
   "id": "178d3c13",
   "metadata": {},
   "outputs": [
    {
     "data": {
      "text/html": [
       "<div>\n",
       "<style scoped>\n",
       "    .dataframe tbody tr th:only-of-type {\n",
       "        vertical-align: middle;\n",
       "    }\n",
       "\n",
       "    .dataframe tbody tr th {\n",
       "        vertical-align: top;\n",
       "    }\n",
       "\n",
       "    .dataframe thead th {\n",
       "        text-align: right;\n",
       "    }\n",
       "</style>\n",
       "<table border=\"1\" class=\"dataframe\">\n",
       "  <thead>\n",
       "    <tr style=\"text-align: right;\">\n",
       "      <th></th>\n",
       "      <th>Designation</th>\n",
       "      <th>location</th>\n",
       "      <th>Experience</th>\n",
       "      <th>Company</th>\n",
       "    </tr>\n",
       "  </thead>\n",
       "  <tbody>\n",
       "    <tr>\n",
       "      <th>0</th>\n",
       "      <td>DigitalBCG GAMMA Data Scientist</td>\n",
       "      <td>New Delhi, Bangalore/Bengaluru</td>\n",
       "      <td>2-5 Yrs</td>\n",
       "      <td>Boston Consulting Group</td>\n",
       "    </tr>\n",
       "    <tr>\n",
       "      <th>1</th>\n",
       "      <td>Senior Associate - Data Science</td>\n",
       "      <td>Mumbai, Hyderabad/Secunderabad, Gurgaon/Gurugr...</td>\n",
       "      <td>4-7 Yrs</td>\n",
       "      <td>Black Turtle</td>\n",
       "    </tr>\n",
       "    <tr>\n",
       "      <th>2</th>\n",
       "      <td>Data Scientist - Noida/Bangalore</td>\n",
       "      <td>Noida, Bangalore/Bengaluru</td>\n",
       "      <td>5-10 Yrs</td>\n",
       "      <td>EXL</td>\n",
       "    </tr>\n",
       "    <tr>\n",
       "      <th>3</th>\n",
       "      <td>Data Scientist For Healthcare Product team</td>\n",
       "      <td>Delhi / NCR, Chennai, Bangalore/Bengaluru</td>\n",
       "      <td>2-7 Yrs</td>\n",
       "      <td>8KMiles Software Services</td>\n",
       "    </tr>\n",
       "    <tr>\n",
       "      <th>4</th>\n",
       "      <td>Data Scientist For Healthcare Product team</td>\n",
       "      <td>Delhi / NCR, Chennai, Bangalore/Bengaluru</td>\n",
       "      <td>2-7 Yrs</td>\n",
       "      <td>8KMiles Software Services</td>\n",
       "    </tr>\n",
       "    <tr>\n",
       "      <th>5</th>\n",
       "      <td>Data Scientist - Machine learning AI</td>\n",
       "      <td>Delhi / NCR, Bangalore/Bengaluru, Mumbai (All ...</td>\n",
       "      <td>3-8 Yrs</td>\n",
       "      <td>Teq Analytics</td>\n",
       "    </tr>\n",
       "    <tr>\n",
       "      <th>6</th>\n",
       "      <td>Data Scientist - MIND Infotech</td>\n",
       "      <td>Noida</td>\n",
       "      <td>4-8 Yrs</td>\n",
       "      <td>MOTHERSONSUMI INFOTECH &amp; DESIGNS LIMITED</td>\n",
       "    </tr>\n",
       "    <tr>\n",
       "      <th>7</th>\n",
       "      <td>Data Scientist - Engine Algorithm</td>\n",
       "      <td>Delhi / NCR, Kolkata, Mumbai, Hyderabad/Secund...</td>\n",
       "      <td>1-3 Yrs</td>\n",
       "      <td>Primo Hiring</td>\n",
       "    </tr>\n",
       "    <tr>\n",
       "      <th>8</th>\n",
       "      <td>Knowledge/Data Scientist</td>\n",
       "      <td>Delhi / NCR</td>\n",
       "      <td>3-6 Yrs</td>\n",
       "      <td>BOLD Technology Systems</td>\n",
       "    </tr>\n",
       "    <tr>\n",
       "      <th>9</th>\n",
       "      <td>Data Scientist</td>\n",
       "      <td>Delhi / NCR, Pune, Bangalore/Bengaluru</td>\n",
       "      <td>2-4 Yrs</td>\n",
       "      <td>Mount Talent Consulting Private Limited</td>\n",
       "    </tr>\n",
       "  </tbody>\n",
       "</table>\n",
       "</div>"
      ],
      "text/plain": [
       "                                  Designation  \\\n",
       "0             DigitalBCG GAMMA Data Scientist   \n",
       "1             Senior Associate - Data Science   \n",
       "2            Data Scientist - Noida/Bangalore   \n",
       "3  Data Scientist For Healthcare Product team   \n",
       "4  Data Scientist For Healthcare Product team   \n",
       "5        Data Scientist - Machine learning AI   \n",
       "6              Data Scientist - MIND Infotech   \n",
       "7           Data Scientist - Engine Algorithm   \n",
       "8                    Knowledge/Data Scientist   \n",
       "9                              Data Scientist   \n",
       "\n",
       "                                            location Experience  \\\n",
       "0                     New Delhi, Bangalore/Bengaluru    2-5 Yrs   \n",
       "1  Mumbai, Hyderabad/Secunderabad, Gurgaon/Gurugr...    4-7 Yrs   \n",
       "2                         Noida, Bangalore/Bengaluru   5-10 Yrs   \n",
       "3          Delhi / NCR, Chennai, Bangalore/Bengaluru    2-7 Yrs   \n",
       "4          Delhi / NCR, Chennai, Bangalore/Bengaluru    2-7 Yrs   \n",
       "5  Delhi / NCR, Bangalore/Bengaluru, Mumbai (All ...    3-8 Yrs   \n",
       "6                                              Noida    4-8 Yrs   \n",
       "7  Delhi / NCR, Kolkata, Mumbai, Hyderabad/Secund...    1-3 Yrs   \n",
       "8                                        Delhi / NCR    3-6 Yrs   \n",
       "9             Delhi / NCR, Pune, Bangalore/Bengaluru    2-4 Yrs   \n",
       "\n",
       "                                    Company  \n",
       "0                   Boston Consulting Group  \n",
       "1                              Black Turtle  \n",
       "2                                       EXL  \n",
       "3                 8KMiles Software Services  \n",
       "4                 8KMiles Software Services  \n",
       "5                             Teq Analytics  \n",
       "6  MOTHERSONSUMI INFOTECH & DESIGNS LIMITED  \n",
       "7                              Primo Hiring  \n",
       "8                   BOLD Technology Systems  \n",
       "9   Mount Talent Consulting Private Limited  "
      ]
     },
     "execution_count": 33,
     "metadata": {},
     "output_type": "execute_result"
    }
   ],
   "source": [
    "df = pd.DataFrame({'Designation':job_t,'location':loc_t,'Experience':exp,'Company':comp_name})\n",
    "df"
   ]
  },
  {
   "cell_type": "code",
   "execution_count": null,
   "id": "81f5dd8d",
   "metadata": {},
   "outputs": [],
   "source": []
  }
 ],
 "metadata": {
  "kernelspec": {
   "display_name": "Python 3 (ipykernel)",
   "language": "python",
   "name": "python3"
  },
  "language_info": {
   "codemirror_mode": {
    "name": "ipython",
    "version": 3
   },
   "file_extension": ".py",
   "mimetype": "text/x-python",
   "name": "python",
   "nbconvert_exporter": "python",
   "pygments_lexer": "ipython3",
   "version": "3.9.7"
  }
 },
 "nbformat": 4,
 "nbformat_minor": 5
}
