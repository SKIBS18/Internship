{
 "cells": [
  {
   "cell_type": "code",
   "execution_count": 1,
   "id": "39d28174",
   "metadata": {},
   "outputs": [],
   "source": [
    "from selenium import webdriver"
   ]
  },
  {
   "cell_type": "code",
   "execution_count": 2,
   "id": "11292677",
   "metadata": {},
   "outputs": [],
   "source": [
    "from selenium.webdriver.common.by import By\n",
    "import pandas as pd\n",
    "import warnings\n",
    "warnings.filterwarnings('ignore')"
   ]
  },
  {
   "cell_type": "code",
   "execution_count": 3,
   "id": "10fec75a",
   "metadata": {},
   "outputs": [],
   "source": [
    "driver = webdriver.Chrome(r'C:\\Users\\shail\\Downloads\\chromedriver_win32\\chromedriver.exe')"
   ]
  },
  {
   "cell_type": "code",
   "execution_count": 4,
   "id": "2097b7e8",
   "metadata": {},
   "outputs": [],
   "source": [
    "url = 'https://www.google.com/maps'\n",
    "driver.get(url)"
   ]
  },
  {
   "cell_type": "code",
   "execution_count": 5,
   "id": "51b4b115",
   "metadata": {},
   "outputs": [
    {
     "data": {
      "text/plain": [
       "<selenium.webdriver.remote.webelement.WebElement (session=\"664d256c5aff92a92d6402c70761da63\", element=\"6e66d9bc-7596-494e-aa41-07f1560998fe\")>"
      ]
     },
     "execution_count": 5,
     "metadata": {},
     "output_type": "execute_result"
    }
   ],
   "source": [
    "search_loc = driver.find_element(By.XPATH,\"/html/body/div[3]/div[9]/div[3]/div[1]/div[1]/div[1]/div[2]/form/div[2]/div[3]/div/input[1]\")\n",
    "search_loc"
   ]
  },
  {
   "cell_type": "code",
   "execution_count": 6,
   "id": "b100bfaa",
   "metadata": {},
   "outputs": [],
   "source": [
    "search_loc.send_keys(\"patna\")"
   ]
  },
  {
   "cell_type": "code",
   "execution_count": 7,
   "id": "f8879ff8",
   "metadata": {},
   "outputs": [
    {
     "data": {
      "text/plain": [
       "<selenium.webdriver.remote.webelement.WebElement (session=\"664d256c5aff92a92d6402c70761da63\", element=\"a2b91768-f951-499a-a94d-715500becdbc\")>"
      ]
     },
     "execution_count": 7,
     "metadata": {},
     "output_type": "execute_result"
    }
   ],
   "source": [
    "search_bt = driver.find_element(By.XPATH,\"/html/body/div[3]/div[9]/div[3]/div[1]/div[1]/div[1]/div[2]/div[1]/button\")\n",
    "search_bt"
   ]
  },
  {
   "cell_type": "code",
   "execution_count": 8,
   "id": "98d8c333",
   "metadata": {},
   "outputs": [],
   "source": [
    "search_bt.click()"
   ]
  },
  {
   "cell_type": "code",
   "execution_count": 9,
   "id": "724412ba",
   "metadata": {},
   "outputs": [],
   "source": [
    "url_string = driver.current_url"
   ]
  },
  {
   "cell_type": "code",
   "execution_count": 37,
   "id": "fa0df962",
   "metadata": {},
   "outputs": [
    {
     "data": {
      "text/plain": [
       "'https://www.google.com/maps/place/Patna,+Bihar/@25.6080374,85.1430429,11z/data=!4m5!3m4!1s0x39f29937c52d4f05:0x831a0e05f607b270!8m2!3d25.5940947!4d85.1375645'"
      ]
     },
     "execution_count": 37,
     "metadata": {},
     "output_type": "execute_result"
    }
   ],
   "source": [
    "url_string"
   ]
  },
  {
   "cell_type": "code",
   "execution_count": 11,
   "id": "6733190f",
   "metadata": {},
   "outputs": [],
   "source": [
    "import re"
   ]
  },
  {
   "cell_type": "code",
   "execution_count": 49,
   "id": "5848e489",
   "metadata": {},
   "outputs": [
    {
     "name": "stdout",
     "output_type": "stream",
     "text": [
      "URL Extracted:  https://www.google.com/maps/place/Patna,+Bihar/@25.6080374,85.1430429,11z/data=!4m5!3m4!1s0x39f29937c52d4f05:0x831a0e05f607b270!8m2!3d25.5940947!4d85.1375645\n",
      "Latitude = 25.6080374, Longitude = 85.1430429\n"
     ]
    }
   ],
   "source": [
    "try:\n",
    "\n",
    "    url_string = driver.current_url\n",
    "    \n",
    "    print(\"URL Extracted: \", url_string)\n",
    "\n",
    "\n",
    "    lat_lng = re.findall(r'@(.*)data',url_string)\n",
    "\n",
    "    if len(lat_lng):\n",
    "\n",
    "        lat_lng_list = lat_lng[0].split(\",\")\n",
    "\n",
    "        if len(lat_lng_list)>=2:\n",
    "\n",
    "            lat = lat_lng_list[0]\n",
    "\n",
    "            lng = lat_lng_list[1]\n",
    "            \n",
    "        print(\"Latitude = {}, Longitude = {}\".format(lat, lng))   \n",
    "\n",
    "\n",
    "\n",
    "except Exception as e:\n",
    "\n",
    "        print(\"Error: \", str(e))\n",
    "\n"
   ]
  },
  {
   "cell_type": "code",
   "execution_count": 40,
   "id": "a22b9228",
   "metadata": {},
   "outputs": [
    {
     "data": {
      "text/plain": [
       "'25.6080374'"
      ]
     },
     "execution_count": 40,
     "metadata": {},
     "output_type": "execute_result"
    }
   ],
   "source": [
    "lat"
   ]
  },
  {
   "cell_type": "code",
   "execution_count": 41,
   "id": "d9a867d7",
   "metadata": {},
   "outputs": [
    {
     "data": {
      "text/plain": [
       "'85.1430429'"
      ]
     },
     "execution_count": 41,
     "metadata": {},
     "output_type": "execute_result"
    }
   ],
   "source": [
    "lng"
   ]
  },
  {
   "cell_type": "code",
   "execution_count": 43,
   "id": "d6554959",
   "metadata": {},
   "outputs": [
    {
     "data": {
      "text/plain": [
       "'https://www.google.com/maps/place/Patna,+Bihar/@25.6080374,85.1430429,11z/data=!4m5!3m4!1s0x39f29937c52d4f05:0x831a0e05f607b270!8m2!3d25.5940947!4d85.1375645'"
      ]
     },
     "execution_count": 43,
     "metadata": {},
     "output_type": "execute_result"
    }
   ],
   "source": [
    "url_string"
   ]
  },
  {
   "cell_type": "code",
   "execution_count": 24,
   "id": "c82c13a8",
   "metadata": {},
   "outputs": [],
   "source": [
    "import pandas as pd"
   ]
  },
  {
   "cell_type": "code",
   "execution_count": 50,
   "id": "11690b29",
   "metadata": {},
   "outputs": [
    {
     "data": {
      "text/html": [
       "<div>\n",
       "<style scoped>\n",
       "    .dataframe tbody tr th:only-of-type {\n",
       "        vertical-align: middle;\n",
       "    }\n",
       "\n",
       "    .dataframe tbody tr th {\n",
       "        vertical-align: top;\n",
       "    }\n",
       "\n",
       "    .dataframe thead th {\n",
       "        text-align: right;\n",
       "    }\n",
       "</style>\n",
       "<table border=\"1\" class=\"dataframe\">\n",
       "  <thead>\n",
       "    <tr style=\"text-align: right;\">\n",
       "      <th></th>\n",
       "      <th>Latitude_Coordinate</th>\n",
       "      <th>Longitude_Coordinate</th>\n",
       "      <th>Link</th>\n",
       "    </tr>\n",
       "  </thead>\n",
       "  <tbody>\n",
       "    <tr>\n",
       "      <th>0</th>\n",
       "      <td>25.6080374</td>\n",
       "      <td>85.1430429</td>\n",
       "      <td>https://www.google.com/maps/place/Patna,+Bihar...</td>\n",
       "    </tr>\n",
       "  </tbody>\n",
       "</table>\n",
       "</div>"
      ],
      "text/plain": [
       "  Latitude_Coordinate Longitude_Coordinate  \\\n",
       "0          25.6080374           85.1430429   \n",
       "\n",
       "                                                Link  \n",
       "0  https://www.google.com/maps/place/Patna,+Bihar...  "
      ]
     },
     "execution_count": 50,
     "metadata": {},
     "output_type": "execute_result"
    }
   ],
   "source": [
    "df = pd.DataFrame({'Latitude_Coordinate':[lat],'Longitude_Coordinate':[lng],'Link':[url_string]})\n",
    "df"
   ]
  },
  {
   "cell_type": "code",
   "execution_count": null,
   "id": "dea507b2",
   "metadata": {},
   "outputs": [],
   "source": []
  }
 ],
 "metadata": {
  "kernelspec": {
   "display_name": "Python 3 (ipykernel)",
   "language": "python",
   "name": "python3"
  },
  "language_info": {
   "codemirror_mode": {
    "name": "ipython",
    "version": 3
   },
   "file_extension": ".py",
   "mimetype": "text/x-python",
   "name": "python",
   "nbconvert_exporter": "python",
   "pygments_lexer": "ipython3",
   "version": "3.9.7"
  }
 },
 "nbformat": 4,
 "nbformat_minor": 5
}
