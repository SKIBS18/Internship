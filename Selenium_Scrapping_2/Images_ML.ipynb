{
 "cells": [
  {
   "cell_type": "code",
   "execution_count": 1,
   "id": "0c1a9d1b",
   "metadata": {},
   "outputs": [],
   "source": [
    "from selenium import webdriver"
   ]
  },
  {
   "cell_type": "code",
   "execution_count": 2,
   "id": "649f07a3",
   "metadata": {},
   "outputs": [],
   "source": [
    "import time"
   ]
  },
  {
   "cell_type": "code",
   "execution_count": 3,
   "id": "2925e11f",
   "metadata": {},
   "outputs": [],
   "source": [
    "from time import sleep"
   ]
  },
  {
   "cell_type": "code",
   "execution_count": 4,
   "id": "1ee5064d",
   "metadata": {},
   "outputs": [],
   "source": [
    "from selenium.webdriver.common.by import By\n",
    "import pandas as pd\n",
    "import warnings\n",
    "warnings.filterwarnings('ignore')"
   ]
  },
  {
   "cell_type": "code",
   "execution_count": 5,
   "id": "e1c8a03a",
   "metadata": {},
   "outputs": [],
   "source": [
    "from bs4 import BeautifulSoup\n",
    "import requests"
   ]
  },
  {
   "cell_type": "code",
   "execution_count": 6,
   "id": "86ddf649",
   "metadata": {},
   "outputs": [],
   "source": [
    "driver = webdriver.Chrome(r'C:\\Users\\shail\\Downloads\\chromedriver_win32\\chromedriver.exe')"
   ]
  },
  {
   "cell_type": "code",
   "execution_count": 7,
   "id": "3a37eae9",
   "metadata": {},
   "outputs": [],
   "source": [
    "url = 'https://images.google.com/'\n",
    "driver.get(url)"
   ]
  },
  {
   "cell_type": "code",
   "execution_count": 8,
   "id": "90396edc",
   "metadata": {},
   "outputs": [
    {
     "data": {
      "text/plain": [
       "<selenium.webdriver.remote.webelement.WebElement (session=\"b99f7f58eb6ec14fbd6d5b967a99ca05\", element=\"e640e79c-8b8b-41de-a87f-3d4fa85d415a\")>"
      ]
     },
     "execution_count": 8,
     "metadata": {},
     "output_type": "execute_result"
    }
   ],
   "source": [
    "search_img = driver.find_element(By.XPATH,\"/html/body/div[1]/div[3]/form/div[1]/div[1]/div[1]/div/div[2]/input\")\n",
    "search_img"
   ]
  },
  {
   "cell_type": "code",
   "execution_count": 9,
   "id": "2c1e0eb9",
   "metadata": {},
   "outputs": [],
   "source": [
    "search_img.send_keys('Machine Learning')"
   ]
  },
  {
   "cell_type": "code",
   "execution_count": 10,
   "id": "d7187b50",
   "metadata": {},
   "outputs": [
    {
     "data": {
      "text/plain": [
       "<selenium.webdriver.remote.webelement.WebElement (session=\"b99f7f58eb6ec14fbd6d5b967a99ca05\", element=\"36503aa0-f5c8-4181-b54d-f3c82445184b\")>"
      ]
     },
     "execution_count": 10,
     "metadata": {},
     "output_type": "execute_result"
    }
   ],
   "source": [
    "search_btn = driver.find_element(By.XPATH,\"/html/body/div[1]/div[3]/form/div[1]/div[1]/div[1]/button/div/span\")\n",
    "search_btn"
   ]
  },
  {
   "cell_type": "code",
   "execution_count": 11,
   "id": "be8b1f31",
   "metadata": {},
   "outputs": [],
   "source": [
    "search_btn.click()"
   ]
  },
  {
   "cell_type": "code",
   "execution_count": 12,
   "id": "1102b034",
   "metadata": {},
   "outputs": [],
   "source": [
    "total_ml = driver.find_elements(By.XPATH,'//div[@class=\"isv-r PNCib MSM1fd BUooTd\"]')"
   ]
  },
  {
   "cell_type": "code",
   "execution_count": 13,
   "id": "f518f755",
   "metadata": {},
   "outputs": [
    {
     "data": {
      "text/plain": [
       "48"
      ]
     },
     "execution_count": 13,
     "metadata": {},
     "output_type": "execute_result"
    }
   ],
   "source": [
    "len(total_ml)"
   ]
  },
  {
   "cell_type": "code",
   "execution_count": 14,
   "id": "6e813fe6",
   "metadata": {},
   "outputs": [],
   "source": [
    "from selenium.webdriver.support.ui import WebDriverWait \n",
    "from selenium.webdriver.support import expected_conditions as EC\n",
    "from selenium.common.exceptions import TimeoutException\n",
    "from selenium.common.exceptions import NoSuchElementException"
   ]
  },
  {
   "cell_type": "code",
   "execution_count": 20,
   "id": "650adbdb",
   "metadata": {},
   "outputs": [],
   "source": [
    "url = []\n",
    "for i in range(1,12):\n",
    "    xpath = \"//*[@id='islrg']/div[1]/div[%s]\"%(i)\n",
    "    driver.find_element(By.XPATH,xpath).click()\n",
    "    sleep(5)\n",
    "    imageElement = driver.find_element(By.XPATH,'//*[@id=\"Sva75c\"]/div/div/div[3]/div[2]/c-wiz/div/div[1]/div[1]/div[3]/div/a/img')\n",
    "    source = imageElement.get_attribute('src')\n",
    "    if source is not None:\n",
    "        if(source[0:4] == 'http'):\n",
    "            url.append(source)         "
   ]
  },
  {
   "cell_type": "code",
   "execution_count": 21,
   "id": "36c5da92",
   "metadata": {
    "scrolled": false
   },
   "outputs": [
    {
     "data": {
      "text/plain": [
       "['https://imageio.forbes.com/specials-images/dam/imageserve/966248982/960x0.jpg?format=jpg&width=960',\n",
       " 'https://www.wordstream.com/wp-content/uploads/2021/07/machine-learning.png',\n",
       " 'https://www.atriainnovation.com/wp-content/uploads/2021/02/portada.jpg',\n",
       " 'https://cdn.britannica.com/40/216540-138-14385CFE/How-machine-learning-is-predicting-synthetic-products.jpg?w=800&h=450&c=crop',\n",
       " 'https://www.eurixgroup.com/wp-content/uploads/2021/01/ml-e1610553826718.jpg',\n",
       " 'https://miro.medium.com/max/1400/1*c_fiB-YgbnMl6nntYGBMHQ.jpeg',\n",
       " 'https://imageio.forbes.com/specials-images/dam/imageserve/1129869424/0x0.jpg?format=jpg&width=1200',\n",
       " 'https://miro.medium.com/max/700/0*jng0i9svVVe7L7sj',\n",
       " 'https://assets.website-files.com/5fb24a974499e90dae242d98/60f6feb4be651f666b46194a_AI%20vs%20Machine%20Learning%20vs%20Deep%20Learning.jpg',\n",
       " 'https://d1rytvr7gmk1sx.cloudfront.net/wp-content/uploads/2018/10/istock-1135819437-740x450-1.jpg?x27562']"
      ]
     },
     "execution_count": 21,
     "metadata": {},
     "output_type": "execute_result"
    }
   ],
   "source": [
    "url"
   ]
  },
  {
   "cell_type": "code",
   "execution_count": 22,
   "id": "1a1facfe",
   "metadata": {},
   "outputs": [
    {
     "data": {
      "text/plain": [
       "10"
      ]
     },
     "execution_count": 22,
     "metadata": {},
     "output_type": "execute_result"
    }
   ],
   "source": [
    "len(url)"
   ]
  },
  {
   "cell_type": "code",
   "execution_count": 23,
   "id": "d70a5331",
   "metadata": {},
   "outputs": [
    {
     "name": "stdout",
     "output_type": "stream",
     "text": [
      "Downloading 0 of 10 images\n",
      "Downloading 1 of 10 images\n",
      "Downloading 2 of 10 images\n",
      "Downloading 3 of 10 images\n",
      "Downloading 4 of 10 images\n",
      "Downloading 5 of 10 images\n",
      "Downloading 6 of 10 images\n",
      "Downloading 7 of 10 images\n",
      "Downloading 8 of 10 images\n",
      "Downloading 9 of 10 images\n"
     ]
    }
   ],
   "source": [
    "for p in range(len(url)):\n",
    "    if p > 10:\n",
    "        break\n",
    "    print(\"Downloading {0} of {1} images\".format(p,10))\n",
    "    response = requests.get(url[p])\n",
    "    file = open(r\"C:\\Users\\shail\\FlipRobo\" + str(p)+\".jpg\",\"wb\")\n",
    "    file.write(response.content)"
   ]
  },
  {
   "cell_type": "code",
   "execution_count": 24,
   "id": "5b8bcd36",
   "metadata": {},
   "outputs": [
    {
     "data": {
      "text/html": [
       "<div>\n",
       "<style scoped>\n",
       "    .dataframe tbody tr th:only-of-type {\n",
       "        vertical-align: middle;\n",
       "    }\n",
       "\n",
       "    .dataframe tbody tr th {\n",
       "        vertical-align: top;\n",
       "    }\n",
       "\n",
       "    .dataframe thead th {\n",
       "        text-align: right;\n",
       "    }\n",
       "</style>\n",
       "<table border=\"1\" class=\"dataframe\">\n",
       "  <thead>\n",
       "    <tr style=\"text-align: right;\">\n",
       "      <th></th>\n",
       "      <th>ML_URL</th>\n",
       "    </tr>\n",
       "  </thead>\n",
       "  <tbody>\n",
       "    <tr>\n",
       "      <th>0</th>\n",
       "      <td>https://imageio.forbes.com/specials-images/dam...</td>\n",
       "    </tr>\n",
       "    <tr>\n",
       "      <th>1</th>\n",
       "      <td>https://www.wordstream.com/wp-content/uploads/...</td>\n",
       "    </tr>\n",
       "    <tr>\n",
       "      <th>2</th>\n",
       "      <td>https://www.atriainnovation.com/wp-content/upl...</td>\n",
       "    </tr>\n",
       "    <tr>\n",
       "      <th>3</th>\n",
       "      <td>https://cdn.britannica.com/40/216540-138-14385...</td>\n",
       "    </tr>\n",
       "    <tr>\n",
       "      <th>4</th>\n",
       "      <td>https://www.eurixgroup.com/wp-content/uploads/...</td>\n",
       "    </tr>\n",
       "    <tr>\n",
       "      <th>5</th>\n",
       "      <td>https://miro.medium.com/max/1400/1*c_fiB-YgbnM...</td>\n",
       "    </tr>\n",
       "    <tr>\n",
       "      <th>6</th>\n",
       "      <td>https://imageio.forbes.com/specials-images/dam...</td>\n",
       "    </tr>\n",
       "    <tr>\n",
       "      <th>7</th>\n",
       "      <td>https://miro.medium.com/max/700/0*jng0i9svVVe7...</td>\n",
       "    </tr>\n",
       "    <tr>\n",
       "      <th>8</th>\n",
       "      <td>https://assets.website-files.com/5fb24a974499e...</td>\n",
       "    </tr>\n",
       "    <tr>\n",
       "      <th>9</th>\n",
       "      <td>https://d1rytvr7gmk1sx.cloudfront.net/wp-conte...</td>\n",
       "    </tr>\n",
       "  </tbody>\n",
       "</table>\n",
       "</div>"
      ],
      "text/plain": [
       "                                              ML_URL\n",
       "0  https://imageio.forbes.com/specials-images/dam...\n",
       "1  https://www.wordstream.com/wp-content/uploads/...\n",
       "2  https://www.atriainnovation.com/wp-content/upl...\n",
       "3  https://cdn.britannica.com/40/216540-138-14385...\n",
       "4  https://www.eurixgroup.com/wp-content/uploads/...\n",
       "5  https://miro.medium.com/max/1400/1*c_fiB-YgbnM...\n",
       "6  https://imageio.forbes.com/specials-images/dam...\n",
       "7  https://miro.medium.com/max/700/0*jng0i9svVVe7...\n",
       "8  https://assets.website-files.com/5fb24a974499e...\n",
       "9  https://d1rytvr7gmk1sx.cloudfront.net/wp-conte..."
      ]
     },
     "execution_count": 24,
     "metadata": {},
     "output_type": "execute_result"
    }
   ],
   "source": [
    "df = pd.DataFrame({'ML_URL':url})\n",
    "df"
   ]
  },
  {
   "cell_type": "code",
   "execution_count": null,
   "id": "db50d2a1",
   "metadata": {},
   "outputs": [],
   "source": []
  }
 ],
 "metadata": {
  "kernelspec": {
   "display_name": "Python 3 (ipykernel)",
   "language": "python",
   "name": "python3"
  },
  "language_info": {
   "codemirror_mode": {
    "name": "ipython",
    "version": 3
   },
   "file_extension": ".py",
   "mimetype": "text/x-python",
   "name": "python",
   "nbconvert_exporter": "python",
   "pygments_lexer": "ipython3",
   "version": "3.9.7"
  }
 },
 "nbformat": 4,
 "nbformat_minor": 5
}
