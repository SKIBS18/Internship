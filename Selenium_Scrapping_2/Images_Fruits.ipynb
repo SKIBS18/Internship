{
 "cells": [
  {
   "cell_type": "code",
   "execution_count": 2,
   "id": "834f21a5",
   "metadata": {},
   "outputs": [],
   "source": [
    "from selenium import webdriver"
   ]
  },
  {
   "cell_type": "code",
   "execution_count": 2,
   "id": "f086ae48",
   "metadata": {},
   "outputs": [],
   "source": [
    "from selenium.webdriver.support.ui import WebDriverWait \n",
    "from selenium.webdriver.support import expected_conditions as EC\n",
    "from selenium.common.exceptions import TimeoutException\n",
    "from selenium.common.exceptions import NoSuchElementException"
   ]
  },
  {
   "cell_type": "code",
   "execution_count": 14,
   "id": "d8200db0",
   "metadata": {},
   "outputs": [],
   "source": [
    "import time"
   ]
  },
  {
   "cell_type": "code",
   "execution_count": 4,
   "id": "3ad4c27d",
   "metadata": {},
   "outputs": [],
   "source": [
    "import os"
   ]
  },
  {
   "cell_type": "code",
   "execution_count": 15,
   "id": "d965c122",
   "metadata": {},
   "outputs": [],
   "source": [
    "from time import sleep"
   ]
  },
  {
   "cell_type": "code",
   "execution_count": 6,
   "id": "bdc3ab12",
   "metadata": {},
   "outputs": [],
   "source": [
    "from selenium.webdriver.common.by import By\n",
    "import pandas as pd\n",
    "import warnings\n",
    "warnings.filterwarnings('ignore')"
   ]
  },
  {
   "cell_type": "code",
   "execution_count": 21,
   "id": "3747faaa",
   "metadata": {},
   "outputs": [],
   "source": [
    "from bs4 import BeautifulSoup\n",
    "import requests"
   ]
  },
  {
   "cell_type": "code",
   "execution_count": 103,
   "id": "7d839854",
   "metadata": {},
   "outputs": [],
   "source": [
    "driver = webdriver.Chrome(r'C:\\Users\\shail\\Downloads\\chromedriver_win32\\chromedriver.exe')"
   ]
  },
  {
   "cell_type": "code",
   "execution_count": 104,
   "id": "6090300b",
   "metadata": {},
   "outputs": [],
   "source": [
    "url = 'https://images.google.com/'\n",
    "driver.get(url)"
   ]
  },
  {
   "cell_type": "code",
   "execution_count": 105,
   "id": "be146694",
   "metadata": {},
   "outputs": [
    {
     "data": {
      "text/plain": [
       "<selenium.webdriver.remote.webelement.WebElement (session=\"9a4a4508f8855c294b226c536ba29404\", element=\"0586d808-98bf-4f1d-a4ee-9ac64eac3cd7\")>"
      ]
     },
     "execution_count": 105,
     "metadata": {},
     "output_type": "execute_result"
    }
   ],
   "source": [
    "search_img = driver.find_element(By.XPATH,\"/html/body/div[1]/div[3]/form/div[1]/div[1]/div[1]/div/div[2]/input\")\n",
    "search_img"
   ]
  },
  {
   "cell_type": "code",
   "execution_count": 106,
   "id": "bde0181d",
   "metadata": {},
   "outputs": [],
   "source": [
    "search_img.send_keys('fruits')"
   ]
  },
  {
   "cell_type": "code",
   "execution_count": 107,
   "id": "7158ee49",
   "metadata": {},
   "outputs": [
    {
     "data": {
      "text/plain": [
       "<selenium.webdriver.remote.webelement.WebElement (session=\"9a4a4508f8855c294b226c536ba29404\", element=\"0ff9b8e9-8a67-472f-be9e-a598af80ca34\")>"
      ]
     },
     "execution_count": 107,
     "metadata": {},
     "output_type": "execute_result"
    }
   ],
   "source": [
    "search_btn = driver.find_element(By.XPATH,\"/html/body/div[1]/div[3]/form/div[1]/div[1]/div[1]/button/div/span\")\n",
    "search_btn"
   ]
  },
  {
   "cell_type": "code",
   "execution_count": 108,
   "id": "75e5c0b4",
   "metadata": {},
   "outputs": [],
   "source": [
    "search_btn.click()"
   ]
  },
  {
   "cell_type": "code",
   "execution_count": 109,
   "id": "70ff22af",
   "metadata": {},
   "outputs": [],
   "source": [
    "containers = driver.find_elements(By.XPATH,'//div[@class=\"isv-r PNCib MSM1fd BUooTd\"]')"
   ]
  },
  {
   "cell_type": "code",
   "execution_count": 110,
   "id": "3956c5c2",
   "metadata": {},
   "outputs": [],
   "source": [
    "len_containers = len(containers)"
   ]
  },
  {
   "cell_type": "code",
   "execution_count": 111,
   "id": "30493614",
   "metadata": {},
   "outputs": [
    {
     "data": {
      "text/plain": [
       "48"
      ]
     },
     "execution_count": 111,
     "metadata": {},
     "output_type": "execute_result"
    }
   ],
   "source": [
    "len_containers"
   ]
  },
  {
   "cell_type": "code",
   "execution_count": 130,
   "id": "f53b09dd",
   "metadata": {},
   "outputs": [],
   "source": [
    "url = []\n",
    "for i in range(1,11):\n",
    "    xpath = \"//*[@id='islrg']/div[1]/div[%s]\"%(i)\n",
    "    driver.find_element(By.XPATH,xpath).click()\n",
    "    sleep(5)\n",
    "    imageElement = driver.find_element(By.XPATH,'/html/body/div[2]/c-wiz/div[3]/div[2]/div[3]/div/div/div[3]/div[2]/c-wiz/div/div[1]/div[1]/div[3]/div/a/img')\n",
    "    imageURL = imageElement.get_attribute('src')\n",
    "    url.append(imageURL)\n",
    "       "
   ]
  },
  {
   "cell_type": "code",
   "execution_count": 131,
   "id": "2dc65808",
   "metadata": {},
   "outputs": [
    {
     "data": {
      "text/plain": [
       "['https://hips.hearstapps.com/hmg-prod.s3.amazonaws.com/images/assortment-of-colorful-ripe-tropical-fruits-top-royalty-free-image-995518546-1564092355.jpg',\n",
       " 'https://upload.wikimedia.org/wikipedia/commons/2/2f/Culinary_fruits_front_view.jpg',\n",
       " 'https://i.pinimg.com/originals/c2/2e/32/c22e324ceb7a7f5b1fc69152dd68d85b.jpg',\n",
       " 'https://www.healthyeating.org/images/default-source/home-0.0/nutrition-topics-2.0/general-nutrition-wellness/2-2-2-3foodgroups_fruits_detailfeature.jpg?sfvrsn=64942d53_4',\n",
       " 'https://i0.wp.com/onlymyenglish.com/wp-content/uploads/2020/11/Flowers-Name-1-min.png?fit=707%2C1000&ssl=1',\n",
       " 'https://images-na.ssl-images-amazon.com/images/I/71zhfeXrEqL.jpg',\n",
       " 'https://img.freepik.com/free-vector/flat-fruit-collection_23-2148938827.jpg?w=2000',\n",
       " 'https://media.cntraveler.com/photos/546976f2cbbd2620680d9f2f/master/pass/rare-fruits-tout.jpg',\n",
       " 'https://www.vocabulary.cl/pictures/fruit-in-english.jpg',\n",
       " 'https://www.eatthis.com/wp-content/uploads/sites/4/2022/07/fruit-salad.jpg?quality=82&strip=1']"
      ]
     },
     "execution_count": 131,
     "metadata": {},
     "output_type": "execute_result"
    }
   ],
   "source": [
    "url"
   ]
  },
  {
   "cell_type": "code",
   "execution_count": 132,
   "id": "1b5f7374",
   "metadata": {},
   "outputs": [
    {
     "data": {
      "text/plain": [
       "10"
      ]
     },
     "execution_count": 132,
     "metadata": {},
     "output_type": "execute_result"
    }
   ],
   "source": [
    "len(url)"
   ]
  },
  {
   "cell_type": "code",
   "execution_count": 145,
   "id": "e2b8e70c",
   "metadata": {},
   "outputs": [
    {
     "name": "stdout",
     "output_type": "stream",
     "text": [
      "Downloading 0 of 10 images\n",
      "Downloading 1 of 10 images\n",
      "Downloading 2 of 10 images\n",
      "Downloading 3 of 10 images\n",
      "Downloading 4 of 10 images\n",
      "Downloading 5 of 10 images\n",
      "Downloading 6 of 10 images\n",
      "Downloading 7 of 10 images\n",
      "Downloading 8 of 10 images\n",
      "Downloading 9 of 10 images\n"
     ]
    }
   ],
   "source": [
    "for i in range(len(url)):\n",
    "    if i > 10:\n",
    "        break\n",
    "    print(\"Downloading {0} of {1} images\".format(i,10))\n",
    "    response = requests.get(url[i])\n",
    "    file = open(r\"C:\\Users\\shail\\Downloads\\l\" + str(i)+\".jpg\",\"wb\")\n",
    "    file.write(response.content)\n",
    "    \n"
   ]
  },
  {
   "cell_type": "code",
   "execution_count": 148,
   "id": "cb24fe03",
   "metadata": {},
   "outputs": [
    {
     "data": {
      "text/html": [
       "<div>\n",
       "<style scoped>\n",
       "    .dataframe tbody tr th:only-of-type {\n",
       "        vertical-align: middle;\n",
       "    }\n",
       "\n",
       "    .dataframe tbody tr th {\n",
       "        vertical-align: top;\n",
       "    }\n",
       "\n",
       "    .dataframe thead th {\n",
       "        text-align: right;\n",
       "    }\n",
       "</style>\n",
       "<table border=\"1\" class=\"dataframe\">\n",
       "  <thead>\n",
       "    <tr style=\"text-align: right;\">\n",
       "      <th></th>\n",
       "      <th>Fruits_Images_URL</th>\n",
       "    </tr>\n",
       "  </thead>\n",
       "  <tbody>\n",
       "    <tr>\n",
       "      <th>0</th>\n",
       "      <td>https://hips.hearstapps.com/hmg-prod.s3.amazon...</td>\n",
       "    </tr>\n",
       "    <tr>\n",
       "      <th>1</th>\n",
       "      <td>https://upload.wikimedia.org/wikipedia/commons...</td>\n",
       "    </tr>\n",
       "    <tr>\n",
       "      <th>2</th>\n",
       "      <td>https://i.pinimg.com/originals/c2/2e/32/c22e32...</td>\n",
       "    </tr>\n",
       "    <tr>\n",
       "      <th>3</th>\n",
       "      <td>https://www.healthyeating.org/images/default-s...</td>\n",
       "    </tr>\n",
       "    <tr>\n",
       "      <th>4</th>\n",
       "      <td>https://i0.wp.com/onlymyenglish.com/wp-content...</td>\n",
       "    </tr>\n",
       "    <tr>\n",
       "      <th>5</th>\n",
       "      <td>https://images-na.ssl-images-amazon.com/images...</td>\n",
       "    </tr>\n",
       "    <tr>\n",
       "      <th>6</th>\n",
       "      <td>https://img.freepik.com/free-vector/flat-fruit...</td>\n",
       "    </tr>\n",
       "    <tr>\n",
       "      <th>7</th>\n",
       "      <td>https://media.cntraveler.com/photos/546976f2cb...</td>\n",
       "    </tr>\n",
       "    <tr>\n",
       "      <th>8</th>\n",
       "      <td>https://www.vocabulary.cl/pictures/fruit-in-en...</td>\n",
       "    </tr>\n",
       "    <tr>\n",
       "      <th>9</th>\n",
       "      <td>https://www.eatthis.com/wp-content/uploads/sit...</td>\n",
       "    </tr>\n",
       "  </tbody>\n",
       "</table>\n",
       "</div>"
      ],
      "text/plain": [
       "                                   Fruits_Images_URL\n",
       "0  https://hips.hearstapps.com/hmg-prod.s3.amazon...\n",
       "1  https://upload.wikimedia.org/wikipedia/commons...\n",
       "2  https://i.pinimg.com/originals/c2/2e/32/c22e32...\n",
       "3  https://www.healthyeating.org/images/default-s...\n",
       "4  https://i0.wp.com/onlymyenglish.com/wp-content...\n",
       "5  https://images-na.ssl-images-amazon.com/images...\n",
       "6  https://img.freepik.com/free-vector/flat-fruit...\n",
       "7  https://media.cntraveler.com/photos/546976f2cb...\n",
       "8  https://www.vocabulary.cl/pictures/fruit-in-en...\n",
       "9  https://www.eatthis.com/wp-content/uploads/sit..."
      ]
     },
     "execution_count": 148,
     "metadata": {},
     "output_type": "execute_result"
    }
   ],
   "source": [
    "df = pd.DataFrame({'Fruits_Images_URL':url})\n",
    "df"
   ]
  }
 ],
 "metadata": {
  "kernelspec": {
   "display_name": "Python 3 (ipykernel)",
   "language": "python",
   "name": "python3"
  },
  "language_info": {
   "codemirror_mode": {
    "name": "ipython",
    "version": 3
   },
   "file_extension": ".py",
   "mimetype": "text/x-python",
   "name": "python",
   "nbconvert_exporter": "python",
   "pygments_lexer": "ipython3",
   "version": "3.9.7"
  }
 },
 "nbformat": 4,
 "nbformat_minor": 5
}
