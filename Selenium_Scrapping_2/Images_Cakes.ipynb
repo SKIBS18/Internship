{
 "cells": [
  {
   "cell_type": "code",
   "execution_count": 1,
   "id": "0722f565",
   "metadata": {},
   "outputs": [],
   "source": [
    "from selenium import webdriver"
   ]
  },
  {
   "cell_type": "code",
   "execution_count": 2,
   "id": "88932040",
   "metadata": {},
   "outputs": [],
   "source": [
    "import time\n",
    "from time import sleep"
   ]
  },
  {
   "cell_type": "code",
   "execution_count": 3,
   "id": "cca0db2c",
   "metadata": {},
   "outputs": [],
   "source": [
    "from selenium.webdriver.common.by import By\n",
    "import pandas as pd\n",
    "import warnings\n",
    "warnings.filterwarnings('ignore')"
   ]
  },
  {
   "cell_type": "code",
   "execution_count": 4,
   "id": "39c88d0a",
   "metadata": {},
   "outputs": [],
   "source": [
    "from bs4 import BeautifulSoup\n",
    "import requests"
   ]
  },
  {
   "cell_type": "code",
   "execution_count": 5,
   "id": "51e4344b",
   "metadata": {},
   "outputs": [],
   "source": [
    "driver = webdriver.Chrome(r'C:\\Users\\shail\\Downloads\\chromedriver_win32\\chromedriver.exe')"
   ]
  },
  {
   "cell_type": "code",
   "execution_count": 6,
   "id": "f8930182",
   "metadata": {},
   "outputs": [],
   "source": [
    "url = 'https://images.google.com/'\n",
    "driver.get(url)"
   ]
  },
  {
   "cell_type": "code",
   "execution_count": 7,
   "id": "9c76834b",
   "metadata": {},
   "outputs": [
    {
     "data": {
      "text/plain": [
       "<selenium.webdriver.remote.webelement.WebElement (session=\"13e7612e6b60ad5e6d1d09f3a87f33db\", element=\"0fd45392-1cf3-4871-baaa-5dee1d0e1279\")>"
      ]
     },
     "execution_count": 7,
     "metadata": {},
     "output_type": "execute_result"
    }
   ],
   "source": [
    "search_img = driver.find_element(By.XPATH,\"/html/body/div[1]/div[3]/form/div[1]/div[1]/div[1]/div/div[2]/input\")\n",
    "search_img"
   ]
  },
  {
   "cell_type": "code",
   "execution_count": 8,
   "id": "24aff977",
   "metadata": {},
   "outputs": [],
   "source": [
    "search_img.send_keys('Cakes')"
   ]
  },
  {
   "cell_type": "code",
   "execution_count": 9,
   "id": "97f73478",
   "metadata": {},
   "outputs": [
    {
     "data": {
      "text/plain": [
       "<selenium.webdriver.remote.webelement.WebElement (session=\"13e7612e6b60ad5e6d1d09f3a87f33db\", element=\"37079231-ebb7-4504-9b53-316036ebdb4b\")>"
      ]
     },
     "execution_count": 9,
     "metadata": {},
     "output_type": "execute_result"
    }
   ],
   "source": [
    "search_btn = driver.find_element(By.XPATH,\"/html/body/div[1]/div[3]/form/div[1]/div[1]/div[1]/button/div/span\")\n",
    "search_btn"
   ]
  },
  {
   "cell_type": "code",
   "execution_count": 10,
   "id": "4bbb6211",
   "metadata": {},
   "outputs": [],
   "source": [
    "search_btn.click()"
   ]
  },
  {
   "cell_type": "code",
   "execution_count": 12,
   "id": "a6cf9995",
   "metadata": {},
   "outputs": [
    {
     "data": {
      "text/plain": [
       "400"
      ]
     },
     "execution_count": 12,
     "metadata": {},
     "output_type": "execute_result"
    }
   ],
   "source": [
    "total_cakes = driver.find_elements(By.XPATH,'//div[@class=\"isv-r PNCib MSM1fd BUooTd\"]')\n",
    "len(total_cakes)"
   ]
  },
  {
   "cell_type": "code",
   "execution_count": 13,
   "id": "89d28e2b",
   "metadata": {},
   "outputs": [],
   "source": [
    "url = []\n",
    "for i in range(1,12):\n",
    "    xpath = \"//*[@id='islrg']/div[1]/div[%s]\"%(i)\n",
    "    driver.find_element(By.XPATH,xpath).click()\n",
    "    sleep(5)\n",
    "    imageElement = driver.find_element(By.XPATH,'//*[@id=\"Sva75c\"]/div/div/div[3]/div[2]/c-wiz/div/div[1]/div[1]/div[3]/div/a/img')\n",
    "    source = imageElement.get_attribute('src')\n",
    "    if source is not None:\n",
    "        if(source[0:4] == 'http'):\n",
    "            url.append(source)     "
   ]
  },
  {
   "cell_type": "code",
   "execution_count": 14,
   "id": "2e94644a",
   "metadata": {},
   "outputs": [
    {
     "data": {
      "text/plain": [
       "['https://www.cakesandbakes.in/ban-low/ban04-h.png',\n",
       " 'https://cdn.shopify.com/s/files/1/0362/1653/articles/Birthday_Cake_Square_5_1600x.jpg?v=1566642810',\n",
       " 'https://media-cdn.tripadvisor.com/media/photo-s/0d/f3/f0/f2/one-of-the-cake.jpg',\n",
       " 'https://assets.telegraphindia.com/telegraph/2021/Oct/1634133271_whatsapp-image-2021-10-13-at-7-19-01-pm.jpeg',\n",
       " 'https://res.cloudinary.com/swiggy/image/upload/fl_lossy,f_auto,q_auto,w_508,h_320,c_fill/uqkodgi6xiudok0yynj4',\n",
       " 'https://www.tasteofhome.com/wp-content/uploads/2018/05/Unicorn-Cake_EXPS_HCA18_223966_D02_22_2b-1.jpg',\n",
       " 'https://media.bakingo.com/sq-choco-cherry-black-forest-cake-cake2159blac-A_0.jpg?tr=h-320,w-320',\n",
       " 'https://media-cdn.tripadvisor.com/media/photo-s/0b/21/ed/07/cakes.jpg',\n",
       " 'https://cakewhiz.com/wp-content/uploads/2020/02/Kids-Chocolate-Birthday-Cake-Recipe.jpg',\n",
       " 'https://www.kalpaflorist.com/wp-content/uploads/2019/08/Best-Online-Cake-Delivery-in-Kolkata.png',\n",
       " 'https://5.imimg.com/data5/NI/IH/QU/ANDROID-90366522/img-20190619-153251-jpg-500x500.jpg']"
      ]
     },
     "execution_count": 14,
     "metadata": {},
     "output_type": "execute_result"
    }
   ],
   "source": [
    "url"
   ]
  },
  {
   "cell_type": "code",
   "execution_count": 15,
   "id": "15e80ad7",
   "metadata": {},
   "outputs": [],
   "source": [
    "l = url[0:10]"
   ]
  },
  {
   "cell_type": "code",
   "execution_count": 16,
   "id": "72491b55",
   "metadata": {},
   "outputs": [
    {
     "name": "stdout",
     "output_type": "stream",
     "text": [
      "Downloading 0 of 10 images\n",
      "Downloading 1 of 10 images\n",
      "Downloading 2 of 10 images\n",
      "Downloading 3 of 10 images\n",
      "Downloading 4 of 10 images\n",
      "Downloading 5 of 10 images\n",
      "Downloading 6 of 10 images\n",
      "Downloading 7 of 10 images\n",
      "Downloading 8 of 10 images\n",
      "Downloading 9 of 10 images\n"
     ]
    }
   ],
   "source": [
    "for p in range(len(l)):\n",
    "    if p > 10:\n",
    "        break\n",
    "    print(\"Downloading {0} of {1} images\".format(p,10))\n",
    "    response = requests.get(l[p])\n",
    "    file = open(r\"C:\\Users\\shail\\Downloads\\cakes\" + str(p)+\".jpg\",\"wb\")\n",
    "    file.write(response.content)"
   ]
  },
  {
   "cell_type": "code",
   "execution_count": 17,
   "id": "c1170c12",
   "metadata": {},
   "outputs": [
    {
     "data": {
      "text/html": [
       "<div>\n",
       "<style scoped>\n",
       "    .dataframe tbody tr th:only-of-type {\n",
       "        vertical-align: middle;\n",
       "    }\n",
       "\n",
       "    .dataframe tbody tr th {\n",
       "        vertical-align: top;\n",
       "    }\n",
       "\n",
       "    .dataframe thead th {\n",
       "        text-align: right;\n",
       "    }\n",
       "</style>\n",
       "<table border=\"1\" class=\"dataframe\">\n",
       "  <thead>\n",
       "    <tr style=\"text-align: right;\">\n",
       "      <th></th>\n",
       "      <th>Cakes_URL</th>\n",
       "    </tr>\n",
       "  </thead>\n",
       "  <tbody>\n",
       "    <tr>\n",
       "      <th>0</th>\n",
       "      <td>https://www.cakesandbakes.in/ban-low/ban04-h.png</td>\n",
       "    </tr>\n",
       "    <tr>\n",
       "      <th>1</th>\n",
       "      <td>https://cdn.shopify.com/s/files/1/0362/1653/ar...</td>\n",
       "    </tr>\n",
       "    <tr>\n",
       "      <th>2</th>\n",
       "      <td>https://media-cdn.tripadvisor.com/media/photo-...</td>\n",
       "    </tr>\n",
       "    <tr>\n",
       "      <th>3</th>\n",
       "      <td>https://assets.telegraphindia.com/telegraph/20...</td>\n",
       "    </tr>\n",
       "    <tr>\n",
       "      <th>4</th>\n",
       "      <td>https://res.cloudinary.com/swiggy/image/upload...</td>\n",
       "    </tr>\n",
       "    <tr>\n",
       "      <th>5</th>\n",
       "      <td>https://www.tasteofhome.com/wp-content/uploads...</td>\n",
       "    </tr>\n",
       "    <tr>\n",
       "      <th>6</th>\n",
       "      <td>https://media.bakingo.com/sq-choco-cherry-blac...</td>\n",
       "    </tr>\n",
       "    <tr>\n",
       "      <th>7</th>\n",
       "      <td>https://media-cdn.tripadvisor.com/media/photo-...</td>\n",
       "    </tr>\n",
       "    <tr>\n",
       "      <th>8</th>\n",
       "      <td>https://cakewhiz.com/wp-content/uploads/2020/0...</td>\n",
       "    </tr>\n",
       "    <tr>\n",
       "      <th>9</th>\n",
       "      <td>https://www.kalpaflorist.com/wp-content/upload...</td>\n",
       "    </tr>\n",
       "  </tbody>\n",
       "</table>\n",
       "</div>"
      ],
      "text/plain": [
       "                                           Cakes_URL\n",
       "0   https://www.cakesandbakes.in/ban-low/ban04-h.png\n",
       "1  https://cdn.shopify.com/s/files/1/0362/1653/ar...\n",
       "2  https://media-cdn.tripadvisor.com/media/photo-...\n",
       "3  https://assets.telegraphindia.com/telegraph/20...\n",
       "4  https://res.cloudinary.com/swiggy/image/upload...\n",
       "5  https://www.tasteofhome.com/wp-content/uploads...\n",
       "6  https://media.bakingo.com/sq-choco-cherry-blac...\n",
       "7  https://media-cdn.tripadvisor.com/media/photo-...\n",
       "8  https://cakewhiz.com/wp-content/uploads/2020/0...\n",
       "9  https://www.kalpaflorist.com/wp-content/upload..."
      ]
     },
     "execution_count": 17,
     "metadata": {},
     "output_type": "execute_result"
    }
   ],
   "source": [
    "df = pd.DataFrame({'Cakes_URL':l})\n",
    "df"
   ]
  },
  {
   "cell_type": "code",
   "execution_count": null,
   "id": "81c4a18e",
   "metadata": {},
   "outputs": [],
   "source": []
  }
 ],
 "metadata": {
  "kernelspec": {
   "display_name": "Python 3 (ipykernel)",
   "language": "python",
   "name": "python3"
  },
  "language_info": {
   "codemirror_mode": {
    "name": "ipython",
    "version": 3
   },
   "file_extension": ".py",
   "mimetype": "text/x-python",
   "name": "python",
   "nbconvert_exporter": "python",
   "pygments_lexer": "ipython3",
   "version": "3.9.7"
  }
 },
 "nbformat": 4,
 "nbformat_minor": 5
}
