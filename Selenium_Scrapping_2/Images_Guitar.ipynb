{
 "cells": [
  {
   "cell_type": "code",
   "execution_count": 23,
   "id": "804bbe77",
   "metadata": {},
   "outputs": [],
   "source": [
    "from selenium import webdriver"
   ]
  },
  {
   "cell_type": "code",
   "execution_count": 24,
   "id": "964f2743",
   "metadata": {},
   "outputs": [],
   "source": [
    "import time"
   ]
  },
  {
   "cell_type": "code",
   "execution_count": 25,
   "id": "2dfccffa",
   "metadata": {},
   "outputs": [],
   "source": [
    "from time import sleep"
   ]
  },
  {
   "cell_type": "code",
   "execution_count": 26,
   "id": "e8df2d13",
   "metadata": {},
   "outputs": [],
   "source": [
    "from selenium.webdriver.common.by import By\n",
    "import pandas as pd\n",
    "import warnings\n",
    "warnings.filterwarnings('ignore')"
   ]
  },
  {
   "cell_type": "code",
   "execution_count": 27,
   "id": "03cc8b77",
   "metadata": {},
   "outputs": [],
   "source": [
    "from bs4 import BeautifulSoup\n",
    "import requests"
   ]
  },
  {
   "cell_type": "code",
   "execution_count": 28,
   "id": "c1f05507",
   "metadata": {},
   "outputs": [],
   "source": [
    "driver = webdriver.Chrome(r'C:\\Users\\shail\\Downloads\\chromedriver_win32\\chromedriver.exe')"
   ]
  },
  {
   "cell_type": "code",
   "execution_count": 29,
   "id": "c5ec929c",
   "metadata": {},
   "outputs": [],
   "source": [
    "url = 'https://images.google.com/'\n",
    "driver.get(url)"
   ]
  },
  {
   "cell_type": "code",
   "execution_count": 30,
   "id": "0d6c3da9",
   "metadata": {},
   "outputs": [
    {
     "data": {
      "text/plain": [
       "<selenium.webdriver.remote.webelement.WebElement (session=\"fc91b57fe07976c1913526737c9b33d8\", element=\"b34e31a7-b4ca-4954-813a-ab29ba45022d\")>"
      ]
     },
     "execution_count": 30,
     "metadata": {},
     "output_type": "execute_result"
    }
   ],
   "source": [
    "search_img = driver.find_element(By.XPATH,\"/html/body/div[1]/div[3]/form/div[1]/div[1]/div[1]/div/div[2]/input\")\n",
    "search_img"
   ]
  },
  {
   "cell_type": "code",
   "execution_count": 31,
   "id": "cd53cc49",
   "metadata": {},
   "outputs": [],
   "source": [
    "search_img.send_keys('Guitar')"
   ]
  },
  {
   "cell_type": "code",
   "execution_count": 32,
   "id": "e0c84037",
   "metadata": {},
   "outputs": [
    {
     "data": {
      "text/plain": [
       "<selenium.webdriver.remote.webelement.WebElement (session=\"fc91b57fe07976c1913526737c9b33d8\", element=\"34398800-4873-4c2b-a451-e426f0166776\")>"
      ]
     },
     "execution_count": 32,
     "metadata": {},
     "output_type": "execute_result"
    }
   ],
   "source": [
    "search_btn = driver.find_element(By.XPATH,\"/html/body/div[1]/div[3]/form/div[1]/div[1]/div[1]/button/div/span\")\n",
    "search_btn"
   ]
  },
  {
   "cell_type": "code",
   "execution_count": 33,
   "id": "c08caabe",
   "metadata": {},
   "outputs": [],
   "source": [
    "search_btn.click()"
   ]
  },
  {
   "cell_type": "code",
   "execution_count": 34,
   "id": "437a3780",
   "metadata": {},
   "outputs": [],
   "source": [
    "total_g = driver.find_elements(By.XPATH,'//div[@class=\"isv-r PNCib MSM1fd BUooTd\"]')"
   ]
  },
  {
   "cell_type": "code",
   "execution_count": 35,
   "id": "c38075e1",
   "metadata": {},
   "outputs": [
    {
     "data": {
      "text/plain": [
       "48"
      ]
     },
     "execution_count": 35,
     "metadata": {},
     "output_type": "execute_result"
    }
   ],
   "source": [
    "len(total_g)"
   ]
  },
  {
   "cell_type": "code",
   "execution_count": 38,
   "id": "c5884b74",
   "metadata": {},
   "outputs": [],
   "source": [
    "url = []\n",
    "for i in range(1,20):\n",
    "    xpath = \"//*[@id='islrg']/div[1]/div[%s]\"%(i)\n",
    "    driver.find_element(By.XPATH,xpath).click()\n",
    "    sleep(5)\n",
    "    imageElement = driver.find_element(By.XPATH,'//*[@id=\"Sva75c\"]/div/div/div[3]/div[2]/c-wiz/div/div[1]/div[1]/div[3]/div/a/img')\n",
    "    source = imageElement.get_attribute('src')\n",
    "    if source is not None:\n",
    "        if(source[0:4] == 'http'):\n",
    "            url.append(source)     "
   ]
  },
  {
   "cell_type": "code",
   "execution_count": 39,
   "id": "d4244c03",
   "metadata": {},
   "outputs": [
    {
     "data": {
      "text/plain": [
       "['https://m.media-amazon.com/images/I/71cTeubzQOL._SY606_.jpg',\n",
       " 'https://upload.wikimedia.org/wikipedia/commons/4/45/GuitareClassique5.png',\n",
       " 'https://m.media-amazon.com/images/I/61+fz+3k-ZL._SL1280_.jpg',\n",
       " 'https://m.media-amazon.com/images/I/71nzdkpUcWL._SY879_.jpg',\n",
       " 'https://img.freepik.com/premium-vector/black-white-guitars-acoustic-strings-music-instruments-electric-rock-guitar-silhouette-stencil-guitars_102902-2185.jpg?w=2000',\n",
       " 'https://www.devmusicalindia.in/assets_c/1581492074166-Belear%20BL38C%20Blue%20Burst%20Couturier%20Series%20Acoustic%20Guitar.jpg',\n",
       " 'https://yamaha.ndcdn.in/media/catalog/product/cache/9e0f31af0cdc06df956748b13dabad87/f/s/fs80c-1.jpg',\n",
       " 'https://cdn.britannica.com/70/72170-050-5596BF4F/Features-of-a-modern-acoustic-guitar.jpg',\n",
       " 'https://rukminim1.flixcart.com/image/416/416/acoustic-guitar/x/8/w/topaz-blue-signature-original-imaefec7uhypjdr9.jpeg?q=70',\n",
       " 'https://images.unsplash.com/photo-1510915361894-db8b60106cb1?ixlib=rb-1.2.1&ixid=MnwxMjA3fDB8MHxzZWFyY2h8Mnx8Z3VpdGFyfGVufDB8fDB8fA%3D%3D&w=1000&q=80',\n",
       " 'https://5.imimg.com/data5/JM/QA/MY-8644468/guitar-500x500.jpg',\n",
       " 'https://img.freepik.com/free-vector/concert-guitar-set_74855-950.jpg?w=360',\n",
       " 'https://timesofindia.indiatimes.com/thumb/msid-90824056,imgsize-53356,width-400,resizemode-4/90824056.jpg',\n",
       " 'https://iheartcraftythings.com/wp-content/uploads/2021/04/Guitar-DRAWING-%E2%80%93-STEP-4.jpg',\n",
       " 'https://upload.wikimedia.org/wikipedia/commons/thumb/d/da/Acoustic_guitars_in_store_20180625.jpg/1200px-Acoustic_guitars_in_store_20180625.jpg',\n",
       " 'http://images.musicstore.de/images/1280/yamaha-c40-classical-guitar-_1_GIT0000636-000.jpg',\n",
       " 'https://www.yamaha.com/en/musical_instrument_guide/common/images/electric_guitar/parts_viewer01.jpg']"
      ]
     },
     "execution_count": 39,
     "metadata": {},
     "output_type": "execute_result"
    }
   ],
   "source": [
    "url"
   ]
  },
  {
   "cell_type": "code",
   "execution_count": 40,
   "id": "a389564f",
   "metadata": {},
   "outputs": [],
   "source": [
    "l = url[0:10]"
   ]
  },
  {
   "cell_type": "code",
   "execution_count": 41,
   "id": "ec18f910",
   "metadata": {},
   "outputs": [
    {
     "name": "stdout",
     "output_type": "stream",
     "text": [
      "Downloading 0 of 10 images\n",
      "Downloading 1 of 10 images\n",
      "Downloading 2 of 10 images\n",
      "Downloading 3 of 10 images\n",
      "Downloading 4 of 10 images\n",
      "Downloading 5 of 10 images\n",
      "Downloading 6 of 10 images\n",
      "Downloading 7 of 10 images\n",
      "Downloading 8 of 10 images\n",
      "Downloading 9 of 10 images\n"
     ]
    }
   ],
   "source": [
    "for p in range(len(l)):\n",
    "    if p > 10:\n",
    "        break\n",
    "    print(\"Downloading {0} of {1} images\".format(p,10))\n",
    "    response = requests.get(l[p])\n",
    "    file = open(r\"C:\\Users\\shail\\Downloads\\guitar\" + str(p)+\".jpg\",\"wb\")\n",
    "    file.write(response.content)"
   ]
  },
  {
   "cell_type": "code",
   "execution_count": 42,
   "id": "fea568f7",
   "metadata": {},
   "outputs": [
    {
     "data": {
      "text/html": [
       "<div>\n",
       "<style scoped>\n",
       "    .dataframe tbody tr th:only-of-type {\n",
       "        vertical-align: middle;\n",
       "    }\n",
       "\n",
       "    .dataframe tbody tr th {\n",
       "        vertical-align: top;\n",
       "    }\n",
       "\n",
       "    .dataframe thead th {\n",
       "        text-align: right;\n",
       "    }\n",
       "</style>\n",
       "<table border=\"1\" class=\"dataframe\">\n",
       "  <thead>\n",
       "    <tr style=\"text-align: right;\">\n",
       "      <th></th>\n",
       "      <th>Guitar_URL</th>\n",
       "    </tr>\n",
       "  </thead>\n",
       "  <tbody>\n",
       "    <tr>\n",
       "      <th>0</th>\n",
       "      <td>https://m.media-amazon.com/images/I/71cTeubzQO...</td>\n",
       "    </tr>\n",
       "    <tr>\n",
       "      <th>1</th>\n",
       "      <td>https://upload.wikimedia.org/wikipedia/commons...</td>\n",
       "    </tr>\n",
       "    <tr>\n",
       "      <th>2</th>\n",
       "      <td>https://m.media-amazon.com/images/I/61+fz+3k-Z...</td>\n",
       "    </tr>\n",
       "    <tr>\n",
       "      <th>3</th>\n",
       "      <td>https://m.media-amazon.com/images/I/71nzdkpUcW...</td>\n",
       "    </tr>\n",
       "    <tr>\n",
       "      <th>4</th>\n",
       "      <td>https://img.freepik.com/premium-vector/black-w...</td>\n",
       "    </tr>\n",
       "    <tr>\n",
       "      <th>5</th>\n",
       "      <td>https://www.devmusicalindia.in/assets_c/158149...</td>\n",
       "    </tr>\n",
       "    <tr>\n",
       "      <th>6</th>\n",
       "      <td>https://yamaha.ndcdn.in/media/catalog/product/...</td>\n",
       "    </tr>\n",
       "    <tr>\n",
       "      <th>7</th>\n",
       "      <td>https://cdn.britannica.com/70/72170-050-5596BF...</td>\n",
       "    </tr>\n",
       "    <tr>\n",
       "      <th>8</th>\n",
       "      <td>https://rukminim1.flixcart.com/image/416/416/a...</td>\n",
       "    </tr>\n",
       "    <tr>\n",
       "      <th>9</th>\n",
       "      <td>https://images.unsplash.com/photo-151091536189...</td>\n",
       "    </tr>\n",
       "    <tr>\n",
       "      <th>10</th>\n",
       "      <td>https://5.imimg.com/data5/JM/QA/MY-8644468/gui...</td>\n",
       "    </tr>\n",
       "    <tr>\n",
       "      <th>11</th>\n",
       "      <td>https://img.freepik.com/free-vector/concert-gu...</td>\n",
       "    </tr>\n",
       "    <tr>\n",
       "      <th>12</th>\n",
       "      <td>https://timesofindia.indiatimes.com/thumb/msid...</td>\n",
       "    </tr>\n",
       "    <tr>\n",
       "      <th>13</th>\n",
       "      <td>https://iheartcraftythings.com/wp-content/uplo...</td>\n",
       "    </tr>\n",
       "    <tr>\n",
       "      <th>14</th>\n",
       "      <td>https://upload.wikimedia.org/wikipedia/commons...</td>\n",
       "    </tr>\n",
       "    <tr>\n",
       "      <th>15</th>\n",
       "      <td>http://images.musicstore.de/images/1280/yamaha...</td>\n",
       "    </tr>\n",
       "    <tr>\n",
       "      <th>16</th>\n",
       "      <td>https://www.yamaha.com/en/musical_instrument_g...</td>\n",
       "    </tr>\n",
       "  </tbody>\n",
       "</table>\n",
       "</div>"
      ],
      "text/plain": [
       "                                           Guitar_URL\n",
       "0   https://m.media-amazon.com/images/I/71cTeubzQO...\n",
       "1   https://upload.wikimedia.org/wikipedia/commons...\n",
       "2   https://m.media-amazon.com/images/I/61+fz+3k-Z...\n",
       "3   https://m.media-amazon.com/images/I/71nzdkpUcW...\n",
       "4   https://img.freepik.com/premium-vector/black-w...\n",
       "5   https://www.devmusicalindia.in/assets_c/158149...\n",
       "6   https://yamaha.ndcdn.in/media/catalog/product/...\n",
       "7   https://cdn.britannica.com/70/72170-050-5596BF...\n",
       "8   https://rukminim1.flixcart.com/image/416/416/a...\n",
       "9   https://images.unsplash.com/photo-151091536189...\n",
       "10  https://5.imimg.com/data5/JM/QA/MY-8644468/gui...\n",
       "11  https://img.freepik.com/free-vector/concert-gu...\n",
       "12  https://timesofindia.indiatimes.com/thumb/msid...\n",
       "13  https://iheartcraftythings.com/wp-content/uplo...\n",
       "14  https://upload.wikimedia.org/wikipedia/commons...\n",
       "15  http://images.musicstore.de/images/1280/yamaha...\n",
       "16  https://www.yamaha.com/en/musical_instrument_g..."
      ]
     },
     "execution_count": 42,
     "metadata": {},
     "output_type": "execute_result"
    }
   ],
   "source": [
    "df = pd.DataFrame({'Guitar_URL':url})\n",
    "df"
   ]
  },
  {
   "cell_type": "code",
   "execution_count": null,
   "id": "e52d784f",
   "metadata": {},
   "outputs": [],
   "source": []
  }
 ],
 "metadata": {
  "kernelspec": {
   "display_name": "Python 3 (ipykernel)",
   "language": "python",
   "name": "python3"
  },
  "language_info": {
   "codemirror_mode": {
    "name": "ipython",
    "version": 3
   },
   "file_extension": ".py",
   "mimetype": "text/x-python",
   "name": "python",
   "nbconvert_exporter": "python",
   "pygments_lexer": "ipython3",
   "version": "3.9.7"
  }
 },
 "nbformat": 4,
 "nbformat_minor": 5
}
