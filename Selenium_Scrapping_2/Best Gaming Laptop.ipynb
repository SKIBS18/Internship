{
 "cells": [
  {
   "cell_type": "code",
   "execution_count": 1,
   "id": "6ee900d7",
   "metadata": {},
   "outputs": [],
   "source": [
    "from selenium import webdriver"
   ]
  },
  {
   "cell_type": "code",
   "execution_count": 2,
   "id": "7da56220",
   "metadata": {},
   "outputs": [],
   "source": [
    "from selenium.webdriver.common.by import By\n",
    "import pandas as pd\n",
    "import warnings\n",
    "warnings.filterwarnings('ignore')"
   ]
  },
  {
   "cell_type": "code",
   "execution_count": 3,
   "id": "3e83c0b8",
   "metadata": {},
   "outputs": [],
   "source": [
    "from time import sleep"
   ]
  },
  {
   "cell_type": "code",
   "execution_count": 4,
   "id": "ec707810",
   "metadata": {},
   "outputs": [],
   "source": [
    "from selenium.common.exceptions import NoSuchElementException"
   ]
  },
  {
   "cell_type": "code",
   "execution_count": 5,
   "id": "f44e80c3",
   "metadata": {},
   "outputs": [],
   "source": [
    "driver = webdriver.Chrome(r'C:\\Users\\shail\\Downloads\\chromedriver_win32\\chromedriver.exe')"
   ]
  },
  {
   "cell_type": "code",
   "execution_count": 6,
   "id": "724be238",
   "metadata": {},
   "outputs": [],
   "source": [
    "url = 'https://www.digit.in/top-products/best-gaming-laptops-40.html'\n",
    "driver.get(url)"
   ]
  },
  {
   "cell_type": "code",
   "execution_count": 7,
   "id": "4d5fe745",
   "metadata": {},
   "outputs": [],
   "source": [
    "name = []\n",
    "for i in range(1,11):\n",
    "    xpath = \"//*[@id='summtable']/tbody/tr[%s]/td[1]\"%(i)\n",
    "    n = driver.find_element(By.XPATH,xpath).text\n",
    "    name.append(n)"
   ]
  },
  {
   "cell_type": "code",
   "execution_count": 8,
   "id": "cbefaefd",
   "metadata": {
    "scrolled": true
   },
   "outputs": [
    {
     "data": {
      "text/plain": [
       "['MSI Titan GT77-12UHS',\n",
       " 'Alienware x17 R2',\n",
       " 'Acer Predator Triton 500 SE PT516-52s',\n",
       " 'Omen by HP (16-B1371TX)',\n",
       " 'Acer Predator Helios 300 AN515-45 (NH.QBRSI.0',\n",
       " 'MSI Delta 15 (A5EFK-083IN)',\n",
       " 'Omen by HP (16-c0141AX)',\n",
       " 'Lenovo Legion 5i Pro (82RF00MGIN)',\n",
       " 'Alienware m15 R5 Ryzen Edition icc-c780001win',\n",
       " 'Lenovo Slim 7 Gen 6 (82K8002JIN)']"
      ]
     },
     "execution_count": 8,
     "metadata": {},
     "output_type": "execute_result"
    }
   ],
   "source": [
    "name"
   ]
  },
  {
   "cell_type": "code",
   "execution_count": 9,
   "id": "070d58d9",
   "metadata": {},
   "outputs": [],
   "source": [
    "seller = []\n",
    "sel = driver.find_elements(By.XPATH,'//td[@class=\"smmerchant\"]')\n",
    "for b in sel:\n",
    "    seller.append(b.text)        "
   ]
  },
  {
   "cell_type": "code",
   "execution_count": 10,
   "id": "e9b884db",
   "metadata": {},
   "outputs": [
    {
     "data": {
      "text/plain": [
       "['N/A',\n",
       " 'Dell',\n",
       " 'N/A',\n",
       " 'Amazon',\n",
       " 'N/A',\n",
       " 'N/A',\n",
       " 'Amazon',\n",
       " 'N/A',\n",
       " 'Amazon',\n",
       " 'Croma']"
      ]
     },
     "execution_count": 10,
     "metadata": {},
     "output_type": "execute_result"
    }
   ],
   "source": [
    "seller"
   ]
  },
  {
   "cell_type": "code",
   "execution_count": 11,
   "id": "bcdfc5e3",
   "metadata": {},
   "outputs": [],
   "source": [
    "price = []\n",
    "prc = driver.find_elements(By.XPATH,'//td[@class=\"smprice\"]')\n",
    "for c in prc:\n",
    "    price.append(c.text)"
   ]
  },
  {
   "cell_type": "code",
   "execution_count": 12,
   "id": "c6c10d68",
   "metadata": {},
   "outputs": [
    {
     "data": {
      "text/plain": [
       "['N/A',\n",
       " '₹ 389,990',\n",
       " '₹ 300,000',\n",
       " '₹ 196,000',\n",
       " '₹ 172,999',\n",
       " '₹ 188,990',\n",
       " '₹ 129,899',\n",
       " '₹ 230,890',\n",
       " '₹ 140,999',\n",
       " '₹ 135,490']"
      ]
     },
     "execution_count": 12,
     "metadata": {},
     "output_type": "execute_result"
    }
   ],
   "source": [
    "price"
   ]
  },
  {
   "cell_type": "code",
   "execution_count": 20,
   "id": "16981d8b",
   "metadata": {},
   "outputs": [],
   "source": [
    "all_details = []\n",
    "details = driver.find_elements(By.XPATH,'//div[@class=\"value\"]')\n",
    "for g in details:\n",
    "    all_details.append(g.text)"
   ]
  },
  {
   "cell_type": "code",
   "execution_count": 21,
   "id": "b3380609",
   "metadata": {},
   "outputs": [
    {
     "data": {
      "text/plain": [
       "['WINDOWS 11 HOME OS',\n",
       " '17.3\" (3840 X 2160) DISPLAY',\n",
       " '12TH GEN INTEL CORE I9-12900HX | NA PROCESSOR',\n",
       " '2 TB SSD/64 GB DDR5 MEMORY',\n",
       " 'WINDOWS 11 HOME OS',\n",
       " '17.3\" (1920X1080) DISPLAY',\n",
       " '12TH GEN INTEL CORE I9-12900HK | 5.00 GHZ PROCESSOR',\n",
       " '1 TB SSD/32 GB DDR5 MEMORY',\n",
       " 'WINDOWS 11 HOME OS',\n",
       " '16\" (2560 X 1600) DISPLAY',\n",
       " '12TH GEN INTEL CORE I7-12700H | 3.50 GHZ PROCESSOR',\n",
       " '2 TB SSD/32 GB DDR5 MEMORY',\n",
       " 'WINDOWS 11 HOME OS',\n",
       " '16.1\" (2560 X 1440) DISPLAY',\n",
       " '12TH GEN INTEL CORE I7-12700H | 4.7 GHZ PROCESSOR',\n",
       " '1 TB SSD/8 GB DDR5 MEMORY',\n",
       " 'WINDOWS 11 HOME OS',\n",
       " '15.6\" (2560 X 1440) DISPLAY',\n",
       " 'AMD RYZEN 9-5900HX | NA PROCESSOR',\n",
       " '512 GB SSD/16 GB DDR4 MEMORY',\n",
       " 'WINDOWS 11 HOME OS',\n",
       " '15.6\" (1920 X 1080) DISPLAY',\n",
       " 'AMD 5TH GEN RYZEN 9-5900HX | 3.3GHZ PROCESSOR',\n",
       " '1 TB SSD/16 GB DDR4 MEMORY',\n",
       " 'WINDOWS 11 HOME OS',\n",
       " '16.1\" (2560 X 1440) DISPLAY',\n",
       " 'AMD RYZEN™ 9 5900HX | 3.3 GHZ PROCESSOR',\n",
       " '1 TB NVME/16 GB DDR4 MEMORY',\n",
       " 'WINDOWS 11 HOME OS',\n",
       " '16\" (2560 X 1600) DISPLAY',\n",
       " '12TH GEN INTEL CORE I7-12700H | 3.50 GHZ PROCESSOR',\n",
       " '1 TB SSD/16 GB DDR5 MEMORY',\n",
       " 'WINDOWS 11 HOME OS',\n",
       " '15.6\" (1920 X 1080) DISPLAY',\n",
       " 'AMD RYZEN R7-5800H | 4.40 GHZ PROCESSOR',\n",
       " '512 GB SSD/16 GB DDR4 MEMORY',\n",
       " 'WINDOWS 11 HOME OS',\n",
       " '15.6 MP | NA DISPLAY',\n",
       " 'LENOVO RYZEN 7-5800H | 3.2 GHZ PROCESSOR',\n",
       " '1 TB SSD/16 GB DDR4 MEMORY']"
      ]
     },
     "execution_count": 21,
     "metadata": {},
     "output_type": "execute_result"
    }
   ],
   "source": [
    "all_details"
   ]
  },
  {
   "cell_type": "code",
   "execution_count": 22,
   "id": "a43c6fb2",
   "metadata": {},
   "outputs": [],
   "source": [
    "os = all_details[0::4]"
   ]
  },
  {
   "cell_type": "code",
   "execution_count": 23,
   "id": "954e7321",
   "metadata": {},
   "outputs": [
    {
     "data": {
      "text/plain": [
       "['WINDOWS 11 HOME OS',\n",
       " 'WINDOWS 11 HOME OS',\n",
       " 'WINDOWS 11 HOME OS',\n",
       " 'WINDOWS 11 HOME OS',\n",
       " 'WINDOWS 11 HOME OS',\n",
       " 'WINDOWS 11 HOME OS',\n",
       " 'WINDOWS 11 HOME OS',\n",
       " 'WINDOWS 11 HOME OS',\n",
       " 'WINDOWS 11 HOME OS',\n",
       " 'WINDOWS 11 HOME OS']"
      ]
     },
     "execution_count": 23,
     "metadata": {},
     "output_type": "execute_result"
    }
   ],
   "source": [
    "os"
   ]
  },
  {
   "cell_type": "code",
   "execution_count": 24,
   "id": "23ab9a2c",
   "metadata": {},
   "outputs": [],
   "source": [
    "processor = all_details[2::4]"
   ]
  },
  {
   "cell_type": "code",
   "execution_count": 25,
   "id": "1019c1e7",
   "metadata": {},
   "outputs": [
    {
     "data": {
      "text/plain": [
       "['12TH GEN INTEL CORE I9-12900HX | NA PROCESSOR',\n",
       " '12TH GEN INTEL CORE I9-12900HK | 5.00 GHZ PROCESSOR',\n",
       " '12TH GEN INTEL CORE I7-12700H | 3.50 GHZ PROCESSOR',\n",
       " '12TH GEN INTEL CORE I7-12700H | 4.7 GHZ PROCESSOR',\n",
       " 'AMD RYZEN 9-5900HX | NA PROCESSOR',\n",
       " 'AMD 5TH GEN RYZEN 9-5900HX | 3.3GHZ PROCESSOR',\n",
       " 'AMD RYZEN™ 9 5900HX | 3.3 GHZ PROCESSOR',\n",
       " '12TH GEN INTEL CORE I7-12700H | 3.50 GHZ PROCESSOR',\n",
       " 'AMD RYZEN R7-5800H | 4.40 GHZ PROCESSOR',\n",
       " 'LENOVO RYZEN 7-5800H | 3.2 GHZ PROCESSOR']"
      ]
     },
     "execution_count": 25,
     "metadata": {},
     "output_type": "execute_result"
    }
   ],
   "source": [
    "processor"
   ]
  },
  {
   "cell_type": "code",
   "execution_count": 26,
   "id": "34a3d446",
   "metadata": {},
   "outputs": [],
   "source": [
    "display = all_details[1::4]"
   ]
  },
  {
   "cell_type": "code",
   "execution_count": 27,
   "id": "1f6857f2",
   "metadata": {},
   "outputs": [
    {
     "data": {
      "text/plain": [
       "['17.3\" (3840 X 2160) DISPLAY',\n",
       " '17.3\" (1920X1080) DISPLAY',\n",
       " '16\" (2560 X 1600) DISPLAY',\n",
       " '16.1\" (2560 X 1440) DISPLAY',\n",
       " '15.6\" (2560 X 1440) DISPLAY',\n",
       " '15.6\" (1920 X 1080) DISPLAY',\n",
       " '16.1\" (2560 X 1440) DISPLAY',\n",
       " '16\" (2560 X 1600) DISPLAY',\n",
       " '15.6\" (1920 X 1080) DISPLAY',\n",
       " '15.6 MP | NA DISPLAY']"
      ]
     },
     "execution_count": 27,
     "metadata": {},
     "output_type": "execute_result"
    }
   ],
   "source": [
    "display"
   ]
  },
  {
   "cell_type": "code",
   "execution_count": 29,
   "id": "aff32c46",
   "metadata": {},
   "outputs": [],
   "source": [
    "memory = all_details[3::4]"
   ]
  },
  {
   "cell_type": "code",
   "execution_count": 30,
   "id": "f3d98b15",
   "metadata": {
    "scrolled": true
   },
   "outputs": [
    {
     "data": {
      "text/plain": [
       "['2 TB SSD/64 GB DDR5 MEMORY',\n",
       " '1 TB SSD/32 GB DDR5 MEMORY',\n",
       " '2 TB SSD/32 GB DDR5 MEMORY',\n",
       " '1 TB SSD/8 GB DDR5 MEMORY',\n",
       " '512 GB SSD/16 GB DDR4 MEMORY',\n",
       " '1 TB SSD/16 GB DDR4 MEMORY',\n",
       " '1 TB NVME/16 GB DDR4 MEMORY',\n",
       " '1 TB SSD/16 GB DDR5 MEMORY',\n",
       " '512 GB SSD/16 GB DDR4 MEMORY',\n",
       " '1 TB SSD/16 GB DDR4 MEMORY']"
      ]
     },
     "execution_count": 30,
     "metadata": {},
     "output_type": "execute_result"
    }
   ],
   "source": [
    "memory"
   ]
  },
  {
   "cell_type": "code",
   "execution_count": 31,
   "id": "06494807",
   "metadata": {},
   "outputs": [],
   "source": [
    "import pandas as pd"
   ]
  },
  {
   "cell_type": "code",
   "execution_count": 33,
   "id": "75b46b18",
   "metadata": {},
   "outputs": [
    {
     "data": {
      "text/html": [
       "<div>\n",
       "<style scoped>\n",
       "    .dataframe tbody tr th:only-of-type {\n",
       "        vertical-align: middle;\n",
       "    }\n",
       "\n",
       "    .dataframe tbody tr th {\n",
       "        vertical-align: top;\n",
       "    }\n",
       "\n",
       "    .dataframe thead th {\n",
       "        text-align: right;\n",
       "    }\n",
       "</style>\n",
       "<table border=\"1\" class=\"dataframe\">\n",
       "  <thead>\n",
       "    <tr style=\"text-align: right;\">\n",
       "      <th></th>\n",
       "      <th>Product Name</th>\n",
       "      <th>Seller</th>\n",
       "      <th>OS</th>\n",
       "      <th>Processor</th>\n",
       "      <th>Memory</th>\n",
       "      <th>Display</th>\n",
       "      <th>Price</th>\n",
       "    </tr>\n",
       "  </thead>\n",
       "  <tbody>\n",
       "    <tr>\n",
       "      <th>0</th>\n",
       "      <td>MSI Titan GT77-12UHS</td>\n",
       "      <td>N/A</td>\n",
       "      <td>WINDOWS 11 HOME OS</td>\n",
       "      <td>12TH GEN INTEL CORE I9-12900HX | NA PROCESSOR</td>\n",
       "      <td>2 TB SSD/64 GB DDR5 MEMORY</td>\n",
       "      <td>17.3\" (3840 X 2160) DISPLAY</td>\n",
       "      <td>N/A</td>\n",
       "    </tr>\n",
       "    <tr>\n",
       "      <th>1</th>\n",
       "      <td>Alienware x17 R2</td>\n",
       "      <td>Dell</td>\n",
       "      <td>WINDOWS 11 HOME OS</td>\n",
       "      <td>12TH GEN INTEL CORE I9-12900HK | 5.00 GHZ PROC...</td>\n",
       "      <td>1 TB SSD/32 GB DDR5 MEMORY</td>\n",
       "      <td>17.3\" (1920X1080) DISPLAY</td>\n",
       "      <td>₹ 389,990</td>\n",
       "    </tr>\n",
       "    <tr>\n",
       "      <th>2</th>\n",
       "      <td>Acer Predator Triton 500 SE PT516-52s</td>\n",
       "      <td>N/A</td>\n",
       "      <td>WINDOWS 11 HOME OS</td>\n",
       "      <td>12TH GEN INTEL CORE I7-12700H | 3.50 GHZ PROCE...</td>\n",
       "      <td>2 TB SSD/32 GB DDR5 MEMORY</td>\n",
       "      <td>16\" (2560 X 1600) DISPLAY</td>\n",
       "      <td>₹ 300,000</td>\n",
       "    </tr>\n",
       "    <tr>\n",
       "      <th>3</th>\n",
       "      <td>Omen by HP (16-B1371TX)</td>\n",
       "      <td>Amazon</td>\n",
       "      <td>WINDOWS 11 HOME OS</td>\n",
       "      <td>12TH GEN INTEL CORE I7-12700H | 4.7 GHZ PROCESSOR</td>\n",
       "      <td>1 TB SSD/8 GB DDR5 MEMORY</td>\n",
       "      <td>16.1\" (2560 X 1440) DISPLAY</td>\n",
       "      <td>₹ 196,000</td>\n",
       "    </tr>\n",
       "    <tr>\n",
       "      <th>4</th>\n",
       "      <td>Acer Predator Helios 300 AN515-45 (NH.QBRSI.0</td>\n",
       "      <td>N/A</td>\n",
       "      <td>WINDOWS 11 HOME OS</td>\n",
       "      <td>AMD RYZEN 9-5900HX | NA PROCESSOR</td>\n",
       "      <td>512 GB SSD/16 GB DDR4 MEMORY</td>\n",
       "      <td>15.6\" (2560 X 1440) DISPLAY</td>\n",
       "      <td>₹ 172,999</td>\n",
       "    </tr>\n",
       "    <tr>\n",
       "      <th>5</th>\n",
       "      <td>MSI Delta 15 (A5EFK-083IN)</td>\n",
       "      <td>N/A</td>\n",
       "      <td>WINDOWS 11 HOME OS</td>\n",
       "      <td>AMD 5TH GEN RYZEN 9-5900HX | 3.3GHZ PROCESSOR</td>\n",
       "      <td>1 TB SSD/16 GB DDR4 MEMORY</td>\n",
       "      <td>15.6\" (1920 X 1080) DISPLAY</td>\n",
       "      <td>₹ 188,990</td>\n",
       "    </tr>\n",
       "    <tr>\n",
       "      <th>6</th>\n",
       "      <td>Omen by HP (16-c0141AX)</td>\n",
       "      <td>Amazon</td>\n",
       "      <td>WINDOWS 11 HOME OS</td>\n",
       "      <td>AMD RYZEN™ 9 5900HX | 3.3 GHZ PROCESSOR</td>\n",
       "      <td>1 TB NVME/16 GB DDR4 MEMORY</td>\n",
       "      <td>16.1\" (2560 X 1440) DISPLAY</td>\n",
       "      <td>₹ 129,899</td>\n",
       "    </tr>\n",
       "    <tr>\n",
       "      <th>7</th>\n",
       "      <td>Lenovo Legion 5i Pro (82RF00MGIN)</td>\n",
       "      <td>N/A</td>\n",
       "      <td>WINDOWS 11 HOME OS</td>\n",
       "      <td>12TH GEN INTEL CORE I7-12700H | 3.50 GHZ PROCE...</td>\n",
       "      <td>1 TB SSD/16 GB DDR5 MEMORY</td>\n",
       "      <td>16\" (2560 X 1600) DISPLAY</td>\n",
       "      <td>₹ 230,890</td>\n",
       "    </tr>\n",
       "    <tr>\n",
       "      <th>8</th>\n",
       "      <td>Alienware m15 R5 Ryzen Edition icc-c780001win</td>\n",
       "      <td>Amazon</td>\n",
       "      <td>WINDOWS 11 HOME OS</td>\n",
       "      <td>AMD RYZEN R7-5800H | 4.40 GHZ PROCESSOR</td>\n",
       "      <td>512 GB SSD/16 GB DDR4 MEMORY</td>\n",
       "      <td>15.6\" (1920 X 1080) DISPLAY</td>\n",
       "      <td>₹ 140,999</td>\n",
       "    </tr>\n",
       "    <tr>\n",
       "      <th>9</th>\n",
       "      <td>Lenovo Slim 7 Gen 6 (82K8002JIN)</td>\n",
       "      <td>Croma</td>\n",
       "      <td>WINDOWS 11 HOME OS</td>\n",
       "      <td>LENOVO RYZEN 7-5800H | 3.2 GHZ PROCESSOR</td>\n",
       "      <td>1 TB SSD/16 GB DDR4 MEMORY</td>\n",
       "      <td>15.6 MP | NA DISPLAY</td>\n",
       "      <td>₹ 135,490</td>\n",
       "    </tr>\n",
       "  </tbody>\n",
       "</table>\n",
       "</div>"
      ],
      "text/plain": [
       "                                    Product Name  Seller                  OS  \\\n",
       "0                           MSI Titan GT77-12UHS     N/A  WINDOWS 11 HOME OS   \n",
       "1                               Alienware x17 R2    Dell  WINDOWS 11 HOME OS   \n",
       "2          Acer Predator Triton 500 SE PT516-52s     N/A  WINDOWS 11 HOME OS   \n",
       "3                        Omen by HP (16-B1371TX)  Amazon  WINDOWS 11 HOME OS   \n",
       "4  Acer Predator Helios 300 AN515-45 (NH.QBRSI.0     N/A  WINDOWS 11 HOME OS   \n",
       "5                     MSI Delta 15 (A5EFK-083IN)     N/A  WINDOWS 11 HOME OS   \n",
       "6                        Omen by HP (16-c0141AX)  Amazon  WINDOWS 11 HOME OS   \n",
       "7              Lenovo Legion 5i Pro (82RF00MGIN)     N/A  WINDOWS 11 HOME OS   \n",
       "8  Alienware m15 R5 Ryzen Edition icc-c780001win  Amazon  WINDOWS 11 HOME OS   \n",
       "9               Lenovo Slim 7 Gen 6 (82K8002JIN)   Croma  WINDOWS 11 HOME OS   \n",
       "\n",
       "                                           Processor  \\\n",
       "0      12TH GEN INTEL CORE I9-12900HX | NA PROCESSOR   \n",
       "1  12TH GEN INTEL CORE I9-12900HK | 5.00 GHZ PROC...   \n",
       "2  12TH GEN INTEL CORE I7-12700H | 3.50 GHZ PROCE...   \n",
       "3  12TH GEN INTEL CORE I7-12700H | 4.7 GHZ PROCESSOR   \n",
       "4                  AMD RYZEN 9-5900HX | NA PROCESSOR   \n",
       "5      AMD 5TH GEN RYZEN 9-5900HX | 3.3GHZ PROCESSOR   \n",
       "6            AMD RYZEN™ 9 5900HX | 3.3 GHZ PROCESSOR   \n",
       "7  12TH GEN INTEL CORE I7-12700H | 3.50 GHZ PROCE...   \n",
       "8            AMD RYZEN R7-5800H | 4.40 GHZ PROCESSOR   \n",
       "9           LENOVO RYZEN 7-5800H | 3.2 GHZ PROCESSOR   \n",
       "\n",
       "                         Memory                      Display      Price  \n",
       "0    2 TB SSD/64 GB DDR5 MEMORY  17.3\" (3840 X 2160) DISPLAY        N/A  \n",
       "1    1 TB SSD/32 GB DDR5 MEMORY    17.3\" (1920X1080) DISPLAY  ₹ 389,990  \n",
       "2    2 TB SSD/32 GB DDR5 MEMORY    16\" (2560 X 1600) DISPLAY  ₹ 300,000  \n",
       "3     1 TB SSD/8 GB DDR5 MEMORY  16.1\" (2560 X 1440) DISPLAY  ₹ 196,000  \n",
       "4  512 GB SSD/16 GB DDR4 MEMORY  15.6\" (2560 X 1440) DISPLAY  ₹ 172,999  \n",
       "5    1 TB SSD/16 GB DDR4 MEMORY  15.6\" (1920 X 1080) DISPLAY  ₹ 188,990  \n",
       "6   1 TB NVME/16 GB DDR4 MEMORY  16.1\" (2560 X 1440) DISPLAY  ₹ 129,899  \n",
       "7    1 TB SSD/16 GB DDR5 MEMORY    16\" (2560 X 1600) DISPLAY  ₹ 230,890  \n",
       "8  512 GB SSD/16 GB DDR4 MEMORY  15.6\" (1920 X 1080) DISPLAY  ₹ 140,999  \n",
       "9    1 TB SSD/16 GB DDR4 MEMORY         15.6 MP | NA DISPLAY  ₹ 135,490  "
      ]
     },
     "execution_count": 33,
     "metadata": {},
     "output_type": "execute_result"
    }
   ],
   "source": [
    "df = pd.DataFrame({'Product Name':name,'Seller':seller,'OS':os,'Processor':processor,'Memory':memory,'Display':display,\n",
    "                   'Price':price})\n",
    "df"
   ]
  }
 ],
 "metadata": {
  "kernelspec": {
   "display_name": "Python 3 (ipykernel)",
   "language": "python",
   "name": "python3"
  },
  "language_info": {
   "codemirror_mode": {
    "name": "ipython",
    "version": 3
   },
   "file_extension": ".py",
   "mimetype": "text/x-python",
   "name": "python",
   "nbconvert_exporter": "python",
   "pygments_lexer": "ipython3",
   "version": "3.9.7"
  }
 },
 "nbformat": 4,
 "nbformat_minor": 5
}
