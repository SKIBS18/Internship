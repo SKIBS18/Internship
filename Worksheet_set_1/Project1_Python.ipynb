{
 "cells": [
  {
   "cell_type": "markdown",
   "id": "9317ff2b",
   "metadata": {},
   "source": [
    "                                  Factorial of a number"
   ]
  },
  {
   "cell_type": "code",
   "execution_count": 1,
   "id": "7107cdb3",
   "metadata": {},
   "outputs": [
    {
     "name": "stdout",
     "output_type": "stream",
     "text": [
      "Enter Number:5\n",
      "Factorial is : 120\n"
     ]
    }
   ],
   "source": [
    "i = int(input('Enter Number:'))\n",
    "fac = 1\n",
    "while i > 0:\n",
    "    fac = fac*i\n",
    "    i = i-1\n",
    "    \n",
    "print('Factorial is :',fac)\n",
    "    "
   ]
  },
  {
   "cell_type": "markdown",
   "id": "51d26536",
   "metadata": {},
   "source": [
    "                          Whether a number is prime or composite"
   ]
  },
  {
   "cell_type": "code",
   "execution_count": 2,
   "id": "3b7f87df",
   "metadata": {},
   "outputs": [
    {
     "name": "stdout",
     "output_type": "stream",
     "text": [
      "Enter Number:6\n",
      "Number is composite\n"
     ]
    }
   ],
   "source": [
    "n = int(input('Enter Number:'))\n",
    "count = 0\n",
    "i = 1\n",
    "while(i<=n):\n",
    "    if(i%2==0):\n",
    "        count=count+1\n",
    "    i=i+1\n",
    "if(count==2):\n",
    "    print('Number is prime')\n",
    "else:\n",
    "    print('Number is composite')"
   ]
  },
  {
   "cell_type": "markdown",
   "id": "3bd9ce3b",
   "metadata": {},
   "source": [
    "                        Whether a string is palindrome or not"
   ]
  },
  {
   "cell_type": "code",
   "execution_count": 4,
   "id": "50889f3b",
   "metadata": {},
   "outputs": [
    {
     "name": "stdout",
     "output_type": "stream",
     "text": [
      "Enter String: SO\n",
      "Not Palindrome\n"
     ]
    }
   ],
   "source": [
    "a = input('Enter String: ')\n",
    "b = a[-1::-1]\n",
    "if(a==b):\n",
    "    print('String is Palindrome')\n",
    "else:\n",
    "    print('Not Palindrome')"
   ]
  },
  {
   "cell_type": "markdown",
   "id": "b74a04a8",
   "metadata": {},
   "source": [
    "                 Third side of right-angled triangle from two given sides"
   ]
  },
  {
   "cell_type": "code",
   "execution_count": 5,
   "id": "cfaf5e42",
   "metadata": {},
   "outputs": [
    {
     "name": "stdout",
     "output_type": "stream",
     "text": [
      "Length of shorter side\n",
      "Enter a: 3\n",
      "Enter b: 4\n",
      "Third Side is : 5.0\n"
     ]
    }
   ],
   "source": [
    "import numpy as np\n",
    "\n",
    "print('Length of shorter side')\n",
    "a = float(input('Enter a: '))\n",
    "b = float(input('Enter b: '))\n",
    "c = np.sqrt(a**2 + b**2)\n",
    "print('Third Side is :',c)"
   ]
  },
  {
   "cell_type": "markdown",
   "id": "7167db93",
   "metadata": {},
   "source": [
    "              Frequency of each of the characters present in a given string"
   ]
  },
  {
   "cell_type": "code",
   "execution_count": 6,
   "id": "998f3d3d",
   "metadata": {},
   "outputs": [
    {
     "name": "stdout",
     "output_type": "stream",
     "text": [
      "Enter String: Welcome to Internship Project\n",
      "[1, 4, 1, 2, 3, 1, 4, 3, 3, 3, 3, 1, 2, 3, 4, 2, 2, 1, 1, 1, 1, 3, 1, 2, 3, 1, 4, 2, 3]\n"
     ]
    }
   ],
   "source": [
    "str = input('Enter String: ')\n",
    "l = list(str)\n",
    "freq = [l.count(ele) for ele in l]\n",
    "print(freq)"
   ]
  },
  {
   "cell_type": "code",
   "execution_count": null,
   "id": "79ad6ad2",
   "metadata": {},
   "outputs": [],
   "source": []
  }
 ],
 "metadata": {
  "kernelspec": {
   "display_name": "Python 3 (ipykernel)",
   "language": "python",
   "name": "python3"
  },
  "language_info": {
   "codemirror_mode": {
    "name": "ipython",
    "version": 3
   },
   "file_extension": ".py",
   "mimetype": "text/x-python",
   "name": "python",
   "nbconvert_exporter": "python",
   "pygments_lexer": "ipython3",
   "version": "3.9.7"
  }
 },
 "nbformat": 4,
 "nbformat_minor": 5
}
